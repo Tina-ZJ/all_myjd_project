{
 "cells": [
  {
   "cell_type": "code",
   "execution_count": 1,
   "metadata": {},
   "outputs": [],
   "source": [
    "import lightgbm as lgb\n",
    "import numpy as np \n",
    "import pandas as pd\n",
    "from sklearn.model_selection import train_test_split\n",
    "import seaborn as sns\n",
    "import matplotlib.pyplot as plt\n",
    "import seaborn as sns\n",
    "import shap\n",
    "import graphviz"
   ]
  },
  {
   "cell_type": "code",
   "execution_count": 2,
   "metadata": {},
   "outputs": [
    {
     "data": {
      "text/html": [
       "<div>\n",
       "<style scoped>\n",
       "    .dataframe tbody tr th:only-of-type {\n",
       "        vertical-align: middle;\n",
       "    }\n",
       "\n",
       "    .dataframe tbody tr th {\n",
       "        vertical-align: top;\n",
       "    }\n",
       "\n",
       "    .dataframe thead th {\n",
       "        text-align: right;\n",
       "    }\n",
       "</style>\n",
       "<table border=\"1\" class=\"dataframe\">\n",
       "  <thead>\n",
       "    <tr style=\"text-align: right;\">\n",
       "      <th></th>\n",
       "      <th>label</th>\n",
       "      <th>query</th>\n",
       "      <th>term</th>\n",
       "      <th>cid3</th>\n",
       "      <th>brand</th>\n",
       "      <th>ctf</th>\n",
       "      <th>ctf_cofidence</th>\n",
       "      <th>rf</th>\n",
       "      <th>icf</th>\n",
       "      <th>icf_confidence</th>\n",
       "      <th>icf_max</th>\n",
       "      <th>igm</th>\n",
       "      <th>entropy</th>\n",
       "    </tr>\n",
       "  </thead>\n",
       "  <tbody>\n",
       "    <tr>\n",
       "      <th>0</th>\n",
       "      <td>2</td>\n",
       "      <td>德国大马士革菜刀</td>\n",
       "      <td>菜刀</td>\n",
       "      <td>6209</td>\n",
       "      <td>0</td>\n",
       "      <td>1.257203</td>\n",
       "      <td>0.895938</td>\n",
       "      <td>6.559276</td>\n",
       "      <td>3.466209</td>\n",
       "      <td>3.434476</td>\n",
       "      <td>3.123611</td>\n",
       "      <td>0.107578</td>\n",
       "      <td>1.514633</td>\n",
       "    </tr>\n",
       "    <tr>\n",
       "      <th>1</th>\n",
       "      <td>0</td>\n",
       "      <td>背包40升</td>\n",
       "      <td>升</td>\n",
       "      <td>1472</td>\n",
       "      <td>0</td>\n",
       "      <td>0.140667</td>\n",
       "      <td>0.077016</td>\n",
       "      <td>6.328594</td>\n",
       "      <td>0.795462</td>\n",
       "      <td>0.195127</td>\n",
       "      <td>0.456383</td>\n",
       "      <td>0.000270</td>\n",
       "      <td>78.475716</td>\n",
       "    </tr>\n",
       "    <tr>\n",
       "      <th>2</th>\n",
       "      <td>1</td>\n",
       "      <td>背包40升</td>\n",
       "      <td>40</td>\n",
       "      <td>1472</td>\n",
       "      <td>0</td>\n",
       "      <td>0.015384</td>\n",
       "      <td>0.020547</td>\n",
       "      <td>2.265659</td>\n",
       "      <td>0.426206</td>\n",
       "      <td>-0.632171</td>\n",
       "      <td>0.087208</td>\n",
       "      <td>0.000010</td>\n",
       "      <td>285.130160</td>\n",
       "    </tr>\n",
       "    <tr>\n",
       "      <th>3</th>\n",
       "      <td>2</td>\n",
       "      <td>背包40升</td>\n",
       "      <td>背包</td>\n",
       "      <td>1472</td>\n",
       "      <td>0</td>\n",
       "      <td>0.589172</td>\n",
       "      <td>0.604040</td>\n",
       "      <td>7.789040</td>\n",
       "      <td>1.557790</td>\n",
       "      <td>1.321306</td>\n",
       "      <td>1.218411</td>\n",
       "      <td>0.000933</td>\n",
       "      <td>32.017130</td>\n",
       "    </tr>\n",
       "    <tr>\n",
       "      <th>4</th>\n",
       "      <td>0</td>\n",
       "      <td>胖子棉服</td>\n",
       "      <td>胖子</td>\n",
       "      <td>9724</td>\n",
       "      <td>0</td>\n",
       "      <td>0.051179</td>\n",
       "      <td>0.108041</td>\n",
       "      <td>4.480143</td>\n",
       "      <td>2.255441</td>\n",
       "      <td>2.144703</td>\n",
       "      <td>1.915496</td>\n",
       "      <td>0.002880</td>\n",
       "      <td>11.665599</td>\n",
       "    </tr>\n",
       "    <tr>\n",
       "      <th>5</th>\n",
       "      <td>1</td>\n",
       "      <td>胖子棉服</td>\n",
       "      <td>棉服</td>\n",
       "      <td>9724</td>\n",
       "      <td>0</td>\n",
       "      <td>0.884975</td>\n",
       "      <td>1.000000</td>\n",
       "      <td>6.697021</td>\n",
       "      <td>2.847753</td>\n",
       "      <td>2.788030</td>\n",
       "      <td>2.506897</td>\n",
       "      <td>0.004982</td>\n",
       "      <td>14.360662</td>\n",
       "    </tr>\n",
       "    <tr>\n",
       "      <th>6</th>\n",
       "      <td>0</td>\n",
       "      <td>胜利牌羽毛球拍</td>\n",
       "      <td>胜利牌</td>\n",
       "      <td>1695</td>\n",
       "      <td>0</td>\n",
       "      <td>0.000005</td>\n",
       "      <td>0.001046</td>\n",
       "      <td>1.040822</td>\n",
       "      <td>5.576423</td>\n",
       "      <td>5.572629</td>\n",
       "      <td>5.206833</td>\n",
       "      <td>0.163941</td>\n",
       "      <td>0.070711</td>\n",
       "    </tr>\n",
       "    <tr>\n",
       "      <th>7</th>\n",
       "      <td>1</td>\n",
       "      <td>胜利牌羽毛球拍</td>\n",
       "      <td>羽毛球拍</td>\n",
       "      <td>1695</td>\n",
       "      <td>0</td>\n",
       "      <td>1.314902</td>\n",
       "      <td>1.000000</td>\n",
       "      <td>9.469508</td>\n",
       "      <td>3.485330</td>\n",
       "      <td>3.454207</td>\n",
       "      <td>3.142659</td>\n",
       "      <td>0.034481</td>\n",
       "      <td>4.636137</td>\n",
       "    </tr>\n",
       "    <tr>\n",
       "      <th>8</th>\n",
       "      <td>0</td>\n",
       "      <td>胡辣汤粉</td>\n",
       "      <td>粉</td>\n",
       "      <td>17699</td>\n",
       "      <td>0</td>\n",
       "      <td>0.020531</td>\n",
       "      <td>0.014704</td>\n",
       "      <td>1.924409</td>\n",
       "      <td>0.672769</td>\n",
       "      <td>-0.041180</td>\n",
       "      <td>0.333720</td>\n",
       "      <td>0.000053</td>\n",
       "      <td>160.208470</td>\n",
       "    </tr>\n",
       "    <tr>\n",
       "      <th>9</th>\n",
       "      <td>1</td>\n",
       "      <td>胡辣汤粉</td>\n",
       "      <td>胡辣汤</td>\n",
       "      <td>17699</td>\n",
       "      <td>0</td>\n",
       "      <td>0.291121</td>\n",
       "      <td>1.000000</td>\n",
       "      <td>9.089791</td>\n",
       "      <td>4.388198</td>\n",
       "      <td>4.375697</td>\n",
       "      <td>4.039902</td>\n",
       "      <td>0.337294</td>\n",
       "      <td>0.687750</td>\n",
       "    </tr>\n",
       "    <tr>\n",
       "      <th>10</th>\n",
       "      <td>0</td>\n",
       "      <td>胰岛素注射笔收纳盒</td>\n",
       "      <td>收纳盒</td>\n",
       "      <td>12187</td>\n",
       "      <td>0</td>\n",
       "      <td>0.003830</td>\n",
       "      <td>0.004399</td>\n",
       "      <td>1.109133</td>\n",
       "      <td>1.472231</td>\n",
       "      <td>1.211628</td>\n",
       "      <td>1.132898</td>\n",
       "      <td>0.000455</td>\n",
       "      <td>42.847153</td>\n",
       "    </tr>\n",
       "    <tr>\n",
       "      <th>11</th>\n",
       "      <td>1</td>\n",
       "      <td>胰岛素注射笔收纳盒</td>\n",
       "      <td>注射笔</td>\n",
       "      <td>12187</td>\n",
       "      <td>0</td>\n",
       "      <td>0.051620</td>\n",
       "      <td>1.000000</td>\n",
       "      <td>7.327010</td>\n",
       "      <td>5.709954</td>\n",
       "      <td>5.706635</td>\n",
       "      <td>5.336045</td>\n",
       "      <td>0.558835</td>\n",
       "      <td>0.206974</td>\n",
       "    </tr>\n",
       "    <tr>\n",
       "      <th>12</th>\n",
       "      <td>2</td>\n",
       "      <td>胰岛素注射笔收纳盒</td>\n",
       "      <td>胰岛素</td>\n",
       "      <td>12187</td>\n",
       "      <td>0</td>\n",
       "      <td>0.102910</td>\n",
       "      <td>0.911350</td>\n",
       "      <td>6.330249</td>\n",
       "      <td>3.565695</td>\n",
       "      <td>3.537010</td>\n",
       "      <td>3.222702</td>\n",
       "      <td>0.025076</td>\n",
       "      <td>1.658728</td>\n",
       "    </tr>\n",
       "    <tr>\n",
       "      <th>13</th>\n",
       "      <td>0</td>\n",
       "      <td>脚链男黄金</td>\n",
       "      <td>男</td>\n",
       "      <td>13908</td>\n",
       "      <td>0</td>\n",
       "      <td>0.090481</td>\n",
       "      <td>0.050683</td>\n",
       "      <td>1.365390</td>\n",
       "      <td>0.808655</td>\n",
       "      <td>0.219045</td>\n",
       "      <td>0.469572</td>\n",
       "      <td>0.000028</td>\n",
       "      <td>273.743700</td>\n",
       "    </tr>\n",
       "    <tr>\n",
       "      <th>14</th>\n",
       "      <td>1</td>\n",
       "      <td>脚链男黄金</td>\n",
       "      <td>脚链</td>\n",
       "      <td>13908</td>\n",
       "      <td>0</td>\n",
       "      <td>0.094254</td>\n",
       "      <td>0.328431</td>\n",
       "      <td>3.929811</td>\n",
       "      <td>3.612813</td>\n",
       "      <td>3.585466</td>\n",
       "      <td>3.269619</td>\n",
       "      <td>0.028287</td>\n",
       "      <td>3.271174</td>\n",
       "    </tr>\n",
       "    <tr>\n",
       "      <th>15</th>\n",
       "      <td>2</td>\n",
       "      <td>脚链男黄金</td>\n",
       "      <td>黄金</td>\n",
       "      <td>13908</td>\n",
       "      <td>0</td>\n",
       "      <td>1.051443</td>\n",
       "      <td>0.959917</td>\n",
       "      <td>8.023978</td>\n",
       "      <td>0.857087</td>\n",
       "      <td>0.304751</td>\n",
       "      <td>0.517991</td>\n",
       "      <td>0.000292</td>\n",
       "      <td>48.883453</td>\n",
       "    </tr>\n",
       "    <tr>\n",
       "      <th>16</th>\n",
       "      <td>0</td>\n",
       "      <td>脱式计算</td>\n",
       "      <td>脱式</td>\n",
       "      <td>4768</td>\n",
       "      <td>0</td>\n",
       "      <td>0.003108</td>\n",
       "      <td>0.460903</td>\n",
       "      <td>4.193728</td>\n",
       "      <td>4.246368</td>\n",
       "      <td>4.231948</td>\n",
       "      <td>3.899320</td>\n",
       "      <td>0.018035</td>\n",
       "      <td>0.256594</td>\n",
       "    </tr>\n",
       "    <tr>\n",
       "      <th>17</th>\n",
       "      <td>1</td>\n",
       "      <td>脱式计算</td>\n",
       "      <td>计算</td>\n",
       "      <td>4768</td>\n",
       "      <td>0</td>\n",
       "      <td>0.069971</td>\n",
       "      <td>0.280707</td>\n",
       "      <td>6.269277</td>\n",
       "      <td>1.769066</td>\n",
       "      <td>1.582143</td>\n",
       "      <td>1.429555</td>\n",
       "      <td>0.000667</td>\n",
       "      <td>15.545864</td>\n",
       "    </tr>\n",
       "    <tr>\n",
       "      <th>18</th>\n",
       "      <td>0</td>\n",
       "      <td>脱眉毛</td>\n",
       "      <td>脱</td>\n",
       "      <td>1423</td>\n",
       "      <td>0</td>\n",
       "      <td>0.002953</td>\n",
       "      <td>0.006387</td>\n",
       "      <td>3.256136</td>\n",
       "      <td>1.476365</td>\n",
       "      <td>1.216990</td>\n",
       "      <td>1.137030</td>\n",
       "      <td>0.001521</td>\n",
       "      <td>11.033603</td>\n",
       "    </tr>\n",
       "    <tr>\n",
       "      <th>19</th>\n",
       "      <td>1</td>\n",
       "      <td>脱眉毛</td>\n",
       "      <td>眉毛</td>\n",
       "      <td>1423</td>\n",
       "      <td>0</td>\n",
       "      <td>0.058415</td>\n",
       "      <td>0.393548</td>\n",
       "      <td>6.416659</td>\n",
       "      <td>3.198614</td>\n",
       "      <td>3.156939</td>\n",
       "      <td>2.856902</td>\n",
       "      <td>0.017827</td>\n",
       "      <td>2.421953</td>\n",
       "    </tr>\n",
       "  </tbody>\n",
       "</table>\n",
       "</div>"
      ],
      "text/plain": [
       "    label      query  term   cid3  brand       ctf  ctf_cofidence        rf  \\\n",
       "0       2   德国大马士革菜刀    菜刀   6209      0  1.257203       0.895938  6.559276   \n",
       "1       0      背包40升     升   1472      0  0.140667       0.077016  6.328594   \n",
       "2       1      背包40升    40   1472      0  0.015384       0.020547  2.265659   \n",
       "3       2      背包40升    背包   1472      0  0.589172       0.604040  7.789040   \n",
       "4       0       胖子棉服    胖子   9724      0  0.051179       0.108041  4.480143   \n",
       "5       1       胖子棉服    棉服   9724      0  0.884975       1.000000  6.697021   \n",
       "6       0    胜利牌羽毛球拍   胜利牌   1695      0  0.000005       0.001046  1.040822   \n",
       "7       1    胜利牌羽毛球拍  羽毛球拍   1695      0  1.314902       1.000000  9.469508   \n",
       "8       0       胡辣汤粉     粉  17699      0  0.020531       0.014704  1.924409   \n",
       "9       1       胡辣汤粉   胡辣汤  17699      0  0.291121       1.000000  9.089791   \n",
       "10      0  胰岛素注射笔收纳盒   收纳盒  12187      0  0.003830       0.004399  1.109133   \n",
       "11      1  胰岛素注射笔收纳盒   注射笔  12187      0  0.051620       1.000000  7.327010   \n",
       "12      2  胰岛素注射笔收纳盒   胰岛素  12187      0  0.102910       0.911350  6.330249   \n",
       "13      0      脚链男黄金     男  13908      0  0.090481       0.050683  1.365390   \n",
       "14      1      脚链男黄金    脚链  13908      0  0.094254       0.328431  3.929811   \n",
       "15      2      脚链男黄金    黄金  13908      0  1.051443       0.959917  8.023978   \n",
       "16      0       脱式计算    脱式   4768      0  0.003108       0.460903  4.193728   \n",
       "17      1       脱式计算    计算   4768      0  0.069971       0.280707  6.269277   \n",
       "18      0        脱眉毛     脱   1423      0  0.002953       0.006387  3.256136   \n",
       "19      1        脱眉毛    眉毛   1423      0  0.058415       0.393548  6.416659   \n",
       "\n",
       "         icf  icf_confidence   icf_max       igm     entropy  \n",
       "0   3.466209        3.434476  3.123611  0.107578    1.514633  \n",
       "1   0.795462        0.195127  0.456383  0.000270   78.475716  \n",
       "2   0.426206       -0.632171  0.087208  0.000010  285.130160  \n",
       "3   1.557790        1.321306  1.218411  0.000933   32.017130  \n",
       "4   2.255441        2.144703  1.915496  0.002880   11.665599  \n",
       "5   2.847753        2.788030  2.506897  0.004982   14.360662  \n",
       "6   5.576423        5.572629  5.206833  0.163941    0.070711  \n",
       "7   3.485330        3.454207  3.142659  0.034481    4.636137  \n",
       "8   0.672769       -0.041180  0.333720  0.000053  160.208470  \n",
       "9   4.388198        4.375697  4.039902  0.337294    0.687750  \n",
       "10  1.472231        1.211628  1.132898  0.000455   42.847153  \n",
       "11  5.709954        5.706635  5.336045  0.558835    0.206974  \n",
       "12  3.565695        3.537010  3.222702  0.025076    1.658728  \n",
       "13  0.808655        0.219045  0.469572  0.000028  273.743700  \n",
       "14  3.612813        3.585466  3.269619  0.028287    3.271174  \n",
       "15  0.857087        0.304751  0.517991  0.000292   48.883453  \n",
       "16  4.246368        4.231948  3.899320  0.018035    0.256594  \n",
       "17  1.769066        1.582143  1.429555  0.000667   15.545864  \n",
       "18  1.476365        1.216990  1.137030  0.001521   11.033603  \n",
       "19  3.198614        3.156939  2.856902  0.017827    2.421953  "
      ]
     },
     "execution_count": 2,
     "metadata": {},
     "output_type": "execute_result"
    }
   ],
   "source": [
    "df = pd.read_csv('train.csv')\n",
    "df.head(20)"
   ]
  },
  {
   "cell_type": "code",
   "execution_count": 3,
   "metadata": {},
   "outputs": [
    {
     "data": {
      "text/plain": [
       "Index(['label', 'query', 'term', 'cid3', 'brand', 'ctf', 'ctf_cofidence', 'rf',\n",
       "       'icf', 'icf_confidence', 'icf_max', 'igm', 'entropy'],\n",
       "      dtype='object')"
      ]
     },
     "execution_count": 3,
     "metadata": {},
     "output_type": "execute_result"
    }
   ],
   "source": [
    "df.columns"
   ]
  },
  {
   "cell_type": "code",
   "execution_count": 4,
   "metadata": {},
   "outputs": [],
   "source": [
    "X = df.drop(['label','query','term'], axis=1)\n",
    "y = df.label"
   ]
  },
  {
   "cell_type": "code",
   "execution_count": 5,
   "metadata": {},
   "outputs": [],
   "source": [
    "group=np.loadtxt('./group.txt')"
   ]
  },
  {
   "cell_type": "code",
   "execution_count": 6,
   "metadata": {},
   "outputs": [],
   "source": [
    "train_data = lgb.Dataset(X, label=y, group=group,free_raw_data=False)"
   ]
  },
  {
   "cell_type": "code",
   "execution_count": 7,
   "metadata": {},
   "outputs": [],
   "source": [
    "params = {\n",
    "    'task' : 'train', \n",
    "    'boosting_type': 'gbdt',\n",
    "    'objective': 'lambdarank',\n",
    "    'num_iterations': 200,\n",
    "    'learning_rate':0.1,\n",
    "    'num_leaves': 31,\n",
    "    'tree_learner': 'serial',\n",
    "    'max_depth': 6,\n",
    "    'metric': 'ndcg',\n",
    "    'metric_freq': 10,\n",
    "    #'train_metric':True,\n",
    "    #'ndcg_at':[2],\n",
    "    'max_bin':255,\n",
    "    'max_position': 20,\n",
    "    'verbose':0\n",
    "}"
   ]
  },
  {
   "cell_type": "code",
   "execution_count": 8,
   "metadata": {},
   "outputs": [],
   "source": [
    "categorical_feature=[0,1]"
   ]
  },
  {
   "cell_type": "code",
   "execution_count": 9,
   "metadata": {},
   "outputs": [
    {
     "name": "stderr",
     "output_type": "stream",
     "text": [
      "/media/cfs/zhangjun386/.pylib/lib/python3.6/site-packages/lightgbm/engine.py:116: UserWarning: Found `num_iterations` in params. Will use it instead of argument\n",
      "  warnings.warn(\"Found `{}` in params. Will use it instead of argument\".format(alias))\n",
      "/media/cfs/zhangjun386/.pylib/lib/python3.6/site-packages/lightgbm/basic.py:1190: UserWarning: categorical_feature in Dataset is overridden.\n",
      "New categorical_feature is [0, 1]\n",
      "  'New categorical_feature is {}'.format(sorted(list(categorical_feature))))\n"
     ]
    },
    {
     "name": "stdout",
     "output_type": "stream",
     "text": [
      "[1]\ttraining's ndcg@1: 0.831405\ttraining's ndcg@2: 0.919083\ttraining's ndcg@3: 0.935083\ttraining's ndcg@4: 0.93635\ttraining's ndcg@5: 0.936408\n",
      "[2]\ttraining's ndcg@1: 0.867608\ttraining's ndcg@2: 0.936188\ttraining's ndcg@3: 0.948559\ttraining's ndcg@4: 0.949519\ttraining's ndcg@5: 0.94956\n",
      "[3]\ttraining's ndcg@1: 0.877976\ttraining's ndcg@2: 0.941373\ttraining's ndcg@3: 0.95263\ttraining's ndcg@4: 0.953455\ttraining's ndcg@5: 0.953489\n",
      "[4]\ttraining's ndcg@1: 0.885902\ttraining's ndcg@2: 0.945834\ttraining's ndcg@3: 0.955891\ttraining's ndcg@4: 0.956583\ttraining's ndcg@5: 0.956611\n",
      "[5]\ttraining's ndcg@1: 0.890277\ttraining's ndcg@2: 0.948521\ttraining's ndcg@3: 0.957782\ttraining's ndcg@4: 0.95839\ttraining's ndcg@5: 0.958413\n",
      "[6]\ttraining's ndcg@1: 0.892761\ttraining's ndcg@2: 0.949933\ttraining's ndcg@3: 0.958803\ttraining's ndcg@4: 0.959376\ttraining's ndcg@5: 0.959398\n",
      "[7]\ttraining's ndcg@1: 0.895951\ttraining's ndcg@2: 0.951582\ttraining's ndcg@3: 0.960087\ttraining's ndcg@4: 0.960608\ttraining's ndcg@5: 0.960627\n",
      "[8]\ttraining's ndcg@1: 0.898227\ttraining's ndcg@2: 0.952748\ttraining's ndcg@3: 0.960978\ttraining's ndcg@4: 0.961479\ttraining's ndcg@5: 0.961497\n",
      "[9]\ttraining's ndcg@1: 0.900168\ttraining's ndcg@2: 0.953681\ttraining's ndcg@3: 0.961732\ttraining's ndcg@4: 0.962214\ttraining's ndcg@5: 0.962231\n",
      "[10]\ttraining's ndcg@1: 0.901928\ttraining's ndcg@2: 0.954431\ttraining's ndcg@3: 0.962381\ttraining's ndcg@4: 0.962863\ttraining's ndcg@5: 0.96288\n",
      "[11]\ttraining's ndcg@1: 0.903154\ttraining's ndcg@2: 0.955025\ttraining's ndcg@3: 0.962866\ttraining's ndcg@4: 0.963332\ttraining's ndcg@5: 0.963349\n",
      "[12]\ttraining's ndcg@1: 0.903916\ttraining's ndcg@2: 0.955345\ttraining's ndcg@3: 0.963147\ttraining's ndcg@4: 0.96361\ttraining's ndcg@5: 0.963627\n",
      "[13]\ttraining's ndcg@1: 0.90499\ttraining's ndcg@2: 0.955826\ttraining's ndcg@3: 0.963553\ttraining's ndcg@4: 0.964012\ttraining's ndcg@5: 0.964028\n",
      "[14]\ttraining's ndcg@1: 0.905715\ttraining's ndcg@2: 0.956152\ttraining's ndcg@3: 0.96383\ttraining's ndcg@4: 0.964283\ttraining's ndcg@5: 0.964299\n",
      "[15]\ttraining's ndcg@1: 0.906553\ttraining's ndcg@2: 0.956542\ttraining's ndcg@3: 0.964146\ttraining's ndcg@4: 0.964596\ttraining's ndcg@5: 0.964612\n",
      "[16]\ttraining's ndcg@1: 0.907542\ttraining's ndcg@2: 0.957078\ttraining's ndcg@3: 0.964554\ttraining's ndcg@4: 0.964985\ttraining's ndcg@5: 0.965\n",
      "[17]\ttraining's ndcg@1: 0.908245\ttraining's ndcg@2: 0.957398\ttraining's ndcg@3: 0.964818\ttraining's ndcg@4: 0.965247\ttraining's ndcg@5: 0.965262\n",
      "[18]\ttraining's ndcg@1: 0.908907\ttraining's ndcg@2: 0.957673\ttraining's ndcg@3: 0.965067\ttraining's ndcg@4: 0.96549\ttraining's ndcg@5: 0.965505\n",
      "[19]\ttraining's ndcg@1: 0.909489\ttraining's ndcg@2: 0.957949\ttraining's ndcg@3: 0.965287\ttraining's ndcg@4: 0.965708\ttraining's ndcg@5: 0.965723\n",
      "[20]\ttraining's ndcg@1: 0.910203\ttraining's ndcg@2: 0.958242\ttraining's ndcg@3: 0.96555\ttraining's ndcg@4: 0.965969\ttraining's ndcg@5: 0.965984\n",
      "[21]\ttraining's ndcg@1: 0.910871\ttraining's ndcg@2: 0.958558\ttraining's ndcg@3: 0.965806\ttraining's ndcg@4: 0.966221\ttraining's ndcg@5: 0.966236\n",
      "[22]\ttraining's ndcg@1: 0.911515\ttraining's ndcg@2: 0.95881\ttraining's ndcg@3: 0.966041\ttraining's ndcg@4: 0.966453\ttraining's ndcg@5: 0.966467\n",
      "[23]\ttraining's ndcg@1: 0.912075\ttraining's ndcg@2: 0.959056\ttraining's ndcg@3: 0.966251\ttraining's ndcg@4: 0.966658\ttraining's ndcg@5: 0.966672\n",
      "[24]\ttraining's ndcg@1: 0.912654\ttraining's ndcg@2: 0.959312\ttraining's ndcg@3: 0.966468\ttraining's ndcg@4: 0.966874\ttraining's ndcg@5: 0.966888\n",
      "[25]\ttraining's ndcg@1: 0.913049\ttraining's ndcg@2: 0.959446\ttraining's ndcg@3: 0.966606\ttraining's ndcg@4: 0.967012\ttraining's ndcg@5: 0.967027\n",
      "[26]\ttraining's ndcg@1: 0.913482\ttraining's ndcg@2: 0.959661\ttraining's ndcg@3: 0.966774\ttraining's ndcg@4: 0.967178\ttraining's ndcg@5: 0.967192\n",
      "[27]\ttraining's ndcg@1: 0.913948\ttraining's ndcg@2: 0.959845\ttraining's ndcg@3: 0.966945\ttraining's ndcg@4: 0.967348\ttraining's ndcg@5: 0.967362\n",
      "[28]\ttraining's ndcg@1: 0.914256\ttraining's ndcg@2: 0.959982\ttraining's ndcg@3: 0.967061\ttraining's ndcg@4: 0.967464\ttraining's ndcg@5: 0.967478\n",
      "[29]\ttraining's ndcg@1: 0.914764\ttraining's ndcg@2: 0.960227\ttraining's ndcg@3: 0.967263\ttraining's ndcg@4: 0.967661\ttraining's ndcg@5: 0.967675\n",
      "[30]\ttraining's ndcg@1: 0.915084\ttraining's ndcg@2: 0.960374\ttraining's ndcg@3: 0.967384\ttraining's ndcg@4: 0.96778\ttraining's ndcg@5: 0.967794\n",
      "[31]\ttraining's ndcg@1: 0.915548\ttraining's ndcg@2: 0.960556\ttraining's ndcg@3: 0.967553\ttraining's ndcg@4: 0.967947\ttraining's ndcg@5: 0.967962\n",
      "[32]\ttraining's ndcg@1: 0.915972\ttraining's ndcg@2: 0.960721\ttraining's ndcg@3: 0.967708\ttraining's ndcg@4: 0.968101\ttraining's ndcg@5: 0.968115\n",
      "[33]\ttraining's ndcg@1: 0.916321\ttraining's ndcg@2: 0.960889\ttraining's ndcg@3: 0.967844\ttraining's ndcg@4: 0.968236\ttraining's ndcg@5: 0.96825\n",
      "[34]\ttraining's ndcg@1: 0.916699\ttraining's ndcg@2: 0.961039\ttraining's ndcg@3: 0.967984\ttraining's ndcg@4: 0.968374\ttraining's ndcg@5: 0.968388\n",
      "[35]\ttraining's ndcg@1: 0.917081\ttraining's ndcg@2: 0.961216\ttraining's ndcg@3: 0.968132\ttraining's ndcg@4: 0.968521\ttraining's ndcg@5: 0.968535\n",
      "[36]\ttraining's ndcg@1: 0.917455\ttraining's ndcg@2: 0.961375\ttraining's ndcg@3: 0.968268\ttraining's ndcg@4: 0.96866\ttraining's ndcg@5: 0.968673\n",
      "[37]\ttraining's ndcg@1: 0.917838\ttraining's ndcg@2: 0.961532\ttraining's ndcg@3: 0.968409\ttraining's ndcg@4: 0.9688\ttraining's ndcg@5: 0.968813\n",
      "[38]\ttraining's ndcg@1: 0.918145\ttraining's ndcg@2: 0.96168\ttraining's ndcg@3: 0.968528\ttraining's ndcg@4: 0.968917\ttraining's ndcg@5: 0.968931\n",
      "[39]\ttraining's ndcg@1: 0.91839\ttraining's ndcg@2: 0.961782\ttraining's ndcg@3: 0.968613\ttraining's ndcg@4: 0.969005\ttraining's ndcg@5: 0.969019\n",
      "[40]\ttraining's ndcg@1: 0.91876\ttraining's ndcg@2: 0.961945\ttraining's ndcg@3: 0.968751\ttraining's ndcg@4: 0.969141\ttraining's ndcg@5: 0.969155\n",
      "[41]\ttraining's ndcg@1: 0.918965\ttraining's ndcg@2: 0.962041\ttraining's ndcg@3: 0.968833\ttraining's ndcg@4: 0.969221\ttraining's ndcg@5: 0.969235\n",
      "[42]\ttraining's ndcg@1: 0.919233\ttraining's ndcg@2: 0.962158\ttraining's ndcg@3: 0.968936\ttraining's ndcg@4: 0.969323\ttraining's ndcg@5: 0.969337\n",
      "[43]\ttraining's ndcg@1: 0.919481\ttraining's ndcg@2: 0.962267\ttraining's ndcg@3: 0.969028\ttraining's ndcg@4: 0.969415\ttraining's ndcg@5: 0.969429\n",
      "[44]\ttraining's ndcg@1: 0.919827\ttraining's ndcg@2: 0.962426\ttraining's ndcg@3: 0.969162\ttraining's ndcg@4: 0.969547\ttraining's ndcg@5: 0.969561\n",
      "[45]\ttraining's ndcg@1: 0.920121\ttraining's ndcg@2: 0.962543\ttraining's ndcg@3: 0.969271\ttraining's ndcg@4: 0.969655\ttraining's ndcg@5: 0.969669\n",
      "[46]\ttraining's ndcg@1: 0.920393\ttraining's ndcg@2: 0.962661\ttraining's ndcg@3: 0.969371\ttraining's ndcg@4: 0.969755\ttraining's ndcg@5: 0.969769\n",
      "[47]\ttraining's ndcg@1: 0.920651\ttraining's ndcg@2: 0.962776\ttraining's ndcg@3: 0.969467\ttraining's ndcg@4: 0.969852\ttraining's ndcg@5: 0.969866\n",
      "[48]\ttraining's ndcg@1: 0.920837\ttraining's ndcg@2: 0.962873\ttraining's ndcg@3: 0.969539\ttraining's ndcg@4: 0.969924\ttraining's ndcg@5: 0.969938\n",
      "[49]\ttraining's ndcg@1: 0.921112\ttraining's ndcg@2: 0.962984\ttraining's ndcg@3: 0.969639\ttraining's ndcg@4: 0.970025\ttraining's ndcg@5: 0.970039\n",
      "[50]\ttraining's ndcg@1: 0.921369\ttraining's ndcg@2: 0.963086\ttraining's ndcg@3: 0.969734\ttraining's ndcg@4: 0.970118\ttraining's ndcg@5: 0.970132\n",
      "[51]\ttraining's ndcg@1: 0.921648\ttraining's ndcg@2: 0.963207\ttraining's ndcg@3: 0.96984\ttraining's ndcg@4: 0.970223\ttraining's ndcg@5: 0.970236\n",
      "[52]\ttraining's ndcg@1: 0.921842\ttraining's ndcg@2: 0.963309\ttraining's ndcg@3: 0.969922\ttraining's ndcg@4: 0.970301\ttraining's ndcg@5: 0.970314\n",
      "[53]\ttraining's ndcg@1: 0.922094\ttraining's ndcg@2: 0.963412\ttraining's ndcg@3: 0.970015\ttraining's ndcg@4: 0.970393\ttraining's ndcg@5: 0.970406\n",
      "[54]\ttraining's ndcg@1: 0.922295\ttraining's ndcg@2: 0.963496\ttraining's ndcg@3: 0.970089\ttraining's ndcg@4: 0.970466\ttraining's ndcg@5: 0.970479\n",
      "[55]\ttraining's ndcg@1: 0.92247\ttraining's ndcg@2: 0.963579\ttraining's ndcg@3: 0.970154\ttraining's ndcg@4: 0.970533\ttraining's ndcg@5: 0.970546\n",
      "[56]\ttraining's ndcg@1: 0.922745\ttraining's ndcg@2: 0.963695\ttraining's ndcg@3: 0.970255\ttraining's ndcg@4: 0.970635\ttraining's ndcg@5: 0.970648\n",
      "[57]\ttraining's ndcg@1: 0.923006\ttraining's ndcg@2: 0.963804\ttraining's ndcg@3: 0.970353\ttraining's ndcg@4: 0.970731\ttraining's ndcg@5: 0.970744\n",
      "[58]\ttraining's ndcg@1: 0.923183\ttraining's ndcg@2: 0.963872\ttraining's ndcg@3: 0.970416\ttraining's ndcg@4: 0.970795\ttraining's ndcg@5: 0.970808\n",
      "[59]\ttraining's ndcg@1: 0.923476\ttraining's ndcg@2: 0.964\ttraining's ndcg@3: 0.970527\ttraining's ndcg@4: 0.970904\ttraining's ndcg@5: 0.970917\n",
      "[60]\ttraining's ndcg@1: 0.923634\ttraining's ndcg@2: 0.96407\ttraining's ndcg@3: 0.970585\ttraining's ndcg@4: 0.970963\ttraining's ndcg@5: 0.970976\n",
      "[61]\ttraining's ndcg@1: 0.923785\ttraining's ndcg@2: 0.964136\ttraining's ndcg@3: 0.970643\ttraining's ndcg@4: 0.97102\ttraining's ndcg@5: 0.971033\n",
      "[62]\ttraining's ndcg@1: 0.924195\ttraining's ndcg@2: 0.964285\ttraining's ndcg@3: 0.970785\ttraining's ndcg@4: 0.971162\ttraining's ndcg@5: 0.971175\n",
      "[63]\ttraining's ndcg@1: 0.924379\ttraining's ndcg@2: 0.964372\ttraining's ndcg@3: 0.970857\ttraining's ndcg@4: 0.971231\ttraining's ndcg@5: 0.971244\n",
      "[64]\ttraining's ndcg@1: 0.924515\ttraining's ndcg@2: 0.964433\ttraining's ndcg@3: 0.970909\ttraining's ndcg@4: 0.971284\ttraining's ndcg@5: 0.971297\n",
      "[65]\ttraining's ndcg@1: 0.924651\ttraining's ndcg@2: 0.964488\ttraining's ndcg@3: 0.970959\ttraining's ndcg@4: 0.971334\ttraining's ndcg@5: 0.971347\n",
      "[66]\ttraining's ndcg@1: 0.924843\ttraining's ndcg@2: 0.964587\ttraining's ndcg@3: 0.971035\ttraining's ndcg@4: 0.971409\ttraining's ndcg@5: 0.971422\n",
      "[67]\ttraining's ndcg@1: 0.924996\ttraining's ndcg@2: 0.964644\ttraining's ndcg@3: 0.971088\ttraining's ndcg@4: 0.971464\ttraining's ndcg@5: 0.971477\n",
      "[68]\ttraining's ndcg@1: 0.925152\ttraining's ndcg@2: 0.964714\ttraining's ndcg@3: 0.971148\ttraining's ndcg@4: 0.971523\ttraining's ndcg@5: 0.971536\n",
      "[69]\ttraining's ndcg@1: 0.925325\ttraining's ndcg@2: 0.964798\ttraining's ndcg@3: 0.971215\ttraining's ndcg@4: 0.97159\ttraining's ndcg@5: 0.971603\n",
      "[70]\ttraining's ndcg@1: 0.925441\ttraining's ndcg@2: 0.964853\ttraining's ndcg@3: 0.971258\ttraining's ndcg@4: 0.971633\ttraining's ndcg@5: 0.971646\n",
      "[71]\ttraining's ndcg@1: 0.925603\ttraining's ndcg@2: 0.964954\ttraining's ndcg@3: 0.971326\ttraining's ndcg@4: 0.971699\ttraining's ndcg@5: 0.971712\n",
      "[72]\ttraining's ndcg@1: 0.92575\ttraining's ndcg@2: 0.964999\ttraining's ndcg@3: 0.971378\ttraining's ndcg@4: 0.97175\ttraining's ndcg@5: 0.971763\n",
      "[73]\ttraining's ndcg@1: 0.9259\ttraining's ndcg@2: 0.96508\ttraining's ndcg@3: 0.971436\ttraining's ndcg@4: 0.97181\ttraining's ndcg@5: 0.971823\n",
      "[74]\ttraining's ndcg@1: 0.926017\ttraining's ndcg@2: 0.96513\ttraining's ndcg@3: 0.971481\ttraining's ndcg@4: 0.971853\ttraining's ndcg@5: 0.971867\n",
      "[75]\ttraining's ndcg@1: 0.926201\ttraining's ndcg@2: 0.965212\ttraining's ndcg@3: 0.971551\ttraining's ndcg@4: 0.971923\ttraining's ndcg@5: 0.971936\n",
      "[76]\ttraining's ndcg@1: 0.926349\ttraining's ndcg@2: 0.965286\ttraining's ndcg@3: 0.971607\ttraining's ndcg@4: 0.971979\ttraining's ndcg@5: 0.971992\n",
      "[77]\ttraining's ndcg@1: 0.926463\ttraining's ndcg@2: 0.965331\ttraining's ndcg@3: 0.97165\ttraining's ndcg@4: 0.972021\ttraining's ndcg@5: 0.972034\n",
      "[78]\ttraining's ndcg@1: 0.926652\ttraining's ndcg@2: 0.965409\ttraining's ndcg@3: 0.97172\ttraining's ndcg@4: 0.972092\ttraining's ndcg@5: 0.972105\n",
      "[79]\ttraining's ndcg@1: 0.926813\ttraining's ndcg@2: 0.965473\ttraining's ndcg@3: 0.971778\ttraining's ndcg@4: 0.972149\ttraining's ndcg@5: 0.972163\n",
      "[80]\ttraining's ndcg@1: 0.926943\ttraining's ndcg@2: 0.965525\ttraining's ndcg@3: 0.971826\ttraining's ndcg@4: 0.972197\ttraining's ndcg@5: 0.97221\n",
      "[81]\ttraining's ndcg@1: 0.927163\ttraining's ndcg@2: 0.965609\ttraining's ndcg@3: 0.971906\ttraining's ndcg@4: 0.972276\ttraining's ndcg@5: 0.972289\n",
      "[82]\ttraining's ndcg@1: 0.927297\ttraining's ndcg@2: 0.965665\ttraining's ndcg@3: 0.971955\ttraining's ndcg@4: 0.972325\ttraining's ndcg@5: 0.972339\n",
      "[83]\ttraining's ndcg@1: 0.92741\ttraining's ndcg@2: 0.965721\ttraining's ndcg@3: 0.972001\ttraining's ndcg@4: 0.97237\ttraining's ndcg@5: 0.972384\n",
      "[84]\ttraining's ndcg@1: 0.927544\ttraining's ndcg@2: 0.965774\ttraining's ndcg@3: 0.972049\ttraining's ndcg@4: 0.972418\ttraining's ndcg@5: 0.972432\n",
      "[85]\ttraining's ndcg@1: 0.927667\ttraining's ndcg@2: 0.965834\ttraining's ndcg@3: 0.972096\ttraining's ndcg@4: 0.972465\ttraining's ndcg@5: 0.972478\n",
      "[86]\ttraining's ndcg@1: 0.927797\ttraining's ndcg@2: 0.965881\ttraining's ndcg@3: 0.972144\ttraining's ndcg@4: 0.972512\ttraining's ndcg@5: 0.972526\n",
      "[87]\ttraining's ndcg@1: 0.927961\ttraining's ndcg@2: 0.965945\ttraining's ndcg@3: 0.972202\ttraining's ndcg@4: 0.972571\ttraining's ndcg@5: 0.972584\n",
      "[88]\ttraining's ndcg@1: 0.928113\ttraining's ndcg@2: 0.966009\ttraining's ndcg@3: 0.972258\ttraining's ndcg@4: 0.972627\ttraining's ndcg@5: 0.97264\n",
      "[89]\ttraining's ndcg@1: 0.928232\ttraining's ndcg@2: 0.966058\ttraining's ndcg@3: 0.972303\ttraining's ndcg@4: 0.972672\ttraining's ndcg@5: 0.972685\n",
      "[90]\ttraining's ndcg@1: 0.928337\ttraining's ndcg@2: 0.966101\ttraining's ndcg@3: 0.972342\ttraining's ndcg@4: 0.97271\ttraining's ndcg@5: 0.972723\n",
      "[91]\ttraining's ndcg@1: 0.928429\ttraining's ndcg@2: 0.96614\ttraining's ndcg@3: 0.972376\ttraining's ndcg@4: 0.972744\ttraining's ndcg@5: 0.972758\n",
      "[92]\ttraining's ndcg@1: 0.928553\ttraining's ndcg@2: 0.966196\ttraining's ndcg@3: 0.972424\ttraining's ndcg@4: 0.972791\ttraining's ndcg@5: 0.972804\n",
      "[93]\ttraining's ndcg@1: 0.928696\ttraining's ndcg@2: 0.966262\ttraining's ndcg@3: 0.97248\ttraining's ndcg@4: 0.972847\ttraining's ndcg@5: 0.97286\n",
      "[94]\ttraining's ndcg@1: 0.92882\ttraining's ndcg@2: 0.966311\ttraining's ndcg@3: 0.972524\ttraining's ndcg@4: 0.972891\ttraining's ndcg@5: 0.972904\n",
      "[95]\ttraining's ndcg@1: 0.928934\ttraining's ndcg@2: 0.96636\ttraining's ndcg@3: 0.972569\ttraining's ndcg@4: 0.972935\ttraining's ndcg@5: 0.972948\n",
      "[96]\ttraining's ndcg@1: 0.929023\ttraining's ndcg@2: 0.966389\ttraining's ndcg@3: 0.9726\ttraining's ndcg@4: 0.972966\ttraining's ndcg@5: 0.972979\n",
      "[97]\ttraining's ndcg@1: 0.929236\ttraining's ndcg@2: 0.966477\ttraining's ndcg@3: 0.972678\ttraining's ndcg@4: 0.973044\ttraining's ndcg@5: 0.973057\n",
      "[98]\ttraining's ndcg@1: 0.929371\ttraining's ndcg@2: 0.96653\ttraining's ndcg@3: 0.972726\ttraining's ndcg@4: 0.973093\ttraining's ndcg@5: 0.973106\n",
      "[99]\ttraining's ndcg@1: 0.929523\ttraining's ndcg@2: 0.966593\ttraining's ndcg@3: 0.972781\ttraining's ndcg@4: 0.973149\ttraining's ndcg@5: 0.973162\n",
      "[100]\ttraining's ndcg@1: 0.929637\ttraining's ndcg@2: 0.96664\ttraining's ndcg@3: 0.972821\ttraining's ndcg@4: 0.973189\ttraining's ndcg@5: 0.973202\n",
      "[101]\ttraining's ndcg@1: 0.929776\ttraining's ndcg@2: 0.966697\ttraining's ndcg@3: 0.972873\ttraining's ndcg@4: 0.97324\ttraining's ndcg@5: 0.973253\n",
      "[102]\ttraining's ndcg@1: 0.929897\ttraining's ndcg@2: 0.966742\ttraining's ndcg@3: 0.972916\ttraining's ndcg@4: 0.973283\ttraining's ndcg@5: 0.973296\n",
      "[103]\ttraining's ndcg@1: 0.930009\ttraining's ndcg@2: 0.966792\ttraining's ndcg@3: 0.972958\ttraining's ndcg@4: 0.973326\ttraining's ndcg@5: 0.973339\n",
      "[104]\ttraining's ndcg@1: 0.930112\ttraining's ndcg@2: 0.966836\ttraining's ndcg@3: 0.972998\ttraining's ndcg@4: 0.973365\ttraining's ndcg@5: 0.973378\n",
      "[105]\ttraining's ndcg@1: 0.930201\ttraining's ndcg@2: 0.966882\ttraining's ndcg@3: 0.973033\ttraining's ndcg@4: 0.9734\ttraining's ndcg@5: 0.973413\n",
      "[106]\ttraining's ndcg@1: 0.930316\ttraining's ndcg@2: 0.966922\ttraining's ndcg@3: 0.973073\ttraining's ndcg@4: 0.97344\ttraining's ndcg@5: 0.973453\n",
      "[107]\ttraining's ndcg@1: 0.930405\ttraining's ndcg@2: 0.966957\ttraining's ndcg@3: 0.973106\ttraining's ndcg@4: 0.973472\ttraining's ndcg@5: 0.973485\n",
      "[108]\ttraining's ndcg@1: 0.930506\ttraining's ndcg@2: 0.966983\ttraining's ndcg@3: 0.973136\ttraining's ndcg@4: 0.973505\ttraining's ndcg@5: 0.973518\n",
      "[109]\ttraining's ndcg@1: 0.930586\ttraining's ndcg@2: 0.967024\ttraining's ndcg@3: 0.97317\ttraining's ndcg@4: 0.973537\ttraining's ndcg@5: 0.97355\n",
      "[110]\ttraining's ndcg@1: 0.930691\ttraining's ndcg@2: 0.967063\ttraining's ndcg@3: 0.973207\ttraining's ndcg@4: 0.973574\ttraining's ndcg@5: 0.973587\n",
      "[111]\ttraining's ndcg@1: 0.930794\ttraining's ndcg@2: 0.967102\ttraining's ndcg@3: 0.973243\ttraining's ndcg@4: 0.973609\ttraining's ndcg@5: 0.973622\n",
      "[112]\ttraining's ndcg@1: 0.93091\ttraining's ndcg@2: 0.967153\ttraining's ndcg@3: 0.973286\ttraining's ndcg@4: 0.973653\ttraining's ndcg@5: 0.973666\n",
      "[113]\ttraining's ndcg@1: 0.930979\ttraining's ndcg@2: 0.967188\ttraining's ndcg@3: 0.973315\ttraining's ndcg@4: 0.973681\ttraining's ndcg@5: 0.973693\n",
      "[114]\ttraining's ndcg@1: 0.931066\ttraining's ndcg@2: 0.967225\ttraining's ndcg@3: 0.973347\ttraining's ndcg@4: 0.973713\ttraining's ndcg@5: 0.973726\n",
      "[115]\ttraining's ndcg@1: 0.931173\ttraining's ndcg@2: 0.967266\ttraining's ndcg@3: 0.973386\ttraining's ndcg@4: 0.973752\ttraining's ndcg@5: 0.973765\n",
      "[116]\ttraining's ndcg@1: 0.931242\ttraining's ndcg@2: 0.967297\ttraining's ndcg@3: 0.973413\ttraining's ndcg@4: 0.973779\ttraining's ndcg@5: 0.973792\n",
      "[117]\ttraining's ndcg@1: 0.93134\ttraining's ndcg@2: 0.967343\ttraining's ndcg@3: 0.97345\ttraining's ndcg@4: 0.973817\ttraining's ndcg@5: 0.973829\n",
      "[118]\ttraining's ndcg@1: 0.9314\ttraining's ndcg@2: 0.967371\ttraining's ndcg@3: 0.973471\ttraining's ndcg@4: 0.973839\ttraining's ndcg@5: 0.973852\n",
      "[119]\ttraining's ndcg@1: 0.931512\ttraining's ndcg@2: 0.967417\ttraining's ndcg@3: 0.973514\ttraining's ndcg@4: 0.973881\ttraining's ndcg@5: 0.973894\n",
      "[120]\ttraining's ndcg@1: 0.931633\ttraining's ndcg@2: 0.967467\ttraining's ndcg@3: 0.97356\ttraining's ndcg@4: 0.973926\ttraining's ndcg@5: 0.973939\n",
      "[121]\ttraining's ndcg@1: 0.931677\ttraining's ndcg@2: 0.967488\ttraining's ndcg@3: 0.973576\ttraining's ndcg@4: 0.973942\ttraining's ndcg@5: 0.973955\n",
      "[122]\ttraining's ndcg@1: 0.931796\ttraining's ndcg@2: 0.967542\ttraining's ndcg@3: 0.973621\ttraining's ndcg@4: 0.973986\ttraining's ndcg@5: 0.973999\n",
      "[123]\ttraining's ndcg@1: 0.931892\ttraining's ndcg@2: 0.967588\ttraining's ndcg@3: 0.973659\ttraining's ndcg@4: 0.974024\ttraining's ndcg@5: 0.974037\n",
      "[124]\ttraining's ndcg@1: 0.931989\ttraining's ndcg@2: 0.967626\ttraining's ndcg@3: 0.973694\ttraining's ndcg@4: 0.97406\ttraining's ndcg@5: 0.974073\n",
      "[125]\ttraining's ndcg@1: 0.932058\ttraining's ndcg@2: 0.967659\ttraining's ndcg@3: 0.973722\ttraining's ndcg@4: 0.974087\ttraining's ndcg@5: 0.974099\n",
      "[126]\ttraining's ndcg@1: 0.932156\ttraining's ndcg@2: 0.967691\ttraining's ndcg@3: 0.973755\ttraining's ndcg@4: 0.97412\ttraining's ndcg@5: 0.974133\n",
      "[127]\ttraining's ndcg@1: 0.932244\ttraining's ndcg@2: 0.967724\ttraining's ndcg@3: 0.973786\ttraining's ndcg@4: 0.974152\ttraining's ndcg@5: 0.974165\n",
      "[128]\ttraining's ndcg@1: 0.932356\ttraining's ndcg@2: 0.967767\ttraining's ndcg@3: 0.973828\ttraining's ndcg@4: 0.974193\ttraining's ndcg@5: 0.974206\n",
      "[129]\ttraining's ndcg@1: 0.932457\ttraining's ndcg@2: 0.967808\ttraining's ndcg@3: 0.973864\ttraining's ndcg@4: 0.97423\ttraining's ndcg@5: 0.974243\n",
      "[130]\ttraining's ndcg@1: 0.932582\ttraining's ndcg@2: 0.967866\ttraining's ndcg@3: 0.973911\ttraining's ndcg@4: 0.974278\ttraining's ndcg@5: 0.974291\n",
      "[131]\ttraining's ndcg@1: 0.932647\ttraining's ndcg@2: 0.967899\ttraining's ndcg@3: 0.973938\ttraining's ndcg@4: 0.974303\ttraining's ndcg@5: 0.974316\n",
      "[132]\ttraining's ndcg@1: 0.932698\ttraining's ndcg@2: 0.96792\ttraining's ndcg@3: 0.973955\ttraining's ndcg@4: 0.974321\ttraining's ndcg@5: 0.974334\n",
      "[133]\ttraining's ndcg@1: 0.932828\ttraining's ndcg@2: 0.967973\ttraining's ndcg@3: 0.974004\ttraining's ndcg@4: 0.974369\ttraining's ndcg@5: 0.974382\n",
      "[134]\ttraining's ndcg@1: 0.932879\ttraining's ndcg@2: 0.967991\ttraining's ndcg@3: 0.974022\ttraining's ndcg@4: 0.974387\ttraining's ndcg@5: 0.9744\n",
      "[135]\ttraining's ndcg@1: 0.932933\ttraining's ndcg@2: 0.968009\ttraining's ndcg@3: 0.974042\ttraining's ndcg@4: 0.974406\ttraining's ndcg@5: 0.974419\n",
      "[136]\ttraining's ndcg@1: 0.933035\ttraining's ndcg@2: 0.968045\ttraining's ndcg@3: 0.974078\ttraining's ndcg@4: 0.974441\ttraining's ndcg@5: 0.974454\n",
      "[137]\ttraining's ndcg@1: 0.933129\ttraining's ndcg@2: 0.968084\ttraining's ndcg@3: 0.974112\ttraining's ndcg@4: 0.974476\ttraining's ndcg@5: 0.974489\n",
      "[138]\ttraining's ndcg@1: 0.933204\ttraining's ndcg@2: 0.968112\ttraining's ndcg@3: 0.974139\ttraining's ndcg@4: 0.974502\ttraining's ndcg@5: 0.974515\n",
      "[139]\ttraining's ndcg@1: 0.933298\ttraining's ndcg@2: 0.968152\ttraining's ndcg@3: 0.974174\ttraining's ndcg@4: 0.974537\ttraining's ndcg@5: 0.97455\n",
      "[140]\ttraining's ndcg@1: 0.933366\ttraining's ndcg@2: 0.96819\ttraining's ndcg@3: 0.974201\ttraining's ndcg@4: 0.974565\ttraining's ndcg@5: 0.974577\n",
      "[141]\ttraining's ndcg@1: 0.93344\ttraining's ndcg@2: 0.968218\ttraining's ndcg@3: 0.974228\ttraining's ndcg@4: 0.974591\ttraining's ndcg@5: 0.974604\n",
      "[142]\ttraining's ndcg@1: 0.933553\ttraining's ndcg@2: 0.968272\ttraining's ndcg@3: 0.974272\ttraining's ndcg@4: 0.974635\ttraining's ndcg@5: 0.974648\n",
      "[143]\ttraining's ndcg@1: 0.93358\ttraining's ndcg@2: 0.968286\ttraining's ndcg@3: 0.974283\ttraining's ndcg@4: 0.974646\ttraining's ndcg@5: 0.974659\n",
      "[144]\ttraining's ndcg@1: 0.933706\ttraining's ndcg@2: 0.968336\ttraining's ndcg@3: 0.974329\ttraining's ndcg@4: 0.974692\ttraining's ndcg@5: 0.974705\n",
      "[145]\ttraining's ndcg@1: 0.933802\ttraining's ndcg@2: 0.968369\ttraining's ndcg@3: 0.974363\ttraining's ndcg@4: 0.974726\ttraining's ndcg@5: 0.974739\n",
      "[146]\ttraining's ndcg@1: 0.933858\ttraining's ndcg@2: 0.968389\ttraining's ndcg@3: 0.974383\ttraining's ndcg@4: 0.974746\ttraining's ndcg@5: 0.974759\n",
      "[147]\ttraining's ndcg@1: 0.933928\ttraining's ndcg@2: 0.968423\ttraining's ndcg@3: 0.97441\ttraining's ndcg@4: 0.974773\ttraining's ndcg@5: 0.974786\n",
      "[148]\ttraining's ndcg@1: 0.934013\ttraining's ndcg@2: 0.968455\ttraining's ndcg@3: 0.974441\ttraining's ndcg@4: 0.974804\ttraining's ndcg@5: 0.974817\n",
      "[149]\ttraining's ndcg@1: 0.934099\ttraining's ndcg@2: 0.968487\ttraining's ndcg@3: 0.974473\ttraining's ndcg@4: 0.974836\ttraining's ndcg@5: 0.974848\n",
      "[150]\ttraining's ndcg@1: 0.934166\ttraining's ndcg@2: 0.968523\ttraining's ndcg@3: 0.974499\ttraining's ndcg@4: 0.974862\ttraining's ndcg@5: 0.974875\n",
      "[151]\ttraining's ndcg@1: 0.934232\ttraining's ndcg@2: 0.968554\ttraining's ndcg@3: 0.974522\ttraining's ndcg@4: 0.974886\ttraining's ndcg@5: 0.974898\n",
      "[152]\ttraining's ndcg@1: 0.934306\ttraining's ndcg@2: 0.968585\ttraining's ndcg@3: 0.97455\ttraining's ndcg@4: 0.974913\ttraining's ndcg@5: 0.974925\n",
      "[153]\ttraining's ndcg@1: 0.934372\ttraining's ndcg@2: 0.968614\ttraining's ndcg@3: 0.974574\ttraining's ndcg@4: 0.974938\ttraining's ndcg@5: 0.97495\n",
      "[154]\ttraining's ndcg@1: 0.934462\ttraining's ndcg@2: 0.968652\ttraining's ndcg@3: 0.974609\ttraining's ndcg@4: 0.974972\ttraining's ndcg@5: 0.974984\n",
      "[155]\ttraining's ndcg@1: 0.934525\ttraining's ndcg@2: 0.968679\ttraining's ndcg@3: 0.974633\ttraining's ndcg@4: 0.974995\ttraining's ndcg@5: 0.975008\n",
      "[156]\ttraining's ndcg@1: 0.934598\ttraining's ndcg@2: 0.968706\ttraining's ndcg@3: 0.974659\ttraining's ndcg@4: 0.97502\ttraining's ndcg@5: 0.975033\n",
      "[157]\ttraining's ndcg@1: 0.934658\ttraining's ndcg@2: 0.968731\ttraining's ndcg@3: 0.97468\ttraining's ndcg@4: 0.975042\ttraining's ndcg@5: 0.975055\n",
      "[158]\ttraining's ndcg@1: 0.934721\ttraining's ndcg@2: 0.968755\ttraining's ndcg@3: 0.974704\ttraining's ndcg@4: 0.975065\ttraining's ndcg@5: 0.975078\n",
      "[159]\ttraining's ndcg@1: 0.934773\ttraining's ndcg@2: 0.968774\ttraining's ndcg@3: 0.974723\ttraining's ndcg@4: 0.975084\ttraining's ndcg@5: 0.975097\n",
      "[160]\ttraining's ndcg@1: 0.934854\ttraining's ndcg@2: 0.968815\ttraining's ndcg@3: 0.974752\ttraining's ndcg@4: 0.975116\ttraining's ndcg@5: 0.975128\n",
      "[161]\ttraining's ndcg@1: 0.934932\ttraining's ndcg@2: 0.968848\ttraining's ndcg@3: 0.974783\ttraining's ndcg@4: 0.975144\ttraining's ndcg@5: 0.975157\n",
      "[162]\ttraining's ndcg@1: 0.934983\ttraining's ndcg@2: 0.968866\ttraining's ndcg@3: 0.974801\ttraining's ndcg@4: 0.975163\ttraining's ndcg@5: 0.975175\n",
      "[163]\ttraining's ndcg@1: 0.935154\ttraining's ndcg@2: 0.968936\ttraining's ndcg@3: 0.974862\ttraining's ndcg@4: 0.975222\ttraining's ndcg@5: 0.975235\n",
      "[164]\ttraining's ndcg@1: 0.935232\ttraining's ndcg@2: 0.968968\ttraining's ndcg@3: 0.974891\ttraining's ndcg@4: 0.975251\ttraining's ndcg@5: 0.975264\n",
      "[165]\ttraining's ndcg@1: 0.935291\ttraining's ndcg@2: 0.968989\ttraining's ndcg@3: 0.974912\ttraining's ndcg@4: 0.975272\ttraining's ndcg@5: 0.975285\n",
      "[166]\ttraining's ndcg@1: 0.935352\ttraining's ndcg@2: 0.969011\ttraining's ndcg@3: 0.974933\ttraining's ndcg@4: 0.975294\ttraining's ndcg@5: 0.975306\n",
      "[167]\ttraining's ndcg@1: 0.935414\ttraining's ndcg@2: 0.969033\ttraining's ndcg@3: 0.974956\ttraining's ndcg@4: 0.975316\ttraining's ndcg@5: 0.975329\n",
      "[168]\ttraining's ndcg@1: 0.935469\ttraining's ndcg@2: 0.969058\ttraining's ndcg@3: 0.974977\ttraining's ndcg@4: 0.975337\ttraining's ndcg@5: 0.97535\n",
      "[169]\ttraining's ndcg@1: 0.93554\ttraining's ndcg@2: 0.969083\ttraining's ndcg@3: 0.975002\ttraining's ndcg@4: 0.975363\ttraining's ndcg@5: 0.975376\n",
      "[170]\ttraining's ndcg@1: 0.935603\ttraining's ndcg@2: 0.969111\ttraining's ndcg@3: 0.975025\ttraining's ndcg@4: 0.975386\ttraining's ndcg@5: 0.975399\n",
      "[171]\ttraining's ndcg@1: 0.93564\ttraining's ndcg@2: 0.96913\ttraining's ndcg@3: 0.975041\ttraining's ndcg@4: 0.975401\ttraining's ndcg@5: 0.975414\n",
      "[172]\ttraining's ndcg@1: 0.935701\ttraining's ndcg@2: 0.969161\ttraining's ndcg@3: 0.975065\ttraining's ndcg@4: 0.975424\ttraining's ndcg@5: 0.975437\n",
      "[173]\ttraining's ndcg@1: 0.935742\ttraining's ndcg@2: 0.969179\ttraining's ndcg@3: 0.975081\ttraining's ndcg@4: 0.97544\ttraining's ndcg@5: 0.975453\n",
      "[174]\ttraining's ndcg@1: 0.935827\ttraining's ndcg@2: 0.969211\ttraining's ndcg@3: 0.975111\ttraining's ndcg@4: 0.975471\ttraining's ndcg@5: 0.975484\n",
      "[175]\ttraining's ndcg@1: 0.935863\ttraining's ndcg@2: 0.969229\ttraining's ndcg@3: 0.975125\ttraining's ndcg@4: 0.975484\ttraining's ndcg@5: 0.975497\n",
      "[176]\ttraining's ndcg@1: 0.935891\ttraining's ndcg@2: 0.969242\ttraining's ndcg@3: 0.975134\ttraining's ndcg@4: 0.975494\ttraining's ndcg@5: 0.975508\n",
      "[177]\ttraining's ndcg@1: 0.935945\ttraining's ndcg@2: 0.969254\ttraining's ndcg@3: 0.975152\ttraining's ndcg@4: 0.975513\ttraining's ndcg@5: 0.975526\n",
      "[178]\ttraining's ndcg@1: 0.936005\ttraining's ndcg@2: 0.969279\ttraining's ndcg@3: 0.975174\ttraining's ndcg@4: 0.975535\ttraining's ndcg@5: 0.975548\n",
      "[179]\ttraining's ndcg@1: 0.936059\ttraining's ndcg@2: 0.969299\ttraining's ndcg@3: 0.975194\ttraining's ndcg@4: 0.975554\ttraining's ndcg@5: 0.975567\n",
      "[180]\ttraining's ndcg@1: 0.936128\ttraining's ndcg@2: 0.969334\ttraining's ndcg@3: 0.975221\ttraining's ndcg@4: 0.975581\ttraining's ndcg@5: 0.975594\n",
      "[181]\ttraining's ndcg@1: 0.936186\ttraining's ndcg@2: 0.969354\ttraining's ndcg@3: 0.975242\ttraining's ndcg@4: 0.975601\ttraining's ndcg@5: 0.975614\n",
      "[182]\ttraining's ndcg@1: 0.936237\ttraining's ndcg@2: 0.969375\ttraining's ndcg@3: 0.975261\ttraining's ndcg@4: 0.97562\ttraining's ndcg@5: 0.975633\n",
      "[183]\ttraining's ndcg@1: 0.936264\ttraining's ndcg@2: 0.969392\ttraining's ndcg@3: 0.975272\ttraining's ndcg@4: 0.975632\ttraining's ndcg@5: 0.975645\n",
      "[184]\ttraining's ndcg@1: 0.936297\ttraining's ndcg@2: 0.969417\ttraining's ndcg@3: 0.975287\ttraining's ndcg@4: 0.975647\ttraining's ndcg@5: 0.975659\n",
      "[185]\ttraining's ndcg@1: 0.936348\ttraining's ndcg@2: 0.969439\ttraining's ndcg@3: 0.975307\ttraining's ndcg@4: 0.975666\ttraining's ndcg@5: 0.975679\n",
      "[186]\ttraining's ndcg@1: 0.936417\ttraining's ndcg@2: 0.969463\ttraining's ndcg@3: 0.975331\ttraining's ndcg@4: 0.97569\ttraining's ndcg@5: 0.975703\n",
      "[187]\ttraining's ndcg@1: 0.936457\ttraining's ndcg@2: 0.969484\ttraining's ndcg@3: 0.975347\ttraining's ndcg@4: 0.975706\ttraining's ndcg@5: 0.975719\n",
      "[188]\ttraining's ndcg@1: 0.936507\ttraining's ndcg@2: 0.969499\ttraining's ndcg@3: 0.975363\ttraining's ndcg@4: 0.975723\ttraining's ndcg@5: 0.975735\n",
      "[189]\ttraining's ndcg@1: 0.936554\ttraining's ndcg@2: 0.969517\ttraining's ndcg@3: 0.975381\ttraining's ndcg@4: 0.97574\ttraining's ndcg@5: 0.975753\n",
      "[190]\ttraining's ndcg@1: 0.936624\ttraining's ndcg@2: 0.969541\ttraining's ndcg@3: 0.975404\ttraining's ndcg@4: 0.975764\ttraining's ndcg@5: 0.975777\n",
      "[191]\ttraining's ndcg@1: 0.936701\ttraining's ndcg@2: 0.969575\ttraining's ndcg@3: 0.975434\ttraining's ndcg@4: 0.975794\ttraining's ndcg@5: 0.975806\n",
      "[192]\ttraining's ndcg@1: 0.936758\ttraining's ndcg@2: 0.969605\ttraining's ndcg@3: 0.975457\ttraining's ndcg@4: 0.975815\ttraining's ndcg@5: 0.975828\n",
      "[193]\ttraining's ndcg@1: 0.936781\ttraining's ndcg@2: 0.969623\ttraining's ndcg@3: 0.975467\ttraining's ndcg@4: 0.975825\ttraining's ndcg@5: 0.975838\n",
      "[194]\ttraining's ndcg@1: 0.936834\ttraining's ndcg@2: 0.969647\ttraining's ndcg@3: 0.975488\ttraining's ndcg@4: 0.975846\ttraining's ndcg@5: 0.975859\n",
      "[195]\ttraining's ndcg@1: 0.936882\ttraining's ndcg@2: 0.969669\ttraining's ndcg@3: 0.975506\ttraining's ndcg@4: 0.975864\ttraining's ndcg@5: 0.975877\n",
      "[196]\ttraining's ndcg@1: 0.936927\ttraining's ndcg@2: 0.969689\ttraining's ndcg@3: 0.975523\ttraining's ndcg@4: 0.975881\ttraining's ndcg@5: 0.975894\n",
      "[197]\ttraining's ndcg@1: 0.936981\ttraining's ndcg@2: 0.96971\ttraining's ndcg@3: 0.975543\ttraining's ndcg@4: 0.975901\ttraining's ndcg@5: 0.975914\n",
      "[198]\ttraining's ndcg@1: 0.937046\ttraining's ndcg@2: 0.969736\ttraining's ndcg@3: 0.975566\ttraining's ndcg@4: 0.975924\ttraining's ndcg@5: 0.975937\n",
      "[199]\ttraining's ndcg@1: 0.937107\ttraining's ndcg@2: 0.969763\ttraining's ndcg@3: 0.975589\ttraining's ndcg@4: 0.975947\ttraining's ndcg@5: 0.97596\n",
      "[200]\ttraining's ndcg@1: 0.937139\ttraining's ndcg@2: 0.96978\ttraining's ndcg@3: 0.975601\ttraining's ndcg@4: 0.975959\ttraining's ndcg@5: 0.975972\n"
     ]
    }
   ],
   "source": [
    "gbm=lgb.train(params,\n",
    "              train_data,\n",
    "              valid_sets=train_data,\n",
    "              categorical_feature=categorical_feature)"
   ]
  },
  {
   "cell_type": "code",
   "execution_count": 10,
   "metadata": {},
   "outputs": [
    {
     "data": {
      "text/plain": [
       "<lightgbm.basic.Booster at 0x7f3027005860>"
      ]
     },
     "execution_count": 10,
     "metadata": {},
     "output_type": "execute_result"
    }
   ],
   "source": [
    "gbm.save_model('model_large.md')"
   ]
  },
  {
   "cell_type": "code",
   "execution_count": 11,
   "metadata": {},
   "outputs": [],
   "source": [
    "bst = lgb.Booster(model_file='model_large.md')"
   ]
  },
  {
   "cell_type": "code",
   "execution_count": 129,
   "metadata": {},
   "outputs": [],
   "source": [
    "df_test = pd.read_csv('test.csv')\n"
   ]
  },
  {
   "cell_type": "code",
   "execution_count": 13,
   "metadata": {},
   "outputs": [
    {
     "data": {
      "text/html": [
       "<div>\n",
       "<style scoped>\n",
       "    .dataframe tbody tr th:only-of-type {\n",
       "        vertical-align: middle;\n",
       "    }\n",
       "\n",
       "    .dataframe tbody tr th {\n",
       "        vertical-align: top;\n",
       "    }\n",
       "\n",
       "    .dataframe thead th {\n",
       "        text-align: right;\n",
       "    }\n",
       "</style>\n",
       "<table border=\"1\" class=\"dataframe\">\n",
       "  <thead>\n",
       "    <tr style=\"text-align: right;\">\n",
       "      <th></th>\n",
       "      <th>label</th>\n",
       "      <th>query</th>\n",
       "      <th>term</th>\n",
       "      <th>cid3</th>\n",
       "      <th>brand</th>\n",
       "      <th>ctf</th>\n",
       "      <th>ctf_cofidence</th>\n",
       "      <th>rf</th>\n",
       "      <th>icf</th>\n",
       "      <th>icf_confidence</th>\n",
       "      <th>icf_max</th>\n",
       "      <th>igm</th>\n",
       "      <th>entropy</th>\n",
       "    </tr>\n",
       "  </thead>\n",
       "  <tbody>\n",
       "    <tr>\n",
       "      <th>0</th>\n",
       "      <td>0</td>\n",
       "      <td>蒙牛熟炭烧</td>\n",
       "      <td>熟</td>\n",
       "      <td>13604</td>\n",
       "      <td>0</td>\n",
       "      <td>0.000166</td>\n",
       "      <td>0.000311</td>\n",
       "      <td>1.005749</td>\n",
       "      <td>1.606720</td>\n",
       "      <td>1.382896</td>\n",
       "      <td>1.267313</td>\n",
       "      <td>0.001006</td>\n",
       "      <td>23.568409</td>\n",
       "    </tr>\n",
       "    <tr>\n",
       "      <th>1</th>\n",
       "      <td>1</td>\n",
       "      <td>蒙牛熟炭烧</td>\n",
       "      <td>炭烧</td>\n",
       "      <td>13604</td>\n",
       "      <td>0</td>\n",
       "      <td>0.028298</td>\n",
       "      <td>0.044012</td>\n",
       "      <td>1.994725</td>\n",
       "      <td>2.758024</td>\n",
       "      <td>2.692507</td>\n",
       "      <td>2.417343</td>\n",
       "      <td>0.017914</td>\n",
       "      <td>4.479587</td>\n",
       "    </tr>\n",
       "    <tr>\n",
       "      <th>2</th>\n",
       "      <td>2</td>\n",
       "      <td>蒙牛熟炭烧</td>\n",
       "      <td>蒙牛</td>\n",
       "      <td>13604</td>\n",
       "      <td>1</td>\n",
       "      <td>0.164207</td>\n",
       "      <td>0.434249</td>\n",
       "      <td>3.116467</td>\n",
       "      <td>3.389669</td>\n",
       "      <td>3.355368</td>\n",
       "      <td>3.047349</td>\n",
       "      <td>0.023766</td>\n",
       "      <td>4.482465</td>\n",
       "    </tr>\n",
       "    <tr>\n",
       "      <th>3</th>\n",
       "      <td>0</td>\n",
       "      <td>蒜香鸡爪自营</td>\n",
       "      <td>自营</td>\n",
       "      <td>17720</td>\n",
       "      <td>0</td>\n",
       "      <td>0.000909</td>\n",
       "      <td>0.001114</td>\n",
       "      <td>1.953166</td>\n",
       "      <td>1.350502</td>\n",
       "      <td>1.050598</td>\n",
       "      <td>1.011227</td>\n",
       "      <td>0.001265</td>\n",
       "      <td>16.611746</td>\n",
       "    </tr>\n",
       "    <tr>\n",
       "      <th>4</th>\n",
       "      <td>1</td>\n",
       "      <td>蒜香鸡爪自营</td>\n",
       "      <td>蒜香</td>\n",
       "      <td>17720</td>\n",
       "      <td>0</td>\n",
       "      <td>0.022401</td>\n",
       "      <td>0.060762</td>\n",
       "      <td>4.021842</td>\n",
       "      <td>3.470004</td>\n",
       "      <td>3.438393</td>\n",
       "      <td>3.127392</td>\n",
       "      <td>0.015356</td>\n",
       "      <td>4.306950</td>\n",
       "    </tr>\n",
       "    <tr>\n",
       "      <th>5</th>\n",
       "      <td>2</td>\n",
       "      <td>蒜香鸡爪自营</td>\n",
       "      <td>鸡爪</td>\n",
       "      <td>17720</td>\n",
       "      <td>0</td>\n",
       "      <td>0.340484</td>\n",
       "      <td>1.000000</td>\n",
       "      <td>9.450327</td>\n",
       "      <td>3.009072</td>\n",
       "      <td>2.958476</td>\n",
       "      <td>2.667859</td>\n",
       "      <td>0.020885</td>\n",
       "      <td>3.256540</td>\n",
       "    </tr>\n",
       "    <tr>\n",
       "      <th>6</th>\n",
       "      <td>0</td>\n",
       "      <td>蓝光钢化膜</td>\n",
       "      <td>蓝光</td>\n",
       "      <td>867</td>\n",
       "      <td>0</td>\n",
       "      <td>0.230688</td>\n",
       "      <td>0.417453</td>\n",
       "      <td>8.336581</td>\n",
       "      <td>1.730940</td>\n",
       "      <td>1.535998</td>\n",
       "      <td>1.391455</td>\n",
       "      <td>0.001295</td>\n",
       "      <td>19.562365</td>\n",
       "    </tr>\n",
       "    <tr>\n",
       "      <th>7</th>\n",
       "      <td>1</td>\n",
       "      <td>蓝光钢化膜</td>\n",
       "      <td>钢化膜</td>\n",
       "      <td>867</td>\n",
       "      <td>0</td>\n",
       "      <td>0.771181</td>\n",
       "      <td>0.603069</td>\n",
       "      <td>6.954835</td>\n",
       "      <td>3.040744</td>\n",
       "      <td>2.991764</td>\n",
       "      <td>2.699454</td>\n",
       "      <td>0.012063</td>\n",
       "      <td>10.357600</td>\n",
       "    </tr>\n",
       "    <tr>\n",
       "      <th>8</th>\n",
       "      <td>0</td>\n",
       "      <td>蓝牙对讲机京东自营</td>\n",
       "      <td>蓝牙</td>\n",
       "      <td>18524</td>\n",
       "      <td>0</td>\n",
       "      <td>0.052831</td>\n",
       "      <td>0.045346</td>\n",
       "      <td>1.250454</td>\n",
       "      <td>1.586860</td>\n",
       "      <td>1.357991</td>\n",
       "      <td>1.247464</td>\n",
       "      <td>0.000354</td>\n",
       "      <td>63.971256</td>\n",
       "    </tr>\n",
       "    <tr>\n",
       "      <th>9</th>\n",
       "      <td>1</td>\n",
       "      <td>蓝牙对讲机京东自营</td>\n",
       "      <td>对讲机</td>\n",
       "      <td>18524</td>\n",
       "      <td>0</td>\n",
       "      <td>1.297248</td>\n",
       "      <td>0.762734</td>\n",
       "      <td>6.601784</td>\n",
       "      <td>2.851843</td>\n",
       "      <td>2.792371</td>\n",
       "      <td>2.510978</td>\n",
       "      <td>0.035906</td>\n",
       "      <td>3.362894</td>\n",
       "    </tr>\n",
       "    <tr>\n",
       "      <th>10</th>\n",
       "      <td>0</td>\n",
       "      <td>蓝牙氛围灯</td>\n",
       "      <td>蓝牙</td>\n",
       "      <td>9905</td>\n",
       "      <td>0</td>\n",
       "      <td>0.029793</td>\n",
       "      <td>0.025573</td>\n",
       "      <td>3.330166</td>\n",
       "      <td>1.586860</td>\n",
       "      <td>1.357991</td>\n",
       "      <td>1.247464</td>\n",
       "      <td>0.000354</td>\n",
       "      <td>63.971256</td>\n",
       "    </tr>\n",
       "    <tr>\n",
       "      <th>11</th>\n",
       "      <td>1</td>\n",
       "      <td>蓝牙氛围灯</td>\n",
       "      <td>氛围灯</td>\n",
       "      <td>9905</td>\n",
       "      <td>0</td>\n",
       "      <td>0.126536</td>\n",
       "      <td>0.215129</td>\n",
       "      <td>6.401060</td>\n",
       "      <td>2.566726</td>\n",
       "      <td>2.486831</td>\n",
       "      <td>2.226368</td>\n",
       "      <td>0.011831</td>\n",
       "      <td>5.430952</td>\n",
       "    </tr>\n",
       "    <tr>\n",
       "      <th>12</th>\n",
       "      <td>0</td>\n",
       "      <td>蓝牙耳机 双设备</td>\n",
       "      <td>设备</td>\n",
       "      <td>842</td>\n",
       "      <td>0</td>\n",
       "      <td>0.002173</td>\n",
       "      <td>0.002784</td>\n",
       "      <td>2.054126</td>\n",
       "      <td>1.237907</td>\n",
       "      <td>0.895430</td>\n",
       "      <td>0.898681</td>\n",
       "      <td>0.000183</td>\n",
       "      <td>66.522790</td>\n",
       "    </tr>\n",
       "    <tr>\n",
       "      <th>13</th>\n",
       "      <td>1</td>\n",
       "      <td>蓝牙耳机 双设备</td>\n",
       "      <td>双</td>\n",
       "      <td>842</td>\n",
       "      <td>0</td>\n",
       "      <td>0.037144</td>\n",
       "      <td>0.082374</td>\n",
       "      <td>4.919665</td>\n",
       "      <td>0.551515</td>\n",
       "      <td>-0.306688</td>\n",
       "      <td>0.212492</td>\n",
       "      <td>0.000016</td>\n",
       "      <td>160.871350</td>\n",
       "    </tr>\n",
       "    <tr>\n",
       "      <th>14</th>\n",
       "      <td>2</td>\n",
       "      <td>蓝牙耳机 双设备</td>\n",
       "      <td>蓝牙耳机</td>\n",
       "      <td>842</td>\n",
       "      <td>0</td>\n",
       "      <td>0.648103</td>\n",
       "      <td>0.485253</td>\n",
       "      <td>8.436184</td>\n",
       "      <td>2.732240</td>\n",
       "      <td>2.664953</td>\n",
       "      <td>2.391606</td>\n",
       "      <td>0.009428</td>\n",
       "      <td>8.390812</td>\n",
       "    </tr>\n",
       "    <tr>\n",
       "      <th>15</th>\n",
       "      <td>0</td>\n",
       "      <td>蓝牙耳机外挂式</td>\n",
       "      <td>外挂式</td>\n",
       "      <td>842</td>\n",
       "      <td>0</td>\n",
       "      <td>0.000102</td>\n",
       "      <td>0.011969</td>\n",
       "      <td>2.322101</td>\n",
       "      <td>4.051726</td>\n",
       "      <td>4.034181</td>\n",
       "      <td>3.706129</td>\n",
       "      <td>0.032394</td>\n",
       "      <td>0.164162</td>\n",
       "    </tr>\n",
       "    <tr>\n",
       "      <th>16</th>\n",
       "      <td>1</td>\n",
       "      <td>蓝牙耳机外挂式</td>\n",
       "      <td>蓝牙耳机</td>\n",
       "      <td>842</td>\n",
       "      <td>0</td>\n",
       "      <td>0.648103</td>\n",
       "      <td>0.485253</td>\n",
       "      <td>8.436184</td>\n",
       "      <td>2.732240</td>\n",
       "      <td>2.664953</td>\n",
       "      <td>2.391606</td>\n",
       "      <td>0.009428</td>\n",
       "      <td>8.390812</td>\n",
       "    </tr>\n",
       "    <tr>\n",
       "      <th>17</th>\n",
       "      <td>0</td>\n",
       "      <td>蓝牙防水</td>\n",
       "      <td>防水</td>\n",
       "      <td>842</td>\n",
       "      <td>0</td>\n",
       "      <td>0.049937</td>\n",
       "      <td>0.034560</td>\n",
       "      <td>2.892146</td>\n",
       "      <td>0.949307</td>\n",
       "      <td>0.459902</td>\n",
       "      <td>0.610184</td>\n",
       "      <td>0.000041</td>\n",
       "      <td>213.651050</td>\n",
       "    </tr>\n",
       "    <tr>\n",
       "      <th>18</th>\n",
       "      <td>1</td>\n",
       "      <td>蓝牙防水</td>\n",
       "      <td>蓝牙</td>\n",
       "      <td>842</td>\n",
       "      <td>0</td>\n",
       "      <td>0.197371</td>\n",
       "      <td>0.169410</td>\n",
       "      <td>6.009340</td>\n",
       "      <td>1.586860</td>\n",
       "      <td>1.357991</td>\n",
       "      <td>1.247464</td>\n",
       "      <td>0.000354</td>\n",
       "      <td>63.971256</td>\n",
       "    </tr>\n",
       "    <tr>\n",
       "      <th>19</th>\n",
       "      <td>0</td>\n",
       "      <td>植物油炉头</td>\n",
       "      <td>植物油</td>\n",
       "      <td>1477</td>\n",
       "      <td>0</td>\n",
       "      <td>0.000461</td>\n",
       "      <td>0.003194</td>\n",
       "      <td>3.012163</td>\n",
       "      <td>2.928476</td>\n",
       "      <td>2.873515</td>\n",
       "      <td>2.587449</td>\n",
       "      <td>0.010914</td>\n",
       "      <td>3.398925</td>\n",
       "    </tr>\n",
       "  </tbody>\n",
       "</table>\n",
       "</div>"
      ],
      "text/plain": [
       "    label      query  term   cid3  brand       ctf  ctf_cofidence        rf  \\\n",
       "0       0      蒙牛熟炭烧     熟  13604      0  0.000166       0.000311  1.005749   \n",
       "1       1      蒙牛熟炭烧    炭烧  13604      0  0.028298       0.044012  1.994725   \n",
       "2       2      蒙牛熟炭烧    蒙牛  13604      1  0.164207       0.434249  3.116467   \n",
       "3       0     蒜香鸡爪自营    自营  17720      0  0.000909       0.001114  1.953166   \n",
       "4       1     蒜香鸡爪自营    蒜香  17720      0  0.022401       0.060762  4.021842   \n",
       "5       2     蒜香鸡爪自营    鸡爪  17720      0  0.340484       1.000000  9.450327   \n",
       "6       0      蓝光钢化膜    蓝光    867      0  0.230688       0.417453  8.336581   \n",
       "7       1      蓝光钢化膜   钢化膜    867      0  0.771181       0.603069  6.954835   \n",
       "8       0  蓝牙对讲机京东自营    蓝牙  18524      0  0.052831       0.045346  1.250454   \n",
       "9       1  蓝牙对讲机京东自营   对讲机  18524      0  1.297248       0.762734  6.601784   \n",
       "10      0      蓝牙氛围灯    蓝牙   9905      0  0.029793       0.025573  3.330166   \n",
       "11      1      蓝牙氛围灯   氛围灯   9905      0  0.126536       0.215129  6.401060   \n",
       "12      0   蓝牙耳机 双设备    设备    842      0  0.002173       0.002784  2.054126   \n",
       "13      1   蓝牙耳机 双设备     双    842      0  0.037144       0.082374  4.919665   \n",
       "14      2   蓝牙耳机 双设备  蓝牙耳机    842      0  0.648103       0.485253  8.436184   \n",
       "15      0    蓝牙耳机外挂式   外挂式    842      0  0.000102       0.011969  2.322101   \n",
       "16      1    蓝牙耳机外挂式  蓝牙耳机    842      0  0.648103       0.485253  8.436184   \n",
       "17      0       蓝牙防水    防水    842      0  0.049937       0.034560  2.892146   \n",
       "18      1       蓝牙防水    蓝牙    842      0  0.197371       0.169410  6.009340   \n",
       "19      0      植物油炉头   植物油   1477      0  0.000461       0.003194  3.012163   \n",
       "\n",
       "         icf  icf_confidence   icf_max       igm     entropy  \n",
       "0   1.606720        1.382896  1.267313  0.001006   23.568409  \n",
       "1   2.758024        2.692507  2.417343  0.017914    4.479587  \n",
       "2   3.389669        3.355368  3.047349  0.023766    4.482465  \n",
       "3   1.350502        1.050598  1.011227  0.001265   16.611746  \n",
       "4   3.470004        3.438393  3.127392  0.015356    4.306950  \n",
       "5   3.009072        2.958476  2.667859  0.020885    3.256540  \n",
       "6   1.730940        1.535998  1.391455  0.001295   19.562365  \n",
       "7   3.040744        2.991764  2.699454  0.012063   10.357600  \n",
       "8   1.586860        1.357991  1.247464  0.000354   63.971256  \n",
       "9   2.851843        2.792371  2.510978  0.035906    3.362894  \n",
       "10  1.586860        1.357991  1.247464  0.000354   63.971256  \n",
       "11  2.566726        2.486831  2.226368  0.011831    5.430952  \n",
       "12  1.237907        0.895430  0.898681  0.000183   66.522790  \n",
       "13  0.551515       -0.306688  0.212492  0.000016  160.871350  \n",
       "14  2.732240        2.664953  2.391606  0.009428    8.390812  \n",
       "15  4.051726        4.034181  3.706129  0.032394    0.164162  \n",
       "16  2.732240        2.664953  2.391606  0.009428    8.390812  \n",
       "17  0.949307        0.459902  0.610184  0.000041  213.651050  \n",
       "18  1.586860        1.357991  1.247464  0.000354   63.971256  \n",
       "19  2.928476        2.873515  2.587449  0.010914    3.398925  "
      ]
     },
     "execution_count": 13,
     "metadata": {},
     "output_type": "execute_result"
    }
   ],
   "source": [
    "df_test.head(20)"
   ]
  },
  {
   "cell_type": "code",
   "execution_count": 130,
   "metadata": {},
   "outputs": [],
   "source": [
    "test = df_test.drop(['label','query','term'], axis=1)"
   ]
  },
  {
   "cell_type": "code",
   "execution_count": 178,
   "metadata": {},
   "outputs": [],
   "source": [
    "y_pred = bst.predict(test)"
   ]
  },
  {
   "cell_type": "code",
   "execution_count": 13,
   "metadata": {},
   "outputs": [
    {
     "ename": "ExecutableNotFound",
     "evalue": "failed to execute PosixPath('dot'), make sure the Graphviz executables are on your systems' PATH",
     "output_type": "error",
     "traceback": [
      "\u001b[0;31m---------------------------------------------------------------------------\u001b[0m",
      "\u001b[0;31mFileNotFoundError\u001b[0m                         Traceback (most recent call last)",
      "\u001b[0;32m/media/cfs/zhangjun386/.pylib/lib/python3.6/site-packages/graphviz/backend/execute.py\u001b[0m in \u001b[0;36mrun_check\u001b[0;34m(cmd, input_lines, encoding, capture_output, quiet, **kwargs)\u001b[0m\n\u001b[1;32m     84\u001b[0m         \u001b[0;32melse\u001b[0m\u001b[0;34m:\u001b[0m\u001b[0;34m\u001b[0m\u001b[0;34m\u001b[0m\u001b[0m\n\u001b[0;32m---> 85\u001b[0;31m             \u001b[0mproc\u001b[0m \u001b[0;34m=\u001b[0m \u001b[0msubprocess\u001b[0m\u001b[0;34m.\u001b[0m\u001b[0mrun\u001b[0m\u001b[0;34m(\u001b[0m\u001b[0mcmd\u001b[0m\u001b[0;34m,\u001b[0m \u001b[0;34m**\u001b[0m\u001b[0mkwargs\u001b[0m\u001b[0;34m)\u001b[0m\u001b[0;34m\u001b[0m\u001b[0;34m\u001b[0m\u001b[0m\n\u001b[0m\u001b[1;32m     86\u001b[0m     \u001b[0;32mexcept\u001b[0m \u001b[0mOSError\u001b[0m \u001b[0;32mas\u001b[0m \u001b[0me\u001b[0m\u001b[0;34m:\u001b[0m\u001b[0;34m\u001b[0m\u001b[0;34m\u001b[0m\u001b[0m\n",
      "\u001b[0;32m/usr/local/anaconda3/lib/python3.6/subprocess.py\u001b[0m in \u001b[0;36mrun\u001b[0;34m(input, timeout, check, *popenargs, **kwargs)\u001b[0m\n\u001b[1;32m    402\u001b[0m \u001b[0;34m\u001b[0m\u001b[0m\n\u001b[0;32m--> 403\u001b[0;31m     \u001b[0;32mwith\u001b[0m \u001b[0mPopen\u001b[0m\u001b[0;34m(\u001b[0m\u001b[0;34m*\u001b[0m\u001b[0mpopenargs\u001b[0m\u001b[0;34m,\u001b[0m \u001b[0;34m**\u001b[0m\u001b[0mkwargs\u001b[0m\u001b[0;34m)\u001b[0m \u001b[0;32mas\u001b[0m \u001b[0mprocess\u001b[0m\u001b[0;34m:\u001b[0m\u001b[0;34m\u001b[0m\u001b[0;34m\u001b[0m\u001b[0m\n\u001b[0m\u001b[1;32m    404\u001b[0m         \u001b[0;32mtry\u001b[0m\u001b[0;34m:\u001b[0m\u001b[0;34m\u001b[0m\u001b[0;34m\u001b[0m\u001b[0m\n",
      "\u001b[0;32m/usr/local/anaconda3/lib/python3.6/subprocess.py\u001b[0m in \u001b[0;36m__init__\u001b[0;34m(self, args, bufsize, executable, stdin, stdout, stderr, preexec_fn, close_fds, shell, cwd, env, universal_newlines, startupinfo, creationflags, restore_signals, start_new_session, pass_fds, encoding, errors)\u001b[0m\n\u001b[1;32m    708\u001b[0m                                 \u001b[0merrread\u001b[0m\u001b[0;34m,\u001b[0m \u001b[0merrwrite\u001b[0m\u001b[0;34m,\u001b[0m\u001b[0;34m\u001b[0m\u001b[0;34m\u001b[0m\u001b[0m\n\u001b[0;32m--> 709\u001b[0;31m                                 restore_signals, start_new_session)\n\u001b[0m\u001b[1;32m    710\u001b[0m         \u001b[0;32mexcept\u001b[0m\u001b[0;34m:\u001b[0m\u001b[0;34m\u001b[0m\u001b[0;34m\u001b[0m\u001b[0m\n",
      "\u001b[0;32m/usr/local/anaconda3/lib/python3.6/subprocess.py\u001b[0m in \u001b[0;36m_execute_child\u001b[0;34m(self, args, executable, preexec_fn, close_fds, pass_fds, cwd, env, startupinfo, creationflags, shell, p2cread, p2cwrite, c2pread, c2pwrite, errread, errwrite, restore_signals, start_new_session)\u001b[0m\n\u001b[1;32m   1343\u001b[0m                             \u001b[0merr_msg\u001b[0m \u001b[0;34m+=\u001b[0m \u001b[0;34m': '\u001b[0m \u001b[0;34m+\u001b[0m \u001b[0mrepr\u001b[0m\u001b[0;34m(\u001b[0m\u001b[0merr_filename\u001b[0m\u001b[0;34m)\u001b[0m\u001b[0;34m\u001b[0m\u001b[0;34m\u001b[0m\u001b[0m\n\u001b[0;32m-> 1344\u001b[0;31m                     \u001b[0;32mraise\u001b[0m \u001b[0mchild_exception_type\u001b[0m\u001b[0;34m(\u001b[0m\u001b[0merrno_num\u001b[0m\u001b[0;34m,\u001b[0m \u001b[0merr_msg\u001b[0m\u001b[0;34m,\u001b[0m \u001b[0merr_filename\u001b[0m\u001b[0;34m)\u001b[0m\u001b[0;34m\u001b[0m\u001b[0;34m\u001b[0m\u001b[0m\n\u001b[0m\u001b[1;32m   1345\u001b[0m                 \u001b[0;32mraise\u001b[0m \u001b[0mchild_exception_type\u001b[0m\u001b[0;34m(\u001b[0m\u001b[0merr_msg\u001b[0m\u001b[0;34m)\u001b[0m\u001b[0;34m\u001b[0m\u001b[0;34m\u001b[0m\u001b[0m\n",
      "\u001b[0;31mFileNotFoundError\u001b[0m: [Errno 2] No such file or directory: PosixPath('dot'): PosixPath('dot')",
      "\nThe above exception was the direct cause of the following exception:\n",
      "\u001b[0;31mExecutableNotFound\u001b[0m                        Traceback (most recent call last)",
      "\u001b[0;32m<ipython-input-13-34820d892f09>\u001b[0m in \u001b[0;36m<module>\u001b[0;34m\u001b[0m\n\u001b[1;32m      1\u001b[0m \u001b[0mgraph\u001b[0m \u001b[0;34m=\u001b[0m \u001b[0mlgb\u001b[0m\u001b[0;34m.\u001b[0m\u001b[0mcreate_tree_digraph\u001b[0m\u001b[0;34m(\u001b[0m\u001b[0mbst\u001b[0m\u001b[0;34m,\u001b[0m \u001b[0mtree_index\u001b[0m\u001b[0;34m=\u001b[0m\u001b[0;36m1\u001b[0m\u001b[0;34m,\u001b[0m \u001b[0mname\u001b[0m\u001b[0;34m=\u001b[0m\u001b[0;34m'tree'\u001b[0m \u001b[0;34m+\u001b[0m \u001b[0mstr\u001b[0m\u001b[0;34m(\u001b[0m\u001b[0;36m0\u001b[0m\u001b[0;34m)\u001b[0m\u001b[0;34m)\u001b[0m\u001b[0;34m\u001b[0m\u001b[0;34m\u001b[0m\u001b[0m\n\u001b[0;32m----> 2\u001b[0;31m \u001b[0mgraph\u001b[0m\u001b[0;34m.\u001b[0m\u001b[0mrender\u001b[0m\u001b[0;34m(\u001b[0m\u001b[0mfilename\u001b[0m\u001b[0;34m=\u001b[0m\u001b[0;34m'./tree_5'\u001b[0m\u001b[0;34m,\u001b[0m \u001b[0mview\u001b[0m\u001b[0;34m=\u001b[0m\u001b[0;32mFalse\u001b[0m\u001b[0;34m)\u001b[0m\u001b[0;34m\u001b[0m\u001b[0;34m\u001b[0m\u001b[0m\n\u001b[0m",
      "\u001b[0;32m/media/cfs/zhangjun386/.pylib/lib/python3.6/site-packages/graphviz/_tools.py\u001b[0m in \u001b[0;36mwrapper\u001b[0;34m(*args, **kwargs)\u001b[0m\n\u001b[1;32m    159\u001b[0m                               category=category)\n\u001b[1;32m    160\u001b[0m \u001b[0;34m\u001b[0m\u001b[0m\n\u001b[0;32m--> 161\u001b[0;31m             \u001b[0;32mreturn\u001b[0m \u001b[0mfunc\u001b[0m\u001b[0;34m(\u001b[0m\u001b[0;34m*\u001b[0m\u001b[0margs\u001b[0m\u001b[0;34m,\u001b[0m \u001b[0;34m**\u001b[0m\u001b[0mkwargs\u001b[0m\u001b[0;34m)\u001b[0m\u001b[0;34m\u001b[0m\u001b[0;34m\u001b[0m\u001b[0m\n\u001b[0m\u001b[1;32m    162\u001b[0m \u001b[0;34m\u001b[0m\u001b[0m\n\u001b[1;32m    163\u001b[0m         \u001b[0;32mreturn\u001b[0m \u001b[0mwrapper\u001b[0m\u001b[0;34m\u001b[0m\u001b[0;34m\u001b[0m\u001b[0m\n",
      "\u001b[0;32m/media/cfs/zhangjun386/.pylib/lib/python3.6/site-packages/graphviz/rendering.py\u001b[0m in \u001b[0;36mrender\u001b[0;34m(self, filename, directory, view, cleanup, format, renderer, formatter, quiet, quiet_view, outfile, engine, raise_if_result_exists, overwrite_source)\u001b[0m\n\u001b[1;32m    117\u001b[0m         \u001b[0margs\u001b[0m\u001b[0;34m.\u001b[0m\u001b[0mappend\u001b[0m\u001b[0;34m(\u001b[0m\u001b[0mfilepath\u001b[0m\u001b[0;34m)\u001b[0m\u001b[0;34m\u001b[0m\u001b[0;34m\u001b[0m\u001b[0m\n\u001b[1;32m    118\u001b[0m \u001b[0;34m\u001b[0m\u001b[0m\n\u001b[0;32m--> 119\u001b[0;31m         \u001b[0mrendered\u001b[0m \u001b[0;34m=\u001b[0m \u001b[0mself\u001b[0m\u001b[0;34m.\u001b[0m\u001b[0m_render\u001b[0m\u001b[0;34m(\u001b[0m\u001b[0;34m*\u001b[0m\u001b[0margs\u001b[0m\u001b[0;34m,\u001b[0m \u001b[0;34m**\u001b[0m\u001b[0mkwargs\u001b[0m\u001b[0;34m)\u001b[0m\u001b[0;34m\u001b[0m\u001b[0;34m\u001b[0m\u001b[0m\n\u001b[0m\u001b[1;32m    120\u001b[0m \u001b[0;34m\u001b[0m\u001b[0m\n\u001b[1;32m    121\u001b[0m         \u001b[0;32mif\u001b[0m \u001b[0mcleanup\u001b[0m\u001b[0;34m:\u001b[0m\u001b[0;34m\u001b[0m\u001b[0;34m\u001b[0m\u001b[0m\n",
      "\u001b[0;32m/media/cfs/zhangjun386/.pylib/lib/python3.6/site-packages/graphviz/_tools.py\u001b[0m in \u001b[0;36mwrapper\u001b[0;34m(*args, **kwargs)\u001b[0m\n\u001b[1;32m    159\u001b[0m                               category=category)\n\u001b[1;32m    160\u001b[0m \u001b[0;34m\u001b[0m\u001b[0m\n\u001b[0;32m--> 161\u001b[0;31m             \u001b[0;32mreturn\u001b[0m \u001b[0mfunc\u001b[0m\u001b[0;34m(\u001b[0m\u001b[0;34m*\u001b[0m\u001b[0margs\u001b[0m\u001b[0;34m,\u001b[0m \u001b[0;34m**\u001b[0m\u001b[0mkwargs\u001b[0m\u001b[0;34m)\u001b[0m\u001b[0;34m\u001b[0m\u001b[0;34m\u001b[0m\u001b[0m\n\u001b[0m\u001b[1;32m    162\u001b[0m \u001b[0;34m\u001b[0m\u001b[0m\n\u001b[1;32m    163\u001b[0m         \u001b[0;32mreturn\u001b[0m \u001b[0mwrapper\u001b[0m\u001b[0;34m\u001b[0m\u001b[0;34m\u001b[0m\u001b[0m\n",
      "\u001b[0;32m/media/cfs/zhangjun386/.pylib/lib/python3.6/site-packages/graphviz/backend/rendering.py\u001b[0m in \u001b[0;36mrender\u001b[0;34m(engine, format, filepath, renderer, formatter, quiet, outfile, raise_if_result_exists, overwrite_filepath)\u001b[0m\n\u001b[1;32m    318\u001b[0m                       \u001b[0mcwd\u001b[0m\u001b[0;34m=\u001b[0m\u001b[0mfilepath\u001b[0m\u001b[0;34m.\u001b[0m\u001b[0mparent\u001b[0m \u001b[0;32mif\u001b[0m \u001b[0mfilepath\u001b[0m\u001b[0;34m.\u001b[0m\u001b[0mparent\u001b[0m\u001b[0;34m.\u001b[0m\u001b[0mparts\u001b[0m \u001b[0;32melse\u001b[0m \u001b[0;32mNone\u001b[0m\u001b[0;34m,\u001b[0m\u001b[0;34m\u001b[0m\u001b[0;34m\u001b[0m\u001b[0m\n\u001b[1;32m    319\u001b[0m                       \u001b[0mquiet\u001b[0m\u001b[0;34m=\u001b[0m\u001b[0mquiet\u001b[0m\u001b[0;34m,\u001b[0m\u001b[0;34m\u001b[0m\u001b[0;34m\u001b[0m\u001b[0m\n\u001b[0;32m--> 320\u001b[0;31m                       capture_output=True)\n\u001b[0m\u001b[1;32m    321\u001b[0m \u001b[0;34m\u001b[0m\u001b[0m\n\u001b[1;32m    322\u001b[0m     \u001b[0;32mreturn\u001b[0m \u001b[0mos\u001b[0m\u001b[0;34m.\u001b[0m\u001b[0mfspath\u001b[0m\u001b[0;34m(\u001b[0m\u001b[0moutfile\u001b[0m\u001b[0;34m)\u001b[0m\u001b[0;34m\u001b[0m\u001b[0;34m\u001b[0m\u001b[0m\n",
      "\u001b[0;32m/media/cfs/zhangjun386/.pylib/lib/python3.6/site-packages/graphviz/backend/execute.py\u001b[0m in \u001b[0;36mrun_check\u001b[0;34m(cmd, input_lines, encoding, capture_output, quiet, **kwargs)\u001b[0m\n\u001b[1;32m     86\u001b[0m     \u001b[0;32mexcept\u001b[0m \u001b[0mOSError\u001b[0m \u001b[0;32mas\u001b[0m \u001b[0me\u001b[0m\u001b[0;34m:\u001b[0m\u001b[0;34m\u001b[0m\u001b[0;34m\u001b[0m\u001b[0m\n\u001b[1;32m     87\u001b[0m         \u001b[0;32mif\u001b[0m \u001b[0me\u001b[0m\u001b[0;34m.\u001b[0m\u001b[0merrno\u001b[0m \u001b[0;34m==\u001b[0m \u001b[0merrno\u001b[0m\u001b[0;34m.\u001b[0m\u001b[0mENOENT\u001b[0m\u001b[0;34m:\u001b[0m\u001b[0;34m\u001b[0m\u001b[0;34m\u001b[0m\u001b[0m\n\u001b[0;32m---> 88\u001b[0;31m             \u001b[0;32mraise\u001b[0m \u001b[0mExecutableNotFound\u001b[0m\u001b[0;34m(\u001b[0m\u001b[0mcmd\u001b[0m\u001b[0;34m)\u001b[0m \u001b[0;32mfrom\u001b[0m \u001b[0me\u001b[0m\u001b[0;34m\u001b[0m\u001b[0;34m\u001b[0m\u001b[0m\n\u001b[0m\u001b[1;32m     89\u001b[0m         \u001b[0;32mraise\u001b[0m\u001b[0;34m\u001b[0m\u001b[0;34m\u001b[0m\u001b[0m\n\u001b[1;32m     90\u001b[0m \u001b[0;34m\u001b[0m\u001b[0m\n",
      "\u001b[0;31mExecutableNotFound\u001b[0m: failed to execute PosixPath('dot'), make sure the Graphviz executables are on your systems' PATH"
     ]
    }
   ],
   "source": [
    "graph = lgb.create_tree_digraph(bst, tree_index=1, name='tree' + str(0))\n",
    "graph.render(filename='./tree_5', view=False)"
   ]
  },
  {
   "cell_type": "code",
   "execution_count": 23,
   "metadata": {},
   "outputs": [
    {
     "data": {
      "text/html": [
       "['cid3', 'brand', 'ctf', 'ctf_cofidence', 'rf', 'icf', 'icf_confidence', 'icf_max', 'igm', 'entropy']"
      ],
      "text/plain": [
       "['cid3',\n",
       " 'brand',\n",
       " 'ctf',\n",
       " 'ctf_cofidence',\n",
       " 'rf',\n",
       " 'icf',\n",
       " 'icf_confidence',\n",
       " 'icf_max',\n",
       " 'igm',\n",
       " 'entropy']"
      ]
     },
     "execution_count": 23,
     "metadata": {},
     "output_type": "execute_result"
    }
   ],
   "source": [
    "bst.feature_name()"
   ]
  },
  {
   "cell_type": "code",
   "execution_count": 137,
   "metadata": {},
   "outputs": [
    {
     "data": {
      "text/plain": [
       "array([ 0,  0, 31, 31, 20,  0,  0,  0, 18,  0])"
      ]
     },
     "execution_count": 137,
     "metadata": {},
     "output_type": "execute_result"
    }
   ],
   "source": [
    "bst.feature_importance()"
   ]
  },
  {
   "cell_type": "code",
   "execution_count": 149,
   "metadata": {},
   "outputs": [
    {
     "data": {
      "image/png": "[encoded data removed]",
      "text/plain": [
       "<Figure size 720x504 with 1 Axes>"
      ]
     },
     "metadata": {
      "needs_background": "light"
     },
     "output_type": "display_data"
    }
   ],
   "source": [
    "fea_imp = pd.DataFrame({'imp': bst.feature_importance(importance_type='split'), 'col': X.columns})\n",
    "fea_imp = fea_imp.sort_values(['imp', 'col'], ascending=[True, False]).iloc[-30:]\n",
    "fea_imp.plot(kind='barh', x='col', y='imp', figsize=(10, 7), legend=None)\n",
    "plt.title('Feature Importance')\n",
    "plt.ylabel('Features')\n",
    "plt.xlabel('Importance');"
   ]
  },
  {
   "cell_type": "code",
   "execution_count": 200,
   "metadata": {},
   "outputs": [
    {
     "data": {
      "image/png": "[encoded data removed]",
      "text/plain": [
       "<Figure size 576x396 with 1 Axes>"
      ]
     },
     "metadata": {
      "needs_background": "light"
     },
     "output_type": "display_data"
    }
   ],
   "source": [
    "explainer = shap.TreeExplainer(bst)\n",
    "shap_values = explainer.shap_values(X)\n",
    "shap.summary_plot(shap_values, X, plot_type=\"bar\")"
   ]
  },
  {
   "cell_type": "code",
   "execution_count": 186,
   "metadata": {},
   "outputs": [
    {
     "data": {
      "image/png": "[encoded data removed]",
      "text/plain": [
       "<Figure size 576x396 with 2 Axes>"
      ]
     },
     "metadata": {
      "needs_background": "light"
     },
     "output_type": "display_data"
    }
   ],
   "source": [
    "shap.summary_plot(shap_values, X)"
   ]
  },
  {
   "cell_type": "code",
   "execution_count": 206,
   "metadata": {},
   "outputs": [
    {
     "data": {
      "image/png": "[encoded data removed]",
      "text/plain": [
       "<Figure size 540x360 with 1 Axes>"
      ]
     },
     "metadata": {
      "needs_background": "light"
     },
     "output_type": "display_data"
    }
   ],
   "source": [
    "shap.dependence_plot('entropy', shap_values, X, interaction_index=None, show=True)"
   ]
  },
  {
   "cell_type": "code",
   "execution_count": 204,
   "metadata": {},
   "outputs": [
    {
     "data": {
      "image/png": "[encoded data removed]",
      "text/plain": [
       "<Figure size 540x360 with 1 Axes>"
      ]
     },
     "metadata": {
      "needs_background": "light"
     },
     "output_type": "display_data"
    }
   ],
   "source": [
    "shap.dependence_plot('icf_confidence', shap_values, X, interaction_index=None, show=True)"
   ]
  },
  {
   "cell_type": "code",
   "execution_count": null,
   "metadata": {},
   "outputs": [],
   "source": [
    "df_test.head()"
   ]
  },
  {
   "cell_type": "code",
   "execution_count": 42,
   "metadata": {},
   "outputs": [
    {
     "data": {
      "text/html": [
       "<div>\n",
       "<style scoped>\n",
       "    .dataframe tbody tr th:only-of-type {\n",
       "        vertical-align: middle;\n",
       "    }\n",
       "\n",
       "    .dataframe tbody tr th {\n",
       "        vertical-align: top;\n",
       "    }\n",
       "\n",
       "    .dataframe thead th {\n",
       "        text-align: right;\n",
       "    }\n",
       "</style>\n",
       "<table border=\"1\" class=\"dataframe\">\n",
       "  <thead>\n",
       "    <tr style=\"text-align: right;\">\n",
       "      <th></th>\n",
       "      <th>label</th>\n",
       "      <th>query</th>\n",
       "      <th>term</th>\n",
       "      <th>cid3</th>\n",
       "      <th>brand</th>\n",
       "      <th>ctf</th>\n",
       "      <th>ctf_cofidence</th>\n",
       "      <th>rf</th>\n",
       "      <th>icf</th>\n",
       "      <th>icf_confidence</th>\n",
       "      <th>icf_max</th>\n",
       "      <th>igm</th>\n",
       "      <th>entropy</th>\n",
       "    </tr>\n",
       "  </thead>\n",
       "  <tbody>\n",
       "    <tr>\n",
       "      <th>0</th>\n",
       "      <td>0</td>\n",
       "      <td>蒙牛熟炭烧</td>\n",
       "      <td>熟</td>\n",
       "      <td>13604</td>\n",
       "      <td>0</td>\n",
       "      <td>0.000166</td>\n",
       "      <td>0.000311</td>\n",
       "      <td>1.005749</td>\n",
       "      <td>1.606720</td>\n",
       "      <td>1.382896</td>\n",
       "      <td>1.267313</td>\n",
       "      <td>0.001006</td>\n",
       "      <td>23.568409</td>\n",
       "    </tr>\n",
       "    <tr>\n",
       "      <th>1</th>\n",
       "      <td>1</td>\n",
       "      <td>蒙牛熟炭烧</td>\n",
       "      <td>炭烧</td>\n",
       "      <td>13604</td>\n",
       "      <td>0</td>\n",
       "      <td>0.028298</td>\n",
       "      <td>0.044012</td>\n",
       "      <td>1.994725</td>\n",
       "      <td>2.758024</td>\n",
       "      <td>2.692507</td>\n",
       "      <td>2.417343</td>\n",
       "      <td>0.017914</td>\n",
       "      <td>4.479587</td>\n",
       "    </tr>\n",
       "    <tr>\n",
       "      <th>2</th>\n",
       "      <td>2</td>\n",
       "      <td>蒙牛熟炭烧</td>\n",
       "      <td>蒙牛</td>\n",
       "      <td>13604</td>\n",
       "      <td>1</td>\n",
       "      <td>0.164207</td>\n",
       "      <td>0.434249</td>\n",
       "      <td>3.116467</td>\n",
       "      <td>3.389669</td>\n",
       "      <td>3.355368</td>\n",
       "      <td>3.047349</td>\n",
       "      <td>0.023766</td>\n",
       "      <td>4.482465</td>\n",
       "    </tr>\n",
       "    <tr>\n",
       "      <th>3</th>\n",
       "      <td>0</td>\n",
       "      <td>蒜香鸡爪自营</td>\n",
       "      <td>自营</td>\n",
       "      <td>17720</td>\n",
       "      <td>0</td>\n",
       "      <td>0.000909</td>\n",
       "      <td>0.001114</td>\n",
       "      <td>1.953166</td>\n",
       "      <td>1.350502</td>\n",
       "      <td>1.050598</td>\n",
       "      <td>1.011227</td>\n",
       "      <td>0.001265</td>\n",
       "      <td>16.611746</td>\n",
       "    </tr>\n",
       "    <tr>\n",
       "      <th>4</th>\n",
       "      <td>1</td>\n",
       "      <td>蒜香鸡爪自营</td>\n",
       "      <td>蒜香</td>\n",
       "      <td>17720</td>\n",
       "      <td>0</td>\n",
       "      <td>0.022401</td>\n",
       "      <td>0.060762</td>\n",
       "      <td>4.021842</td>\n",
       "      <td>3.470004</td>\n",
       "      <td>3.438393</td>\n",
       "      <td>3.127392</td>\n",
       "      <td>0.015356</td>\n",
       "      <td>4.306950</td>\n",
       "    </tr>\n",
       "  </tbody>\n",
       "</table>\n",
       "</div>"
      ],
      "text/plain": [
       "   label   query term   cid3  brand       ctf  ctf_cofidence        rf  \\\n",
       "0      0   蒙牛熟炭烧    熟  13604      0  0.000166       0.000311  1.005749   \n",
       "1      1   蒙牛熟炭烧   炭烧  13604      0  0.028298       0.044012  1.994725   \n",
       "2      2   蒙牛熟炭烧   蒙牛  13604      1  0.164207       0.434249  3.116467   \n",
       "3      0  蒜香鸡爪自营   自营  17720      0  0.000909       0.001114  1.953166   \n",
       "4      1  蒜香鸡爪自营   蒜香  17720      0  0.022401       0.060762  4.021842   \n",
       "\n",
       "        icf  icf_confidence   icf_max       igm    entropy  \n",
       "0  1.606720        1.382896  1.267313  0.001006  23.568409  \n",
       "1  2.758024        2.692507  2.417343  0.017914   4.479587  \n",
       "2  3.389669        3.355368  3.047349  0.023766   4.482465  \n",
       "3  1.350502        1.050598  1.011227  0.001265  16.611746  \n",
       "4  3.470004        3.438393  3.127392  0.015356   4.306950  "
      ]
     },
     "execution_count": 42,
     "metadata": {},
     "output_type": "execute_result"
    }
   ],
   "source": [
    "df_test.head()"
   ]
  },
  {
   "cell_type": "code",
   "execution_count": 32,
   "metadata": {},
   "outputs": [
    {
     "ename": "TypeError",
     "evalue": "'method' object is not iterable",
     "output_type": "error",
     "traceback": [
      "\u001b[0;31m---------------------------------------------------------------------------\u001b[0m",
      "\u001b[0;31mTypeError\u001b[0m                                 Traceback (most recent call last)",
      "\u001b[0;32m<ipython-input-32-6425bbeac259>\u001b[0m in \u001b[0;36m<module>\u001b[0;34m\u001b[0m\n\u001b[0;32m----> 1\u001b[0;31m \u001b[0maverage_ndcg\u001b[0m\u001b[0;34m,\u001b[0m \u001b[0mquery_ndcg\u001b[0m \u001b[0;34m=\u001b[0m \u001b[0mvalidate\u001b[0m\u001b[0;34m(\u001b[0m\u001b[0mtest_qids\u001b[0m\u001b[0;34m,\u001b[0m \u001b[0mtest_y\u001b[0m\u001b[0;34m,\u001b[0m \u001b[0my_pred\u001b[0m\u001b[0;34m,\u001b[0m \u001b[0;36m10\u001b[0m\u001b[0;34m)\u001b[0m\u001b[0;34m\u001b[0m\u001b[0;34m\u001b[0m\u001b[0m\n\u001b[0m",
      "\u001b[0;32m/media/cfs/zhangjun386/Term_Weight/LGBMRanker/ndcg.py\u001b[0m in \u001b[0;36mvalidate\u001b[0;34m(qids, targets, preds, k)\u001b[0m\n\u001b[1;32m     23\u001b[0m     \u001b[0mevery_qid_ndcg\u001b[0m \u001b[0;34m=\u001b[0m \u001b[0mcollections\u001b[0m\u001b[0;34m.\u001b[0m\u001b[0mOrderedDict\u001b[0m\u001b[0;34m(\u001b[0m\u001b[0;34m)\u001b[0m\u001b[0;34m\u001b[0m\u001b[0;34m\u001b[0m\u001b[0m\n\u001b[1;32m     24\u001b[0m \u001b[0;34m\u001b[0m\u001b[0m\n\u001b[0;32m---> 25\u001b[0;31m     \u001b[0;32mfor\u001b[0m \u001b[0mqid\u001b[0m\u001b[0;34m,\u001b[0m \u001b[0ma\u001b[0m\u001b[0;34m,\u001b[0m \u001b[0mb\u001b[0m \u001b[0;32min\u001b[0m \u001b[0mquery_groups\u001b[0m\u001b[0;34m:\u001b[0m\u001b[0;34m\u001b[0m\u001b[0;34m\u001b[0m\u001b[0m\n\u001b[0m\u001b[1;32m     26\u001b[0m         \u001b[0mpredicted_sorted_indexes\u001b[0m \u001b[0;34m=\u001b[0m \u001b[0mnp\u001b[0m\u001b[0;34m.\u001b[0m\u001b[0margsort\u001b[0m\u001b[0;34m(\u001b[0m\u001b[0mpreds\u001b[0m\u001b[0;34m[\u001b[0m\u001b[0ma\u001b[0m\u001b[0;34m:\u001b[0m\u001b[0mb\u001b[0m\u001b[0;34m]\u001b[0m\u001b[0;34m)\u001b[0m\u001b[0;34m[\u001b[0m\u001b[0;34m:\u001b[0m\u001b[0;34m:\u001b[0m\u001b[0;34m-\u001b[0m\u001b[0;36m1\u001b[0m\u001b[0;34m]\u001b[0m \u001b[0;31m# 从大到小的索引\u001b[0m\u001b[0;34m\u001b[0m\u001b[0;34m\u001b[0m\u001b[0m\n\u001b[1;32m     27\u001b[0m         \u001b[0mt_results\u001b[0m \u001b[0;34m=\u001b[0m \u001b[0mtargets\u001b[0m\u001b[0;34m[\u001b[0m\u001b[0ma\u001b[0m\u001b[0;34m:\u001b[0m\u001b[0mb\u001b[0m\u001b[0;34m]\u001b[0m \u001b[0;31m# 目标数据的相关度\u001b[0m\u001b[0;34m\u001b[0m\u001b[0;34m\u001b[0m\u001b[0m\n",
      "\u001b[0;32m/media/cfs/zhangjun386/Term_Weight/LGBMRanker/ndcg.py\u001b[0m in \u001b[0;36mget_groups\u001b[0;34m(qids)\u001b[0m\n\u001b[1;32m     75\u001b[0m     \u001b[0mtotal\u001b[0m \u001b[0;34m=\u001b[0m \u001b[0;36m0\u001b[0m\u001b[0;34m\u001b[0m\u001b[0;34m\u001b[0m\u001b[0m\n\u001b[1;32m     76\u001b[0m \u001b[0;34m\u001b[0m\u001b[0m\n\u001b[0;32m---> 77\u001b[0;31m     \u001b[0;32mfor\u001b[0m \u001b[0mi\u001b[0m\u001b[0;34m,\u001b[0m \u001b[0mqid\u001b[0m \u001b[0;32min\u001b[0m \u001b[0menumerate\u001b[0m\u001b[0;34m(\u001b[0m\u001b[0mqids\u001b[0m\u001b[0;34m)\u001b[0m\u001b[0;34m:\u001b[0m\u001b[0;34m\u001b[0m\u001b[0;34m\u001b[0m\u001b[0m\n\u001b[0m\u001b[1;32m     78\u001b[0m         \u001b[0mtotal\u001b[0m \u001b[0;34m+=\u001b[0m \u001b[0;36m1\u001b[0m\u001b[0;34m\u001b[0m\u001b[0;34m\u001b[0m\u001b[0m\n\u001b[1;32m     79\u001b[0m         \u001b[0;32mif\u001b[0m \u001b[0mqid\u001b[0m \u001b[0;34m!=\u001b[0m \u001b[0mprev_qid\u001b[0m\u001b[0;34m:\u001b[0m\u001b[0;34m\u001b[0m\u001b[0;34m\u001b[0m\u001b[0m\n",
      "\u001b[0;31mTypeError\u001b[0m: 'method' object is not iterable"
     ]
    }
   ],
   "source": [
    "average_ndcg, query_ndcg = validate(test_qids, test_y, y_pred, 10)"
   ]
  },
  {
   "cell_type": "code",
   "execution_count": 34,
   "metadata": {},
   "outputs": [
    {
     "data": {
      "text/plain": [
       "0    0\n",
       "1    1\n",
       "2    2\n",
       "3    0\n",
       "4    1\n",
       "Name: label, dtype: int64"
      ]
     },
     "execution_count": 34,
     "metadata": {},
     "output_type": "execute_result"
    }
   ],
   "source": [
    "test_y.head()"
   ]
  },
  {
   "cell_type": "code",
   "execution_count": 81,
   "metadata": {},
   "outputs": [],
   "source": [
    "df_test = pd.read_csv('test.csv')"
   ]
  },
  {
   "cell_type": "code",
   "execution_count": 85,
   "metadata": {},
   "outputs": [],
   "source": [
    "test_qids = df_test.drop(['label','cid3','ctf','brand','ctf_cofidence','rf','icf','icf_confidence','igm','icf_max','entropy'], axis=1)"
   ]
  },
  {
   "cell_type": "code",
   "execution_count": 86,
   "metadata": {},
   "outputs": [
    {
     "data": {
      "text/html": [
       "<div>\n",
       "<style scoped>\n",
       "    .dataframe tbody tr th:only-of-type {\n",
       "        vertical-align: middle;\n",
       "    }\n",
       "\n",
       "    .dataframe tbody tr th {\n",
       "        vertical-align: top;\n",
       "    }\n",
       "\n",
       "    .dataframe thead th {\n",
       "        text-align: right;\n",
       "    }\n",
       "</style>\n",
       "<table border=\"1\" class=\"dataframe\">\n",
       "  <thead>\n",
       "    <tr style=\"text-align: right;\">\n",
       "      <th></th>\n",
       "      <th>query</th>\n",
       "      <th>term</th>\n",
       "    </tr>\n",
       "  </thead>\n",
       "  <tbody>\n",
       "    <tr>\n",
       "      <th>0</th>\n",
       "      <td>蒙牛熟炭烧</td>\n",
       "      <td>熟</td>\n",
       "    </tr>\n",
       "    <tr>\n",
       "      <th>1</th>\n",
       "      <td>蒙牛熟炭烧</td>\n",
       "      <td>炭烧</td>\n",
       "    </tr>\n",
       "    <tr>\n",
       "      <th>2</th>\n",
       "      <td>蒙牛熟炭烧</td>\n",
       "      <td>蒙牛</td>\n",
       "    </tr>\n",
       "    <tr>\n",
       "      <th>3</th>\n",
       "      <td>蒜香鸡爪自营</td>\n",
       "      <td>自营</td>\n",
       "    </tr>\n",
       "    <tr>\n",
       "      <th>4</th>\n",
       "      <td>蒜香鸡爪自营</td>\n",
       "      <td>蒜香</td>\n",
       "    </tr>\n",
       "  </tbody>\n",
       "</table>\n",
       "</div>"
      ],
      "text/plain": [
       "    query term\n",
       "0   蒙牛熟炭烧    熟\n",
       "1   蒙牛熟炭烧   炭烧\n",
       "2   蒙牛熟炭烧   蒙牛\n",
       "3  蒜香鸡爪自营   自营\n",
       "4  蒜香鸡爪自营   蒜香"
      ]
     },
     "execution_count": 86,
     "metadata": {},
     "output_type": "execute_result"
    }
   ],
   "source": [
    "test_qids.head()"
   ]
  },
  {
   "cell_type": "code",
   "execution_count": 58,
   "metadata": {},
   "outputs": [],
   "source": [
    "test_qids = df_test.drop(['label','cid3','term','ctf','brand','ctf_cofidence','rf','icf','icf_confidence','igm'], axis=1)"
   ]
  },
  {
   "cell_type": "code",
   "execution_count": 89,
   "metadata": {},
   "outputs": [],
   "source": [
    "test_qids = test_qids.values"
   ]
  },
  {
   "cell_type": "code",
   "execution_count": 90,
   "metadata": {},
   "outputs": [
    {
     "data": {
      "text/plain": [
       "0"
      ]
     },
     "execution_count": 90,
     "metadata": {},
     "output_type": "execute_result"
    }
   ],
   "source": [
    "test_y[0]"
   ]
  },
  {
   "cell_type": "code",
   "execution_count": 91,
   "metadata": {},
   "outputs": [
    {
     "data": {
      "text/plain": [
       "-0.21020249033120747"
      ]
     },
     "execution_count": 91,
     "metadata": {},
     "output_type": "execute_result"
    }
   ],
   "source": [
    "y_pred[0]"
   ]
  },
  {
   "cell_type": "code",
   "execution_count": 92,
   "metadata": {},
   "outputs": [
    {
     "data": {
      "text/plain": [
       "10002"
      ]
     },
     "execution_count": 92,
     "metadata": {},
     "output_type": "execute_result"
    }
   ],
   "source": [
    "len(test_y)"
   ]
  },
  {
   "cell_type": "code",
   "execution_count": 93,
   "metadata": {},
   "outputs": [
    {
     "data": {
      "text/plain": [
       "10002"
      ]
     },
     "execution_count": 93,
     "metadata": {},
     "output_type": "execute_result"
    }
   ],
   "source": [
    "len(y_pred)"
   ]
  },
  {
   "cell_type": "code",
   "execution_count": 96,
   "metadata": {},
   "outputs": [],
   "source": [
    "group=np.loadtxt('test_group.txt')"
   ]
  },
  {
   "cell_type": "code",
   "execution_count": 179,
   "metadata": {},
   "outputs": [
    {
     "name": "stdout",
     "output_type": "stream",
     "text": [
      "0.9598829521451466\n"
     ]
    }
   ],
   "source": [
    "def dcg(scores):\n",
    "    return np.sum([(np.power(2, scores[i]) - 1) / np.log2(i + 2) for i in range(len(scores))])\n",
    "        \n",
    "\n",
    "def idcg(scores):\n",
    "    scores = [score for score in sorted(scores)[::-1]]\n",
    "    return dcg(scores)\n",
    "\n",
    "\n",
    "def save(f, label, pred, query_term):\n",
    "    for l, p, q_t in zip(label, pred, query_term):\n",
    "        combine = '\\t'.join(q_t)+'\\t'+str(l)+'\\t'+str(p)\n",
    "        f.write(combine+'\\n')\n",
    "    \n",
    "def ndcg(test_qids, test_y, y_pred, group):\n",
    "    query_dcg = dict()\n",
    "    b = 0\n",
    "    e = 0\n",
    "    all_ndcg = list()\n",
    "    f = open('predict_test.txt','w')\n",
    "    \n",
    "    for i, nums in enumerate(group):\n",
    "        b = e\n",
    "        e+=int(nums)\n",
    "        y = test_y[b:e]\n",
    "        pred = y_pred[b:e]\n",
    "        query_term = test_qids[b:e]\n",
    "        pred_idx = np.argsort(pred)[::-1]\n",
    "        pred_s = y[pred_idx]\n",
    "        # predict\n",
    "        dcg_val = dcg(pred_s)\n",
    "        # ideal\n",
    "        idcg_val =idcg(pred_s)\n",
    "        # score\n",
    "        ndcg_val = (dcg_val / idcg_val)\n",
    "        all_ndcg.append(ndcg_val)\n",
    "        #save txt\n",
    "        save(f, y, pred, query_term)\n",
    "    \n",
    "    average_ndcg = np.nanmean(all_ndcg)\n",
    "    print(average_ndcg)\n",
    "    \n",
    "        \n",
    "        \n",
    "\n",
    "ndcg(test_qids, test_y.values, y_pred, group)\n",
    "        \n",
    "    \n",
    "    "
   ]
  },
  {
   "cell_type": "code",
   "execution_count": 103,
   "metadata": {},
   "outputs": [
    {
     "name": "stdout",
     "output_type": "stream",
     "text": [
      "['蒙牛熟炭烧' '熟']\n",
      "['蒙牛熟炭烧' '炭烧']\n",
      "['蒙牛熟炭烧' '蒙牛']\n",
      "['蒜香鸡爪自营' '自营']\n",
      "['蒜香鸡爪自营' '蒜香']\n",
      "['蒜香鸡爪自营' '鸡爪']\n",
      "['蓝光钢化膜' '蓝光']\n",
      "['蓝光钢化膜' '钢化膜']\n",
      "['蓝牙对讲机京东自营' '蓝牙']\n",
      "['蓝牙对讲机京东自营' '对讲机']\n"
     ]
    }
   ],
   "source": [
    "for i in test_qids[:10]:\n",
    "    print(i)"
   ]
  },
  {
   "cell_type": "code",
   "execution_count": 87,
   "metadata": {},
   "outputs": [
    {
     "data": {
      "text/plain": [
       "0    0\n",
       "1    1\n",
       "2    2\n",
       "3    0\n",
       "4    1\n",
       "Name: label, dtype: int64"
      ]
     },
     "execution_count": 87,
     "metadata": {},
     "output_type": "execute_result"
    }
   ],
   "source": [
    "test_y.head()"
   ]
  },
  {
   "cell_type": "code",
   "execution_count": 71,
   "metadata": {},
   "outputs": [],
   "source": [
    "test_qids = test_qids['query'].values"
   ]
  },
  {
   "cell_type": "code",
   "execution_count": 72,
   "metadata": {},
   "outputs": [
    {
     "data": {
      "text/plain": [
       "'蒙牛熟炭烧'"
      ]
     },
     "execution_count": 72,
     "metadata": {},
     "output_type": "execute_result"
    }
   ],
   "source": [
    "test_qids[0]"
   ]
  },
  {
   "cell_type": "code",
   "execution_count": 74,
   "metadata": {},
   "outputs": [
    {
     "data": {
      "text/plain": [
       "0"
      ]
     },
     "execution_count": 74,
     "metadata": {},
     "output_type": "execute_result"
    }
   ],
   "source": [
    "test_y[0]"
   ]
  },
  {
   "cell_type": "code",
   "execution_count": 76,
   "metadata": {},
   "outputs": [
    {
     "data": {
      "text/plain": [
       "10002"
      ]
     },
     "execution_count": 76,
     "metadata": {},
     "output_type": "execute_result"
    }
   ],
   "source": [
    "len(test_qids)"
   ]
  },
  {
   "cell_type": "code",
   "execution_count": 77,
   "metadata": {},
   "outputs": [
    {
     "data": {
      "text/plain": [
       "10002"
      ]
     },
     "execution_count": 77,
     "metadata": {},
     "output_type": "execute_result"
    }
   ],
   "source": [
    "len(test_y)"
   ]
  },
  {
   "cell_type": "code",
   "execution_count": 78,
   "metadata": {},
   "outputs": [
    {
     "data": {
      "text/plain": [
       "10002"
      ]
     },
     "execution_count": 78,
     "metadata": {},
     "output_type": "execute_result"
    }
   ],
   "source": [
    "len(y_pred)"
   ]
  },
  {
   "cell_type": "code",
   "execution_count": 79,
   "metadata": {},
   "outputs": [
    {
     "data": {
      "text/plain": [
       "'蒙牛熟炭烧'"
      ]
     },
     "execution_count": 79,
     "metadata": {},
     "output_type": "execute_result"
    }
   ],
   "source": [
    "test_qids[0]"
   ]
  },
  {
   "cell_type": "code",
   "execution_count": 80,
   "metadata": {},
   "outputs": [
    {
     "data": {
      "text/plain": [
       "0"
      ]
     },
     "execution_count": 80,
     "metadata": {},
     "output_type": "execute_result"
    }
   ],
   "source": [
    "test_y[0]"
   ]
  },
  {
   "cell_type": "code",
   "execution_count": null,
   "metadata": {},
   "outputs": [],
   "source": [
    "test_"
   ]
  }
 ],
 "metadata": {
  "kernelspec": {
   "display_name": "Python3 (PySpark)",
   "language": "python",
   "name": "python3"
  },
  "language_info": {
   "codemirror_mode": {
    "name": "ipython",
    "version": 3
   },
   "file_extension": ".py",
   "mimetype": "text/x-python",
   "name": "python",
   "nbconvert_exporter": "python",
   "pygments_lexer": "ipython3",
   "version": "3.6.7"
  }
 },
 "nbformat": 4,
 "nbformat_minor": 4
}
