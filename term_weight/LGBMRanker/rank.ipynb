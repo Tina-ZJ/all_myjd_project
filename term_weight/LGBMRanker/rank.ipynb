{
 "cells": [
  {
   "cell_type": "code",
   "execution_count": 1,
   "metadata": {},
   "outputs": [],
   "source": [
    "import lightgbm as lgb\n",
    "import numpy as np \n",
    "import pandas as pd\n",
    "from sklearn.model_selection import train_test_split\n",
    "import seaborn as sns\n",
    "import matplotlib.pyplot as plt\n",
    "import seaborn as sns\n",
    "import shap\n",
    "import graphviz"
   ]
  },
  {
   "cell_type": "code",
   "execution_count": 126,
   "metadata": {},
   "outputs": [
    {
     "data": {
      "text/html": [
       "<div>\n",
       "<style scoped>\n",
       "    .dataframe tbody tr th:only-of-type {\n",
       "        vertical-align: middle;\n",
       "    }\n",
       "\n",
       "    .dataframe tbody tr th {\n",
       "        vertical-align: top;\n",
       "    }\n",
       "\n",
       "    .dataframe thead th {\n",
       "        text-align: right;\n",
       "    }\n",
       "</style>\n",
       "<table border=\"1\" class=\"dataframe\">\n",
       "  <thead>\n",
       "    <tr style=\"text-align: right;\">\n",
       "      <th></th>\n",
       "      <th>label</th>\n",
       "      <th>query</th>\n",
       "      <th>term</th>\n",
       "      <th>cid3</th>\n",
       "      <th>brand</th>\n",
       "      <th>ctf</th>\n",
       "      <th>ctf_cofidence</th>\n",
       "      <th>rf</th>\n",
       "      <th>icf</th>\n",
       "      <th>icf_confidence</th>\n",
       "      <th>icf_max</th>\n",
       "      <th>igm</th>\n",
       "      <th>entropy</th>\n",
       "    </tr>\n",
       "  </thead>\n",
       "  <tbody>\n",
       "    <tr>\n",
       "      <th>0</th>\n",
       "      <td>0</td>\n",
       "      <td>蒙牛熟炭烧</td>\n",
       "      <td>熟</td>\n",
       "      <td>13604</td>\n",
       "      <td>0</td>\n",
       "      <td>0.000166</td>\n",
       "      <td>0.000311</td>\n",
       "      <td>1.005749</td>\n",
       "      <td>1.606720</td>\n",
       "      <td>1.382896</td>\n",
       "      <td>1.267313</td>\n",
       "      <td>0.001006</td>\n",
       "      <td>23.568409</td>\n",
       "    </tr>\n",
       "    <tr>\n",
       "      <th>1</th>\n",
       "      <td>1</td>\n",
       "      <td>蒙牛熟炭烧</td>\n",
       "      <td>炭烧</td>\n",
       "      <td>13604</td>\n",
       "      <td>0</td>\n",
       "      <td>0.028298</td>\n",
       "      <td>0.044012</td>\n",
       "      <td>1.994725</td>\n",
       "      <td>2.758024</td>\n",
       "      <td>2.692507</td>\n",
       "      <td>2.417343</td>\n",
       "      <td>0.017914</td>\n",
       "      <td>4.479587</td>\n",
       "    </tr>\n",
       "    <tr>\n",
       "      <th>2</th>\n",
       "      <td>2</td>\n",
       "      <td>蒙牛熟炭烧</td>\n",
       "      <td>蒙牛</td>\n",
       "      <td>13604</td>\n",
       "      <td>1</td>\n",
       "      <td>0.164207</td>\n",
       "      <td>0.434249</td>\n",
       "      <td>3.116467</td>\n",
       "      <td>3.389669</td>\n",
       "      <td>3.355368</td>\n",
       "      <td>3.047349</td>\n",
       "      <td>0.023766</td>\n",
       "      <td>4.482465</td>\n",
       "    </tr>\n",
       "    <tr>\n",
       "      <th>3</th>\n",
       "      <td>0</td>\n",
       "      <td>蒜香鸡爪自营</td>\n",
       "      <td>自营</td>\n",
       "      <td>17720</td>\n",
       "      <td>0</td>\n",
       "      <td>0.000909</td>\n",
       "      <td>0.001114</td>\n",
       "      <td>1.953166</td>\n",
       "      <td>1.350502</td>\n",
       "      <td>1.050598</td>\n",
       "      <td>1.011227</td>\n",
       "      <td>0.001265</td>\n",
       "      <td>16.611746</td>\n",
       "    </tr>\n",
       "    <tr>\n",
       "      <th>4</th>\n",
       "      <td>1</td>\n",
       "      <td>蒜香鸡爪自营</td>\n",
       "      <td>蒜香</td>\n",
       "      <td>17720</td>\n",
       "      <td>0</td>\n",
       "      <td>0.022401</td>\n",
       "      <td>0.060762</td>\n",
       "      <td>4.021842</td>\n",
       "      <td>3.470004</td>\n",
       "      <td>3.438393</td>\n",
       "      <td>3.127392</td>\n",
       "      <td>0.015356</td>\n",
       "      <td>4.306950</td>\n",
       "    </tr>\n",
       "    <tr>\n",
       "      <th>5</th>\n",
       "      <td>2</td>\n",
       "      <td>蒜香鸡爪自营</td>\n",
       "      <td>鸡爪</td>\n",
       "      <td>17720</td>\n",
       "      <td>0</td>\n",
       "      <td>0.340484</td>\n",
       "      <td>1.000000</td>\n",
       "      <td>9.450327</td>\n",
       "      <td>3.009072</td>\n",
       "      <td>2.958476</td>\n",
       "      <td>2.667859</td>\n",
       "      <td>0.020885</td>\n",
       "      <td>3.256540</td>\n",
       "    </tr>\n",
       "    <tr>\n",
       "      <th>6</th>\n",
       "      <td>0</td>\n",
       "      <td>蓝光钢化膜</td>\n",
       "      <td>蓝光</td>\n",
       "      <td>867</td>\n",
       "      <td>0</td>\n",
       "      <td>0.230688</td>\n",
       "      <td>0.417453</td>\n",
       "      <td>8.336581</td>\n",
       "      <td>1.730940</td>\n",
       "      <td>1.535998</td>\n",
       "      <td>1.391455</td>\n",
       "      <td>0.001295</td>\n",
       "      <td>19.562365</td>\n",
       "    </tr>\n",
       "    <tr>\n",
       "      <th>7</th>\n",
       "      <td>1</td>\n",
       "      <td>蓝光钢化膜</td>\n",
       "      <td>钢化膜</td>\n",
       "      <td>867</td>\n",
       "      <td>0</td>\n",
       "      <td>0.771181</td>\n",
       "      <td>0.603069</td>\n",
       "      <td>6.954835</td>\n",
       "      <td>3.040744</td>\n",
       "      <td>2.991764</td>\n",
       "      <td>2.699454</td>\n",
       "      <td>0.012063</td>\n",
       "      <td>10.357600</td>\n",
       "    </tr>\n",
       "    <tr>\n",
       "      <th>8</th>\n",
       "      <td>0</td>\n",
       "      <td>蓝牙对讲机京东自营</td>\n",
       "      <td>蓝牙</td>\n",
       "      <td>18524</td>\n",
       "      <td>0</td>\n",
       "      <td>0.052831</td>\n",
       "      <td>0.045346</td>\n",
       "      <td>1.250454</td>\n",
       "      <td>1.586860</td>\n",
       "      <td>1.357991</td>\n",
       "      <td>1.247464</td>\n",
       "      <td>0.000354</td>\n",
       "      <td>63.971256</td>\n",
       "    </tr>\n",
       "    <tr>\n",
       "      <th>9</th>\n",
       "      <td>1</td>\n",
       "      <td>蓝牙对讲机京东自营</td>\n",
       "      <td>对讲机</td>\n",
       "      <td>18524</td>\n",
       "      <td>0</td>\n",
       "      <td>1.297248</td>\n",
       "      <td>0.762734</td>\n",
       "      <td>6.601784</td>\n",
       "      <td>2.851843</td>\n",
       "      <td>2.792371</td>\n",
       "      <td>2.510978</td>\n",
       "      <td>0.035906</td>\n",
       "      <td>3.362894</td>\n",
       "    </tr>\n",
       "    <tr>\n",
       "      <th>10</th>\n",
       "      <td>0</td>\n",
       "      <td>蓝牙氛围灯</td>\n",
       "      <td>蓝牙</td>\n",
       "      <td>9905</td>\n",
       "      <td>0</td>\n",
       "      <td>0.029793</td>\n",
       "      <td>0.025573</td>\n",
       "      <td>3.330166</td>\n",
       "      <td>1.586860</td>\n",
       "      <td>1.357991</td>\n",
       "      <td>1.247464</td>\n",
       "      <td>0.000354</td>\n",
       "      <td>63.971256</td>\n",
       "    </tr>\n",
       "    <tr>\n",
       "      <th>11</th>\n",
       "      <td>1</td>\n",
       "      <td>蓝牙氛围灯</td>\n",
       "      <td>氛围灯</td>\n",
       "      <td>9905</td>\n",
       "      <td>0</td>\n",
       "      <td>0.126536</td>\n",
       "      <td>0.215129</td>\n",
       "      <td>6.401060</td>\n",
       "      <td>2.566726</td>\n",
       "      <td>2.486831</td>\n",
       "      <td>2.226368</td>\n",
       "      <td>0.011831</td>\n",
       "      <td>5.430952</td>\n",
       "    </tr>\n",
       "    <tr>\n",
       "      <th>12</th>\n",
       "      <td>0</td>\n",
       "      <td>蓝牙耳机 双设备</td>\n",
       "      <td>设备</td>\n",
       "      <td>842</td>\n",
       "      <td>0</td>\n",
       "      <td>0.002173</td>\n",
       "      <td>0.002784</td>\n",
       "      <td>2.054126</td>\n",
       "      <td>1.237907</td>\n",
       "      <td>0.895430</td>\n",
       "      <td>0.898681</td>\n",
       "      <td>0.000183</td>\n",
       "      <td>66.522790</td>\n",
       "    </tr>\n",
       "    <tr>\n",
       "      <th>13</th>\n",
       "      <td>1</td>\n",
       "      <td>蓝牙耳机 双设备</td>\n",
       "      <td>双</td>\n",
       "      <td>842</td>\n",
       "      <td>0</td>\n",
       "      <td>0.037144</td>\n",
       "      <td>0.082374</td>\n",
       "      <td>4.919665</td>\n",
       "      <td>0.551515</td>\n",
       "      <td>-0.306688</td>\n",
       "      <td>0.212492</td>\n",
       "      <td>0.000016</td>\n",
       "      <td>160.871350</td>\n",
       "    </tr>\n",
       "    <tr>\n",
       "      <th>14</th>\n",
       "      <td>2</td>\n",
       "      <td>蓝牙耳机 双设备</td>\n",
       "      <td>蓝牙耳机</td>\n",
       "      <td>842</td>\n",
       "      <td>0</td>\n",
       "      <td>0.648103</td>\n",
       "      <td>0.485253</td>\n",
       "      <td>8.436184</td>\n",
       "      <td>2.732240</td>\n",
       "      <td>2.664953</td>\n",
       "      <td>2.391606</td>\n",
       "      <td>0.009428</td>\n",
       "      <td>8.390812</td>\n",
       "    </tr>\n",
       "    <tr>\n",
       "      <th>15</th>\n",
       "      <td>0</td>\n",
       "      <td>蓝牙耳机外挂式</td>\n",
       "      <td>外挂式</td>\n",
       "      <td>842</td>\n",
       "      <td>0</td>\n",
       "      <td>0.000102</td>\n",
       "      <td>0.011969</td>\n",
       "      <td>2.322101</td>\n",
       "      <td>4.051726</td>\n",
       "      <td>4.034181</td>\n",
       "      <td>3.706129</td>\n",
       "      <td>0.032394</td>\n",
       "      <td>0.164162</td>\n",
       "    </tr>\n",
       "    <tr>\n",
       "      <th>16</th>\n",
       "      <td>1</td>\n",
       "      <td>蓝牙耳机外挂式</td>\n",
       "      <td>蓝牙耳机</td>\n",
       "      <td>842</td>\n",
       "      <td>0</td>\n",
       "      <td>0.648103</td>\n",
       "      <td>0.485253</td>\n",
       "      <td>8.436184</td>\n",
       "      <td>2.732240</td>\n",
       "      <td>2.664953</td>\n",
       "      <td>2.391606</td>\n",
       "      <td>0.009428</td>\n",
       "      <td>8.390812</td>\n",
       "    </tr>\n",
       "    <tr>\n",
       "      <th>17</th>\n",
       "      <td>0</td>\n",
       "      <td>蓝牙防水</td>\n",
       "      <td>防水</td>\n",
       "      <td>842</td>\n",
       "      <td>0</td>\n",
       "      <td>0.049937</td>\n",
       "      <td>0.034560</td>\n",
       "      <td>2.892146</td>\n",
       "      <td>0.949307</td>\n",
       "      <td>0.459902</td>\n",
       "      <td>0.610184</td>\n",
       "      <td>0.000041</td>\n",
       "      <td>213.651050</td>\n",
       "    </tr>\n",
       "    <tr>\n",
       "      <th>18</th>\n",
       "      <td>1</td>\n",
       "      <td>蓝牙防水</td>\n",
       "      <td>蓝牙</td>\n",
       "      <td>842</td>\n",
       "      <td>0</td>\n",
       "      <td>0.197371</td>\n",
       "      <td>0.169410</td>\n",
       "      <td>6.009340</td>\n",
       "      <td>1.586860</td>\n",
       "      <td>1.357991</td>\n",
       "      <td>1.247464</td>\n",
       "      <td>0.000354</td>\n",
       "      <td>63.971256</td>\n",
       "    </tr>\n",
       "    <tr>\n",
       "      <th>19</th>\n",
       "      <td>0</td>\n",
       "      <td>植物油炉头</td>\n",
       "      <td>植物油</td>\n",
       "      <td>1477</td>\n",
       "      <td>0</td>\n",
       "      <td>0.000461</td>\n",
       "      <td>0.003194</td>\n",
       "      <td>3.012163</td>\n",
       "      <td>2.928476</td>\n",
       "      <td>2.873515</td>\n",
       "      <td>2.587449</td>\n",
       "      <td>0.010914</td>\n",
       "      <td>3.398925</td>\n",
       "    </tr>\n",
       "  </tbody>\n",
       "</table>\n",
       "</div>"
      ],
      "text/plain": [
       "    label      query  term   cid3  brand       ctf  ctf_cofidence        rf  \\\n",
       "0       0      蒙牛熟炭烧     熟  13604      0  0.000166       0.000311  1.005749   \n",
       "1       1      蒙牛熟炭烧    炭烧  13604      0  0.028298       0.044012  1.994725   \n",
       "2       2      蒙牛熟炭烧    蒙牛  13604      1  0.164207       0.434249  3.116467   \n",
       "3       0     蒜香鸡爪自营    自营  17720      0  0.000909       0.001114  1.953166   \n",
       "4       1     蒜香鸡爪自营    蒜香  17720      0  0.022401       0.060762  4.021842   \n",
       "5       2     蒜香鸡爪自营    鸡爪  17720      0  0.340484       1.000000  9.450327   \n",
       "6       0      蓝光钢化膜    蓝光    867      0  0.230688       0.417453  8.336581   \n",
       "7       1      蓝光钢化膜   钢化膜    867      0  0.771181       0.603069  6.954835   \n",
       "8       0  蓝牙对讲机京东自营    蓝牙  18524      0  0.052831       0.045346  1.250454   \n",
       "9       1  蓝牙对讲机京东自营   对讲机  18524      0  1.297248       0.762734  6.601784   \n",
       "10      0      蓝牙氛围灯    蓝牙   9905      0  0.029793       0.025573  3.330166   \n",
       "11      1      蓝牙氛围灯   氛围灯   9905      0  0.126536       0.215129  6.401060   \n",
       "12      0   蓝牙耳机 双设备    设备    842      0  0.002173       0.002784  2.054126   \n",
       "13      1   蓝牙耳机 双设备     双    842      0  0.037144       0.082374  4.919665   \n",
       "14      2   蓝牙耳机 双设备  蓝牙耳机    842      0  0.648103       0.485253  8.436184   \n",
       "15      0    蓝牙耳机外挂式   外挂式    842      0  0.000102       0.011969  2.322101   \n",
       "16      1    蓝牙耳机外挂式  蓝牙耳机    842      0  0.648103       0.485253  8.436184   \n",
       "17      0       蓝牙防水    防水    842      0  0.049937       0.034560  2.892146   \n",
       "18      1       蓝牙防水    蓝牙    842      0  0.197371       0.169410  6.009340   \n",
       "19      0      植物油炉头   植物油   1477      0  0.000461       0.003194  3.012163   \n",
       "\n",
       "         icf  icf_confidence   icf_max       igm     entropy  \n",
       "0   1.606720        1.382896  1.267313  0.001006   23.568409  \n",
       "1   2.758024        2.692507  2.417343  0.017914    4.479587  \n",
       "2   3.389669        3.355368  3.047349  0.023766    4.482465  \n",
       "3   1.350502        1.050598  1.011227  0.001265   16.611746  \n",
       "4   3.470004        3.438393  3.127392  0.015356    4.306950  \n",
       "5   3.009072        2.958476  2.667859  0.020885    3.256540  \n",
       "6   1.730940        1.535998  1.391455  0.001295   19.562365  \n",
       "7   3.040744        2.991764  2.699454  0.012063   10.357600  \n",
       "8   1.586860        1.357991  1.247464  0.000354   63.971256  \n",
       "9   2.851843        2.792371  2.510978  0.035906    3.362894  \n",
       "10  1.586860        1.357991  1.247464  0.000354   63.971256  \n",
       "11  2.566726        2.486831  2.226368  0.011831    5.430952  \n",
       "12  1.237907        0.895430  0.898681  0.000183   66.522790  \n",
       "13  0.551515       -0.306688  0.212492  0.000016  160.871350  \n",
       "14  2.732240        2.664953  2.391606  0.009428    8.390812  \n",
       "15  4.051726        4.034181  3.706129  0.032394    0.164162  \n",
       "16  2.732240        2.664953  2.391606  0.009428    8.390812  \n",
       "17  0.949307        0.459902  0.610184  0.000041  213.651050  \n",
       "18  1.586860        1.357991  1.247464  0.000354   63.971256  \n",
       "19  2.928476        2.873515  2.587449  0.010914    3.398925  "
      ]
     },
     "execution_count": 126,
     "metadata": {},
     "output_type": "execute_result"
    }
   ],
   "source": [
    "df = pd.read_csv('train.csv')\n",
    "df.head(20)"
   ]
  },
  {
   "cell_type": "code",
   "execution_count": 8,
   "metadata": {},
   "outputs": [
    {
     "data": {
      "text/plain": [
       "Index(['label', 'query', 'term', 'cid3', 'brand', 'ctf', 'ctf_cofidence', 'rf',\n",
       "       'icf', 'icf_confidence', 'icf_max', 'igm', 'entropy'],\n",
       "      dtype='object')"
      ]
     },
     "execution_count": 8,
     "metadata": {},
     "output_type": "execute_result"
    }
   ],
   "source": [
    "df.columns"
   ]
  },
  {
   "cell_type": "code",
   "execution_count": 109,
   "metadata": {},
   "outputs": [],
   "source": [
    "X = df.drop(['label','query','term','ctf_cofidence'], axis=1)\n",
    "y = df.label"
   ]
  },
  {
   "cell_type": "code",
   "execution_count": 13,
   "metadata": {},
   "outputs": [
    {
     "data": {
      "text/plain": [
       "0    0\n",
       "1    1\n",
       "2    2\n",
       "3    0\n",
       "4    1\n",
       "Name: label, dtype: int64"
      ]
     },
     "execution_count": 13,
     "metadata": {},
     "output_type": "execute_result"
    }
   ],
   "source": [
    "y.head()"
   ]
  },
  {
   "cell_type": "code",
   "execution_count": 110,
   "metadata": {},
   "outputs": [
    {
     "data": {
      "text/html": [
       "<div>\n",
       "<style scoped>\n",
       "    .dataframe tbody tr th:only-of-type {\n",
       "        vertical-align: middle;\n",
       "    }\n",
       "\n",
       "    .dataframe tbody tr th {\n",
       "        vertical-align: top;\n",
       "    }\n",
       "\n",
       "    .dataframe thead th {\n",
       "        text-align: right;\n",
       "    }\n",
       "</style>\n",
       "<table border=\"1\" class=\"dataframe\">\n",
       "  <thead>\n",
       "    <tr style=\"text-align: right;\">\n",
       "      <th></th>\n",
       "      <th>cid3</th>\n",
       "      <th>brand</th>\n",
       "      <th>ctf</th>\n",
       "      <th>rf</th>\n",
       "      <th>icf</th>\n",
       "      <th>icf_confidence</th>\n",
       "      <th>icf_max</th>\n",
       "      <th>igm</th>\n",
       "      <th>entropy</th>\n",
       "    </tr>\n",
       "  </thead>\n",
       "  <tbody>\n",
       "    <tr>\n",
       "      <th>0</th>\n",
       "      <td>13604</td>\n",
       "      <td>0</td>\n",
       "      <td>0.000166</td>\n",
       "      <td>1.005749</td>\n",
       "      <td>1.606720</td>\n",
       "      <td>1.382896</td>\n",
       "      <td>1.267313</td>\n",
       "      <td>0.001006</td>\n",
       "      <td>23.568409</td>\n",
       "    </tr>\n",
       "    <tr>\n",
       "      <th>1</th>\n",
       "      <td>13604</td>\n",
       "      <td>0</td>\n",
       "      <td>0.028298</td>\n",
       "      <td>1.994725</td>\n",
       "      <td>2.758024</td>\n",
       "      <td>2.692507</td>\n",
       "      <td>2.417343</td>\n",
       "      <td>0.017914</td>\n",
       "      <td>4.479587</td>\n",
       "    </tr>\n",
       "    <tr>\n",
       "      <th>2</th>\n",
       "      <td>13604</td>\n",
       "      <td>1</td>\n",
       "      <td>0.164207</td>\n",
       "      <td>3.116467</td>\n",
       "      <td>3.389669</td>\n",
       "      <td>3.355368</td>\n",
       "      <td>3.047349</td>\n",
       "      <td>0.023766</td>\n",
       "      <td>4.482465</td>\n",
       "    </tr>\n",
       "    <tr>\n",
       "      <th>3</th>\n",
       "      <td>17720</td>\n",
       "      <td>0</td>\n",
       "      <td>0.000909</td>\n",
       "      <td>1.953166</td>\n",
       "      <td>1.350502</td>\n",
       "      <td>1.050598</td>\n",
       "      <td>1.011227</td>\n",
       "      <td>0.001265</td>\n",
       "      <td>16.611746</td>\n",
       "    </tr>\n",
       "    <tr>\n",
       "      <th>4</th>\n",
       "      <td>17720</td>\n",
       "      <td>0</td>\n",
       "      <td>0.022401</td>\n",
       "      <td>4.021842</td>\n",
       "      <td>3.470004</td>\n",
       "      <td>3.438393</td>\n",
       "      <td>3.127392</td>\n",
       "      <td>0.015356</td>\n",
       "      <td>4.306950</td>\n",
       "    </tr>\n",
       "  </tbody>\n",
       "</table>\n",
       "</div>"
      ],
      "text/plain": [
       "    cid3  brand       ctf        rf       icf  icf_confidence   icf_max  \\\n",
       "0  13604      0  0.000166  1.005749  1.606720        1.382896  1.267313   \n",
       "1  13604      0  0.028298  1.994725  2.758024        2.692507  2.417343   \n",
       "2  13604      1  0.164207  3.116467  3.389669        3.355368  3.047349   \n",
       "3  17720      0  0.000909  1.953166  1.350502        1.050598  1.011227   \n",
       "4  17720      0  0.022401  4.021842  3.470004        3.438393  3.127392   \n",
       "\n",
       "        igm    entropy  \n",
       "0  0.001006  23.568409  \n",
       "1  0.017914   4.479587  \n",
       "2  0.023766   4.482465  \n",
       "3  0.001265  16.611746  \n",
       "4  0.015356   4.306950  "
      ]
     },
     "execution_count": 110,
     "metadata": {},
     "output_type": "execute_result"
    }
   ],
   "source": [
    "X.head()"
   ]
  },
  {
   "cell_type": "code",
   "execution_count": 111,
   "metadata": {},
   "outputs": [],
   "source": [
    "group=np.loadtxt('./group.txt')"
   ]
  },
  {
   "cell_type": "code",
   "execution_count": 17,
   "metadata": {},
   "outputs": [
    {
     "data": {
      "text/plain": [
       "3.0"
      ]
     },
     "execution_count": 17,
     "metadata": {},
     "output_type": "execute_result"
    }
   ],
   "source": [
    "group[0]"
   ]
  },
  {
   "cell_type": "code",
   "execution_count": 19,
   "metadata": {},
   "outputs": [],
   "source": [
    "X_train, X_valid, y_train, y_valid = train_test_split(\n",
    "    X, y, test_size=0.20, random_state=42)"
   ]
  },
  {
   "cell_type": "code",
   "execution_count": 20,
   "metadata": {},
   "outputs": [
    {
     "data": {
      "text/plain": [
       "(80000, 10)"
      ]
     },
     "execution_count": 20,
     "metadata": {},
     "output_type": "execute_result"
    }
   ],
   "source": [
    "X_train.shape"
   ]
  },
  {
   "cell_type": "code",
   "execution_count": 21,
   "metadata": {},
   "outputs": [
    {
     "data": {
      "text/plain": [
       "(80000,)"
      ]
     },
     "execution_count": 21,
     "metadata": {},
     "output_type": "execute_result"
    }
   ],
   "source": [
    "y_train.shape"
   ]
  },
  {
   "cell_type": "code",
   "execution_count": 112,
   "metadata": {},
   "outputs": [],
   "source": [
    "train_data = lgb.Dataset(X, label=y, group=group,free_raw_data=False)"
   ]
  },
  {
   "cell_type": "code",
   "execution_count": 143,
   "metadata": {},
   "outputs": [],
   "source": [
    "params = {\n",
    "    'task' : 'train', \n",
    "    'boosting_type': 'gbdt',\n",
    "    'objective': 'lambdarank',\n",
    "    'num_iterations': 100,\n",
    "    'learning_rate':0.01,\n",
    "    'num_leaves': 31,\n",
    "    'tree_learner': 'serial',\n",
    "    'max_depth': 1,\n",
    "    'metric': 'ndcg',\n",
    "    'metric_freq': 10,\n",
    "    'train_metric':True,\n",
    "    #'ndcg_at':[5],\n",
    "    #'max_bin':255,\n",
    "    #'max_position': 5,\n",
    "    'verbose':-1\n",
    "}"
   ]
  },
  {
   "cell_type": "code",
   "execution_count": 113,
   "metadata": {},
   "outputs": [
    {
     "data": {
      "text/plain": [
       "Index(['cid3', 'brand', 'ctf', 'rf', 'icf', 'icf_confidence', 'icf_max', 'igm',\n",
       "       'entropy'],\n",
       "      dtype='object')"
      ]
     },
     "execution_count": 113,
     "metadata": {},
     "output_type": "execute_result"
    }
   ],
   "source": [
    "categorical_feature=[0,1]\n",
    "feature_name = X.columns\n",
    "feature_name"
   ]
  },
  {
   "cell_type": "code",
   "execution_count": 144,
   "metadata": {},
   "outputs": [
    {
     "name": "stderr",
     "output_type": "stream",
     "text": [
      "/media/cfs/zhangjun386/.pylib/lib/python3.6/site-packages/lightgbm/engine.py:116: UserWarning: Found `num_iterations` in params. Will use it instead of argument\n",
      "  warnings.warn(\"Found `{}` in params. Will use it instead of argument\".format(alias))\n"
     ]
    },
    {
     "name": "stdout",
     "output_type": "stream",
     "text": [
      "[1]\ttraining's ndcg@1: 0.827208\ttraining's ndcg@2: 0.915797\ttraining's ndcg@3: 0.933031\ttraining's ndcg@4: 0.934676\ttraining's ndcg@5: 0.934717\n",
      "[2]\ttraining's ndcg@1: 0.850973\ttraining's ndcg@2: 0.927074\ttraining's ndcg@3: 0.941954\ttraining's ndcg@4: 0.943297\ttraining's ndcg@5: 0.943329\n",
      "[3]\ttraining's ndcg@1: 0.860262\ttraining's ndcg@2: 0.93101\ttraining's ndcg@3: 0.945229\ttraining's ndcg@4: 0.946545\ttraining's ndcg@5: 0.946577\n",
      "[4]\ttraining's ndcg@1: 0.86748\ttraining's ndcg@2: 0.935459\ttraining's ndcg@3: 0.948315\ttraining's ndcg@4: 0.949488\ttraining's ndcg@5: 0.949516\n",
      "[5]\ttraining's ndcg@1: 0.870361\ttraining's ndcg@2: 0.936802\ttraining's ndcg@3: 0.949402\ttraining's ndcg@4: 0.950562\ttraining's ndcg@5: 0.950589\n",
      "[6]\ttraining's ndcg@1: 0.878114\ttraining's ndcg@2: 0.940573\ttraining's ndcg@3: 0.952337\ttraining's ndcg@4: 0.953399\ttraining's ndcg@5: 0.953425\n",
      "[7]\ttraining's ndcg@1: 0.882327\ttraining's ndcg@2: 0.94278\ttraining's ndcg@3: 0.954053\ttraining's ndcg@4: 0.95504\ttraining's ndcg@5: 0.955063\n",
      "[8]\ttraining's ndcg@1: 0.885012\ttraining's ndcg@2: 0.943935\ttraining's ndcg@3: 0.955048\ttraining's ndcg@4: 0.956013\ttraining's ndcg@5: 0.956037\n",
      "[9]\ttraining's ndcg@1: 0.886966\ttraining's ndcg@2: 0.944927\ttraining's ndcg@3: 0.955792\ttraining's ndcg@4: 0.956749\ttraining's ndcg@5: 0.956773\n",
      "[10]\ttraining's ndcg@1: 0.888459\ttraining's ndcg@2: 0.945554\ttraining's ndcg@3: 0.956341\ttraining's ndcg@4: 0.957296\ttraining's ndcg@5: 0.957318\n",
      "[11]\ttraining's ndcg@1: 0.889363\ttraining's ndcg@2: 0.946034\ttraining's ndcg@3: 0.956712\ttraining's ndcg@4: 0.957649\ttraining's ndcg@5: 0.957672\n",
      "[12]\ttraining's ndcg@1: 0.892609\ttraining's ndcg@2: 0.94856\ttraining's ndcg@3: 0.958332\ttraining's ndcg@4: 0.959123\ttraining's ndcg@5: 0.959138\n",
      "[13]\ttraining's ndcg@1: 0.894549\ttraining's ndcg@2: 0.949285\ttraining's ndcg@3: 0.95899\ttraining's ndcg@4: 0.95978\ttraining's ndcg@5: 0.959795\n",
      "[14]\ttraining's ndcg@1: 0.895705\ttraining's ndcg@2: 0.949807\ttraining's ndcg@3: 0.959425\ttraining's ndcg@4: 0.960212\ttraining's ndcg@5: 0.960227\n",
      "[15]\ttraining's ndcg@1: 0.897444\ttraining's ndcg@2: 0.95071\ttraining's ndcg@3: 0.96018\ttraining's ndcg@4: 0.960903\ttraining's ndcg@5: 0.960917\n",
      "[16]\ttraining's ndcg@1: 0.898102\ttraining's ndcg@2: 0.951124\ttraining's ndcg@3: 0.960448\ttraining's ndcg@4: 0.961177\ttraining's ndcg@5: 0.961191\n",
      "[17]\ttraining's ndcg@1: 0.898854\ttraining's ndcg@2: 0.951437\ttraining's ndcg@3: 0.960722\ttraining's ndcg@4: 0.961444\ttraining's ndcg@5: 0.961458\n",
      "[18]\ttraining's ndcg@1: 0.900116\ttraining's ndcg@2: 0.952336\ttraining's ndcg@3: 0.961338\ttraining's ndcg@4: 0.961997\ttraining's ndcg@5: 0.962009\n",
      "[19]\ttraining's ndcg@1: 0.900793\ttraining's ndcg@2: 0.952575\ttraining's ndcg@3: 0.961588\ttraining's ndcg@4: 0.962246\ttraining's ndcg@5: 0.962259\n",
      "[20]\ttraining's ndcg@1: 0.902278\ttraining's ndcg@2: 0.95318\ttraining's ndcg@3: 0.962113\ttraining's ndcg@4: 0.962773\ttraining's ndcg@5: 0.962785\n",
      "[21]\ttraining's ndcg@1: 0.902565\ttraining's ndcg@2: 0.953359\ttraining's ndcg@3: 0.962245\ttraining's ndcg@4: 0.9629\ttraining's ndcg@5: 0.962912\n",
      "[22]\ttraining's ndcg@1: 0.903364\ttraining's ndcg@2: 0.95383\ttraining's ndcg@3: 0.962584\ttraining's ndcg@4: 0.963218\ttraining's ndcg@5: 0.963231\n",
      "[23]\ttraining's ndcg@1: 0.904407\ttraining's ndcg@2: 0.954223\ttraining's ndcg@3: 0.962952\ttraining's ndcg@4: 0.963586\ttraining's ndcg@5: 0.963598\n",
      "[24]\ttraining's ndcg@1: 0.905127\ttraining's ndcg@2: 0.954486\ttraining's ndcg@3: 0.963204\ttraining's ndcg@4: 0.96384\ttraining's ndcg@5: 0.963852\n",
      "[25]\ttraining's ndcg@1: 0.905538\ttraining's ndcg@2: 0.954664\ttraining's ndcg@3: 0.963367\ttraining's ndcg@4: 0.963993\ttraining's ndcg@5: 0.964005\n",
      "[26]\ttraining's ndcg@1: 0.905923\ttraining's ndcg@2: 0.954902\ttraining's ndcg@3: 0.96354\ttraining's ndcg@4: 0.964158\ttraining's ndcg@5: 0.964171\n",
      "[27]\ttraining's ndcg@1: 0.906291\ttraining's ndcg@2: 0.954993\ttraining's ndcg@3: 0.963656\ttraining's ndcg@4: 0.964271\ttraining's ndcg@5: 0.964284\n",
      "[28]\ttraining's ndcg@1: 0.907376\ttraining's ndcg@2: 0.955439\ttraining's ndcg@3: 0.964045\ttraining's ndcg@4: 0.96467\ttraining's ndcg@5: 0.964682\n",
      "[29]\ttraining's ndcg@1: 0.907998\ttraining's ndcg@2: 0.955671\ttraining's ndcg@3: 0.964268\ttraining's ndcg@4: 0.964891\ttraining's ndcg@5: 0.964903\n",
      "[30]\ttraining's ndcg@1: 0.908219\ttraining's ndcg@2: 0.955836\ttraining's ndcg@3: 0.96437\ttraining's ndcg@4: 0.964988\ttraining's ndcg@5: 0.965\n",
      "[31]\ttraining's ndcg@1: 0.90876\ttraining's ndcg@2: 0.956177\ttraining's ndcg@3: 0.964626\ttraining's ndcg@4: 0.965222\ttraining's ndcg@5: 0.965234\n",
      "[32]\ttraining's ndcg@1: 0.908941\ttraining's ndcg@2: 0.95623\ttraining's ndcg@3: 0.964687\ttraining's ndcg@4: 0.965281\ttraining's ndcg@5: 0.965293\n",
      "[33]\ttraining's ndcg@1: 0.909821\ttraining's ndcg@2: 0.956668\ttraining's ndcg@3: 0.965033\ttraining's ndcg@4: 0.965619\ttraining's ndcg@5: 0.965632\n",
      "[34]\ttraining's ndcg@1: 0.910274\ttraining's ndcg@2: 0.956852\ttraining's ndcg@3: 0.9652\ttraining's ndcg@4: 0.965777\ttraining's ndcg@5: 0.965789\n",
      "[35]\ttraining's ndcg@1: 0.910921\ttraining's ndcg@2: 0.957109\ttraining's ndcg@3: 0.965439\ttraining's ndcg@4: 0.966011\ttraining's ndcg@5: 0.966023\n",
      "[36]\ttraining's ndcg@1: 0.911556\ttraining's ndcg@2: 0.957394\ttraining's ndcg@3: 0.965681\ttraining's ndcg@4: 0.966253\ttraining's ndcg@5: 0.966266\n",
      "[37]\ttraining's ndcg@1: 0.911753\ttraining's ndcg@2: 0.957468\ttraining's ndcg@3: 0.965749\ttraining's ndcg@4: 0.96632\ttraining's ndcg@5: 0.966332\n",
      "[38]\ttraining's ndcg@1: 0.912066\ttraining's ndcg@2: 0.957616\ttraining's ndcg@3: 0.96587\ttraining's ndcg@4: 0.966443\ttraining's ndcg@5: 0.966456\n",
      "[39]\ttraining's ndcg@1: 0.912791\ttraining's ndcg@2: 0.958045\ttraining's ndcg@3: 0.966173\ttraining's ndcg@4: 0.966735\ttraining's ndcg@5: 0.966746\n",
      "[40]\ttraining's ndcg@1: 0.913157\ttraining's ndcg@2: 0.958223\ttraining's ndcg@3: 0.966311\ttraining's ndcg@4: 0.966876\ttraining's ndcg@5: 0.966888\n",
      "[41]\ttraining's ndcg@1: 0.913761\ttraining's ndcg@2: 0.958416\ttraining's ndcg@3: 0.966526\ttraining's ndcg@4: 0.96709\ttraining's ndcg@5: 0.967102\n",
      "[42]\ttraining's ndcg@1: 0.914217\ttraining's ndcg@2: 0.958781\ttraining's ndcg@3: 0.966771\ttraining's ndcg@4: 0.967306\ttraining's ndcg@5: 0.967318\n",
      "[43]\ttraining's ndcg@1: 0.914685\ttraining's ndcg@2: 0.95897\ttraining's ndcg@3: 0.96695\ttraining's ndcg@4: 0.967483\ttraining's ndcg@5: 0.967494\n",
      "[44]\ttraining's ndcg@1: 0.915148\ttraining's ndcg@2: 0.959146\ttraining's ndcg@3: 0.967111\ttraining's ndcg@4: 0.967644\ttraining's ndcg@5: 0.967655\n",
      "[45]\ttraining's ndcg@1: 0.915839\ttraining's ndcg@2: 0.959553\ttraining's ndcg@3: 0.967402\ttraining's ndcg@4: 0.967925\ttraining's ndcg@5: 0.967936\n",
      "[46]\ttraining's ndcg@1: 0.916173\ttraining's ndcg@2: 0.959685\ttraining's ndcg@3: 0.96752\ttraining's ndcg@4: 0.968047\ttraining's ndcg@5: 0.968058\n",
      "[47]\ttraining's ndcg@1: 0.916261\ttraining's ndcg@2: 0.959714\ttraining's ndcg@3: 0.967548\ttraining's ndcg@4: 0.968075\ttraining's ndcg@5: 0.968086\n",
      "[48]\ttraining's ndcg@1: 0.916691\ttraining's ndcg@2: 0.959951\ttraining's ndcg@3: 0.967729\ttraining's ndcg@4: 0.96825\ttraining's ndcg@5: 0.968261\n",
      "[49]\ttraining's ndcg@1: 0.91699\ttraining's ndcg@2: 0.960109\ttraining's ndcg@3: 0.967848\ttraining's ndcg@4: 0.96837\ttraining's ndcg@5: 0.968381\n",
      "[50]\ttraining's ndcg@1: 0.91745\ttraining's ndcg@2: 0.960295\ttraining's ndcg@3: 0.968014\ttraining's ndcg@4: 0.968533\ttraining's ndcg@5: 0.968543\n",
      "[51]\ttraining's ndcg@1: 0.917713\ttraining's ndcg@2: 0.960433\ttraining's ndcg@3: 0.968132\ttraining's ndcg@4: 0.968642\ttraining's ndcg@5: 0.968652\n",
      "[52]\ttraining's ndcg@1: 0.918362\ttraining's ndcg@2: 0.960643\ttraining's ndcg@3: 0.968351\ttraining's ndcg@4: 0.968862\ttraining's ndcg@5: 0.968873\n",
      "[53]\ttraining's ndcg@1: 0.91864\ttraining's ndcg@2: 0.960792\ttraining's ndcg@3: 0.96846\ttraining's ndcg@4: 0.96897\ttraining's ndcg@5: 0.968981\n",
      "[54]\ttraining's ndcg@1: 0.918871\ttraining's ndcg@2: 0.960869\ttraining's ndcg@3: 0.968545\ttraining's ndcg@4: 0.969054\ttraining's ndcg@5: 0.969065\n",
      "[55]\ttraining's ndcg@1: 0.919003\ttraining's ndcg@2: 0.960896\ttraining's ndcg@3: 0.968584\ttraining's ndcg@4: 0.969096\ttraining's ndcg@5: 0.969107\n",
      "[56]\ttraining's ndcg@1: 0.91956\ttraining's ndcg@2: 0.961136\ttraining's ndcg@3: 0.968792\ttraining's ndcg@4: 0.969301\ttraining's ndcg@5: 0.969311\n",
      "[57]\ttraining's ndcg@1: 0.919853\ttraining's ndcg@2: 0.961254\ttraining's ndcg@3: 0.968899\ttraining's ndcg@4: 0.969405\ttraining's ndcg@5: 0.969416\n",
      "[58]\ttraining's ndcg@1: 0.920392\ttraining's ndcg@2: 0.961484\ttraining's ndcg@3: 0.969093\ttraining's ndcg@4: 0.969602\ttraining's ndcg@5: 0.969613\n",
      "[59]\ttraining's ndcg@1: 0.92056\ttraining's ndcg@2: 0.96157\ttraining's ndcg@3: 0.969156\ttraining's ndcg@4: 0.969667\ttraining's ndcg@5: 0.969678\n",
      "[60]\ttraining's ndcg@1: 0.920687\ttraining's ndcg@2: 0.961576\ttraining's ndcg@3: 0.969192\ttraining's ndcg@4: 0.969702\ttraining's ndcg@5: 0.969713\n",
      "[61]\ttraining's ndcg@1: 0.92103\ttraining's ndcg@2: 0.961696\ttraining's ndcg@3: 0.969318\ttraining's ndcg@4: 0.969828\ttraining's ndcg@5: 0.969839\n",
      "[62]\ttraining's ndcg@1: 0.921266\ttraining's ndcg@2: 0.961844\ttraining's ndcg@3: 0.969418\ttraining's ndcg@4: 0.969925\ttraining's ndcg@5: 0.969936\n",
      "[63]\ttraining's ndcg@1: 0.921481\ttraining's ndcg@2: 0.961998\ttraining's ndcg@3: 0.969508\ttraining's ndcg@4: 0.970016\ttraining's ndcg@5: 0.970027\n",
      "[64]\ttraining's ndcg@1: 0.921712\ttraining's ndcg@2: 0.962082\ttraining's ndcg@3: 0.969585\ttraining's ndcg@4: 0.970098\ttraining's ndcg@5: 0.970108\n",
      "[65]\ttraining's ndcg@1: 0.921883\ttraining's ndcg@2: 0.96217\ttraining's ndcg@3: 0.96964\ttraining's ndcg@4: 0.970158\ttraining's ndcg@5: 0.970169\n",
      "[66]\ttraining's ndcg@1: 0.922441\ttraining's ndcg@2: 0.962395\ttraining's ndcg@3: 0.969857\ttraining's ndcg@4: 0.970367\ttraining's ndcg@5: 0.970378\n",
      "[67]\ttraining's ndcg@1: 0.922528\ttraining's ndcg@2: 0.962411\ttraining's ndcg@3: 0.969882\ttraining's ndcg@4: 0.970396\ttraining's ndcg@5: 0.970407\n",
      "[68]\ttraining's ndcg@1: 0.922779\ttraining's ndcg@2: 0.96251\ttraining's ndcg@3: 0.96996\ttraining's ndcg@4: 0.970481\ttraining's ndcg@5: 0.970492\n",
      "[69]\ttraining's ndcg@1: 0.923095\ttraining's ndcg@2: 0.962594\ttraining's ndcg@3: 0.970065\ttraining's ndcg@4: 0.970585\ttraining's ndcg@5: 0.970595\n",
      "[70]\ttraining's ndcg@1: 0.92334\ttraining's ndcg@2: 0.962717\ttraining's ndcg@3: 0.970163\ttraining's ndcg@4: 0.970679\ttraining's ndcg@5: 0.97069\n",
      "[71]\ttraining's ndcg@1: 0.923611\ttraining's ndcg@2: 0.96281\ttraining's ndcg@3: 0.970268\ttraining's ndcg@4: 0.970777\ttraining's ndcg@5: 0.970788\n",
      "[72]\ttraining's ndcg@1: 0.923876\ttraining's ndcg@2: 0.962938\ttraining's ndcg@3: 0.970374\ttraining's ndcg@4: 0.970881\ttraining's ndcg@5: 0.970891\n",
      "[73]\ttraining's ndcg@1: 0.923912\ttraining's ndcg@2: 0.962982\ttraining's ndcg@3: 0.970391\ttraining's ndcg@4: 0.970902\ttraining's ndcg@5: 0.970913\n",
      "[74]\ttraining's ndcg@1: 0.924093\ttraining's ndcg@2: 0.963023\ttraining's ndcg@3: 0.970455\ttraining's ndcg@4: 0.970964\ttraining's ndcg@5: 0.970975\n",
      "[75]\ttraining's ndcg@1: 0.924205\ttraining's ndcg@2: 0.963061\ttraining's ndcg@3: 0.970487\ttraining's ndcg@4: 0.971\ttraining's ndcg@5: 0.97101\n",
      "[76]\ttraining's ndcg@1: 0.924415\ttraining's ndcg@2: 0.963156\ttraining's ndcg@3: 0.970576\ttraining's ndcg@4: 0.971079\ttraining's ndcg@5: 0.97109\n",
      "[77]\ttraining's ndcg@1: 0.924627\ttraining's ndcg@2: 0.963243\ttraining's ndcg@3: 0.970651\ttraining's ndcg@4: 0.971156\ttraining's ndcg@5: 0.971167\n",
      "[78]\ttraining's ndcg@1: 0.924929\ttraining's ndcg@2: 0.963423\ttraining's ndcg@3: 0.97079\ttraining's ndcg@4: 0.971283\ttraining's ndcg@5: 0.971293\n",
      "[79]\ttraining's ndcg@1: 0.925121\ttraining's ndcg@2: 0.96355\ttraining's ndcg@3: 0.97087\ttraining's ndcg@4: 0.971363\ttraining's ndcg@5: 0.971373\n",
      "[80]\ttraining's ndcg@1: 0.925415\ttraining's ndcg@2: 0.963668\ttraining's ndcg@3: 0.970982\ttraining's ndcg@4: 0.971473\ttraining's ndcg@5: 0.971483\n",
      "[81]\ttraining's ndcg@1: 0.925686\ttraining's ndcg@2: 0.963801\ttraining's ndcg@3: 0.971083\ttraining's ndcg@4: 0.971577\ttraining's ndcg@5: 0.971587\n",
      "[82]\ttraining's ndcg@1: 0.925838\ttraining's ndcg@2: 0.963869\ttraining's ndcg@3: 0.971137\ttraining's ndcg@4: 0.971632\ttraining's ndcg@5: 0.971643\n",
      "[83]\ttraining's ndcg@1: 0.926137\ttraining's ndcg@2: 0.963955\ttraining's ndcg@3: 0.971234\ttraining's ndcg@4: 0.97173\ttraining's ndcg@5: 0.971741\n",
      "[84]\ttraining's ndcg@1: 0.926169\ttraining's ndcg@2: 0.964013\ttraining's ndcg@3: 0.971264\ttraining's ndcg@4: 0.971752\ttraining's ndcg@5: 0.971762\n",
      "[85]\ttraining's ndcg@1: 0.926376\ttraining's ndcg@2: 0.964077\ttraining's ndcg@3: 0.971335\ttraining's ndcg@4: 0.971823\ttraining's ndcg@5: 0.971834\n",
      "[86]\ttraining's ndcg@1: 0.926471\ttraining's ndcg@2: 0.964122\ttraining's ndcg@3: 0.971363\ttraining's ndcg@4: 0.971856\ttraining's ndcg@5: 0.971867\n",
      "[87]\ttraining's ndcg@1: 0.926718\ttraining's ndcg@2: 0.964211\ttraining's ndcg@3: 0.971451\ttraining's ndcg@4: 0.971945\ttraining's ndcg@5: 0.971955\n",
      "[88]\ttraining's ndcg@1: 0.926887\ttraining's ndcg@2: 0.964298\ttraining's ndcg@3: 0.971519\ttraining's ndcg@4: 0.972012\ttraining's ndcg@5: 0.972022\n",
      "[89]\ttraining's ndcg@1: 0.927021\ttraining's ndcg@2: 0.964375\ttraining's ndcg@3: 0.971581\ttraining's ndcg@4: 0.972066\ttraining's ndcg@5: 0.972077\n",
      "[90]\ttraining's ndcg@1: 0.927109\ttraining's ndcg@2: 0.96441\ttraining's ndcg@3: 0.971615\ttraining's ndcg@4: 0.9721\ttraining's ndcg@5: 0.972111\n",
      "[91]\ttraining's ndcg@1: 0.9272\ttraining's ndcg@2: 0.964385\ttraining's ndcg@3: 0.971631\ttraining's ndcg@4: 0.972118\ttraining's ndcg@5: 0.972129\n",
      "[92]\ttraining's ndcg@1: 0.927287\ttraining's ndcg@2: 0.964418\ttraining's ndcg@3: 0.97166\ttraining's ndcg@4: 0.972147\ttraining's ndcg@5: 0.972158\n",
      "[93]\ttraining's ndcg@1: 0.92764\ttraining's ndcg@2: 0.964596\ttraining's ndcg@3: 0.971785\ttraining's ndcg@4: 0.972276\ttraining's ndcg@5: 0.972287\n",
      "[94]\ttraining's ndcg@1: 0.927627\ttraining's ndcg@2: 0.964599\ttraining's ndcg@3: 0.971787\ttraining's ndcg@4: 0.972277\ttraining's ndcg@5: 0.972287\n",
      "[95]\ttraining's ndcg@1: 0.927776\ttraining's ndcg@2: 0.964685\ttraining's ndcg@3: 0.971844\ttraining's ndcg@4: 0.972334\ttraining's ndcg@5: 0.972344\n",
      "[96]\ttraining's ndcg@1: 0.927911\ttraining's ndcg@2: 0.964756\ttraining's ndcg@3: 0.971899\ttraining's ndcg@4: 0.97239\ttraining's ndcg@5: 0.972401\n",
      "[97]\ttraining's ndcg@1: 0.92813\ttraining's ndcg@2: 0.964812\ttraining's ndcg@3: 0.97197\ttraining's ndcg@4: 0.972463\ttraining's ndcg@5: 0.972474\n",
      "[98]\ttraining's ndcg@1: 0.928275\ttraining's ndcg@2: 0.964868\ttraining's ndcg@3: 0.972026\ttraining's ndcg@4: 0.972516\ttraining's ndcg@5: 0.972527\n",
      "[99]\ttraining's ndcg@1: 0.928403\ttraining's ndcg@2: 0.964942\ttraining's ndcg@3: 0.972075\ttraining's ndcg@4: 0.972567\ttraining's ndcg@5: 0.972578\n",
      "[100]\ttraining's ndcg@1: 0.928498\ttraining's ndcg@2: 0.965008\ttraining's ndcg@3: 0.972112\ttraining's ndcg@4: 0.972607\ttraining's ndcg@5: 0.972619\n"
     ]
    }
   ],
   "source": [
    "gbm=lgb.train(params,\n",
    "              train_data,\n",
    "              valid_sets=train_data,\n",
    "              categorical_feature=categorical_feature)"
   ]
  },
  {
   "cell_type": "code",
   "execution_count": 145,
   "metadata": {},
   "outputs": [
    {
     "data": {
      "text/plain": [
       "<lightgbm.basic.Booster at 0x7f45daf4a160>"
      ]
     },
     "execution_count": 145,
     "metadata": {},
     "output_type": "execute_result"
    }
   ],
   "source": [
    "gbm.save_model('model.txt')"
   ]
  },
  {
   "cell_type": "code",
   "execution_count": 146,
   "metadata": {},
   "outputs": [],
   "source": [
    "bst = lgb.Booster(model_file='model.txt')"
   ]
  },
  {
   "cell_type": "code",
   "execution_count": 147,
   "metadata": {},
   "outputs": [],
   "source": [
    "y_pred = bst.predict(X_train)"
   ]
  },
  {
   "cell_type": "code",
   "execution_count": 148,
   "metadata": {},
   "outputs": [
    {
     "data": {
      "text/plain": [
       "array([ 0.0953342 ,  0.06218727,  0.19133717, -0.03305418,  0.22432032,\n",
       "        0.32376076, -0.06719544, -0.14347286, -0.02790183, -0.03821245,\n",
       "        0.1435546 ,  0.01233221,  0.32376076,  0.10562939, -0.12094931,\n",
       "       -0.04379177,  0.18468437,  0.10143828,  0.06181377,  0.22303378])"
      ]
     },
     "execution_count": 148,
     "metadata": {},
     "output_type": "execute_result"
    }
   ],
   "source": [
    "y_pred[0:20]"
   ]
  },
  {
   "cell_type": "code",
   "execution_count": 142,
   "metadata": {},
   "outputs": [
    {
     "data": {
      "text/plain": [
       "array([-0.00230217,  0.04026367,  0.05886939, -0.07612573,  0.10762921,\n",
       "        0.17127281, -0.07100379, -0.1195112 , -0.05004771, -0.0825191 ,\n",
       "        0.05658022, -0.05004771,  0.17127281,  0.01425573, -0.14078834,\n",
       "       -0.0825191 ,  0.05886939,  0.0204227 , -0.10244982,  0.10991838])"
      ]
     },
     "execution_count": 142,
     "metadata": {},
     "output_type": "execute_result"
    }
   ],
   "source": [
    "y_pred[0:20]"
   ]
  },
  {
   "cell_type": "code",
   "execution_count": 41,
   "metadata": {},
   "outputs": [
    {
     "data": {
      "text/plain": [
       "0.13584097871591141"
      ]
     },
     "execution_count": 41,
     "metadata": {},
     "output_type": "execute_result"
    }
   ],
   "source": [
    "y_pred[1]"
   ]
  },
  {
   "cell_type": "code",
   "execution_count": 70,
   "metadata": {},
   "outputs": [],
   "source": [
    "graph = lgb.create_tree_digraph(bst, tree_index=0, name='tree' + str(0))\n",
    "#graph.render(filename='./tree_plot', view=True)"
   ]
  },
  {
   "cell_type": "code",
   "execution_count": 69,
   "metadata": {},
   "outputs": [],
   "source": [
    "import graphviz"
   ]
  },
  {
   "cell_type": "code",
   "execution_count": 71,
   "metadata": {},
   "outputs": [
    {
     "data": {
      "text/html": [
       "['cid3', 'brand', 'ctf', 'ctf_cofidence', 'rf', 'icf', 'icf_confidence', 'icf_max', 'igm', 'entropy']"
      ],
      "text/plain": [
       "['cid3',\n",
       " 'brand',\n",
       " 'ctf',\n",
       " 'ctf_cofidence',\n",
       " 'rf',\n",
       " 'icf',\n",
       " 'icf_confidence',\n",
       " 'icf_max',\n",
       " 'igm',\n",
       " 'entropy']"
      ]
     },
     "execution_count": 71,
     "metadata": {},
     "output_type": "execute_result"
    }
   ],
   "source": [
    "bst.feature_name()"
   ]
  },
  {
   "cell_type": "code",
   "execution_count": 72,
   "metadata": {},
   "outputs": [
    {
     "data": {
      "text/plain": [
       "array([1694,  229,  399,   99,  157,   90,    4,   14,  300,   14])"
      ]
     },
     "execution_count": 72,
     "metadata": {},
     "output_type": "execute_result"
    }
   ],
   "source": [
    "bst.feature_importance()"
   ]
  },
  {
   "cell_type": "code",
   "execution_count": 73,
   "metadata": {},
   "outputs": [
    {
     "name": "stdout",
     "output_type": "stream",
     "text": [
      "Feature importances: [1694, 229, 399, 99, 157, 90, 4, 14, 300, 14]\n"
     ]
    }
   ],
   "source": [
    "print(f'Feature importances: {list(bst.feature_importance())}')"
   ]
  },
  {
   "cell_type": "code",
   "execution_count": 76,
   "metadata": {},
   "outputs": [
    {
     "data": {
      "image/png": "[encoded data removed]",
      "text/plain": [
       "<Figure size 720x504 with 1 Axes>"
      ]
     },
     "metadata": {
      "needs_background": "light"
     },
     "output_type": "display_data"
    }
   ],
   "source": [
    "fea_imp = pd.DataFrame({'imp': bst.feature_importance(importance_type='split'), 'col': X.columns})\n",
    "fea_imp = fea_imp.sort_values(['imp', 'col'], ascending=[True, False]).iloc[-30:]\n",
    "fea_imp.plot(kind='barh', x='col', y='imp', figsize=(10, 7), legend=None)\n",
    "plt.title('Feature Importance')\n",
    "plt.ylabel('Features')\n",
    "plt.xlabel('Importance');"
   ]
  },
  {
   "cell_type": "code",
   "execution_count": 77,
   "metadata": {},
   "outputs": [],
   "source": [
    "explainer = shap.TreeExplainer(bst)"
   ]
  },
  {
   "cell_type": "code",
   "execution_count": 79,
   "metadata": {},
   "outputs": [],
   "source": [
    "shap_values = explainer.shap_values(X)"
   ]
  },
  {
   "cell_type": "code",
   "execution_count": 80,
   "metadata": {},
   "outputs": [
    {
     "data": {
      "image/png": "[encoded data removed]",
      "text/plain": [
       "<Figure size 576x396 with 1 Axes>"
      ]
     },
     "metadata": {
      "needs_background": "light"
     },
     "output_type": "display_data"
    }
   ],
   "source": [
    "shap.summary_plot(shap_values, X, plot_type=\"bar\")"
   ]
  },
  {
   "cell_type": "code",
   "execution_count": 81,
   "metadata": {},
   "outputs": [
    {
     "data": {
      "image/png": "[encoded data removed]",
      "text/plain": [
       "<Figure size 576x396 with 2 Axes>"
      ]
     },
     "metadata": {
      "needs_background": "light"
     },
     "output_type": "display_data"
    }
   ],
   "source": [
    "shap.summary_plot(shap_values, X)"
   ]
  },
  {
   "cell_type": "code",
   "execution_count": 83,
   "metadata": {},
   "outputs": [
    {
     "data": {
      "image/png": "[encoded data removed]",
      "text/plain": [
       "<Figure size 540x360 with 1 Axes>"
      ]
     },
     "metadata": {
      "needs_background": "light"
     },
     "output_type": "display_data"
    }
   ],
   "source": [
    " shap.dependence_plot('ctf', shap_values, X, interaction_index=None, show=True)"
   ]
  },
  {
   "cell_type": "code",
   "execution_count": 84,
   "metadata": {},
   "outputs": [
    {
     "data": {
      "image/png": "[encoded data removed]",
      "text/plain": [
       "<Figure size 540x360 with 2 Axes>"
      ]
     },
     "metadata": {
      "needs_background": "light"
     },
     "output_type": "display_data"
    }
   ],
   "source": [
    "shap.dependence_plot('ctf', shap_values, X, interaction_index='igm', show=True)"
   ]
  },
  {
   "cell_type": "code",
   "execution_count": 87,
   "metadata": {},
   "outputs": [],
   "source": [
    "ypred = bst.predict(X, pred_leaf=True)"
   ]
  },
  {
   "cell_type": "code",
   "execution_count": 88,
   "metadata": {},
   "outputs": [
    {
     "name": "stderr",
     "output_type": "stream",
     "text": [
      "/usr/local/anaconda3/lib/python3.6/site-packages/sklearn/preprocessing/_encoders.py:363: FutureWarning: The handling of integer data will change in version 0.22. Currently, the categories are determined based on the range [0, max(values)], while in the future they will be determined based on the unique values.\n",
      "If you want the future behaviour and silence this warning, you can specify \"categories='auto'\".\n",
      "In case you used a LabelEncoder before this OneHotEncoder to convert the categories to integers, then you can now use the OneHotEncoder directly.\n",
      "  warnings.warn(msg, FutureWarning)\n"
     ]
    }
   ],
   "source": [
    "from sklearn.preprocessing import OneHotEncoder\n",
    "one_hot_encoder = OneHotEncoder()\n",
    "x_one_hot = one_hot_encoder.fit_transform(ypred)"
   ]
  },
  {
   "cell_type": "code",
   "execution_count": 89,
   "metadata": {},
   "outputs": [
    {
     "name": "stdout",
     "output_type": "stream",
     "text": [
      "(100000, 3100)\n"
     ]
    }
   ],
   "source": [
    "print(x_one_hot.shape)"
   ]
  },
  {
   "cell_type": "code",
   "execution_count": 90,
   "metadata": {},
   "outputs": [
    {
     "name": "stdout",
     "output_type": "stream",
     "text": [
      "[[0. 0. 0. ... 0. 0. 0.]]\n"
     ]
    }
   ],
   "source": [
    " print(x_one_hot[0].toarray())"
   ]
  },
  {
   "cell_type": "code",
   "execution_count": 149,
   "metadata": {},
   "outputs": [
    {
     "ename": "ExecutableNotFound",
     "evalue": "failed to execute PosixPath('dot'), make sure the Graphviz executables are on your systems' PATH",
     "output_type": "error",
     "traceback": [
      "\u001b[0;31m---------------------------------------------------------------------------\u001b[0m",
      "\u001b[0;31mFileNotFoundError\u001b[0m                         Traceback (most recent call last)",
      "\u001b[0;32m/media/cfs/zhangjun386/.pylib/lib/python3.6/site-packages/graphviz/backend/execute.py\u001b[0m in \u001b[0;36mrun_check\u001b[0;34m(cmd, input_lines, encoding, capture_output, quiet, **kwargs)\u001b[0m\n\u001b[1;32m     82\u001b[0m             \u001b[0;32massert\u001b[0m \u001b[0miter\u001b[0m\u001b[0;34m(\u001b[0m\u001b[0minput_lines\u001b[0m\u001b[0;34m)\u001b[0m \u001b[0;32mis\u001b[0m \u001b[0minput_lines\u001b[0m\u001b[0;34m\u001b[0m\u001b[0;34m\u001b[0m\u001b[0m\n\u001b[0;32m---> 83\u001b[0;31m             \u001b[0mproc\u001b[0m \u001b[0;34m=\u001b[0m \u001b[0m_run_input_lines\u001b[0m\u001b[0;34m(\u001b[0m\u001b[0mcmd\u001b[0m\u001b[0;34m,\u001b[0m \u001b[0minput_lines\u001b[0m\u001b[0;34m,\u001b[0m \u001b[0mkwargs\u001b[0m\u001b[0;34m=\u001b[0m\u001b[0mkwargs\u001b[0m\u001b[0;34m)\u001b[0m\u001b[0;34m\u001b[0m\u001b[0;34m\u001b[0m\u001b[0m\n\u001b[0m\u001b[1;32m     84\u001b[0m         \u001b[0;32melse\u001b[0m\u001b[0;34m:\u001b[0m\u001b[0;34m\u001b[0m\u001b[0;34m\u001b[0m\u001b[0m\n",
      "\u001b[0;32m/media/cfs/zhangjun386/.pylib/lib/python3.6/site-packages/graphviz/backend/execute.py\u001b[0m in \u001b[0;36m_run_input_lines\u001b[0;34m(cmd, input_lines, kwargs)\u001b[0m\n\u001b[1;32m    102\u001b[0m \u001b[0;32mdef\u001b[0m \u001b[0m_run_input_lines\u001b[0m\u001b[0;34m(\u001b[0m\u001b[0mcmd\u001b[0m\u001b[0;34m,\u001b[0m \u001b[0minput_lines\u001b[0m\u001b[0;34m,\u001b[0m \u001b[0;34m*\u001b[0m\u001b[0;34m,\u001b[0m \u001b[0mkwargs\u001b[0m\u001b[0;34m)\u001b[0m\u001b[0;34m:\u001b[0m\u001b[0;34m\u001b[0m\u001b[0;34m\u001b[0m\u001b[0m\n\u001b[0;32m--> 103\u001b[0;31m     \u001b[0mpopen\u001b[0m \u001b[0;34m=\u001b[0m \u001b[0msubprocess\u001b[0m\u001b[0;34m.\u001b[0m\u001b[0mPopen\u001b[0m\u001b[0;34m(\u001b[0m\u001b[0mcmd\u001b[0m\u001b[0;34m,\u001b[0m \u001b[0mstdin\u001b[0m\u001b[0;34m=\u001b[0m\u001b[0msubprocess\u001b[0m\u001b[0;34m.\u001b[0m\u001b[0mPIPE\u001b[0m\u001b[0;34m,\u001b[0m \u001b[0;34m**\u001b[0m\u001b[0mkwargs\u001b[0m\u001b[0;34m)\u001b[0m\u001b[0;34m\u001b[0m\u001b[0;34m\u001b[0m\u001b[0m\n\u001b[0m\u001b[1;32m    104\u001b[0m \u001b[0;34m\u001b[0m\u001b[0m\n",
      "\u001b[0;32m/usr/local/anaconda3/lib/python3.6/subprocess.py\u001b[0m in \u001b[0;36m__init__\u001b[0;34m(self, args, bufsize, executable, stdin, stdout, stderr, preexec_fn, close_fds, shell, cwd, env, universal_newlines, startupinfo, creationflags, restore_signals, start_new_session, pass_fds, encoding, errors)\u001b[0m\n\u001b[1;32m    708\u001b[0m                                 \u001b[0merrread\u001b[0m\u001b[0;34m,\u001b[0m \u001b[0merrwrite\u001b[0m\u001b[0;34m,\u001b[0m\u001b[0;34m\u001b[0m\u001b[0;34m\u001b[0m\u001b[0m\n\u001b[0;32m--> 709\u001b[0;31m                                 restore_signals, start_new_session)\n\u001b[0m\u001b[1;32m    710\u001b[0m         \u001b[0;32mexcept\u001b[0m\u001b[0;34m:\u001b[0m\u001b[0;34m\u001b[0m\u001b[0;34m\u001b[0m\u001b[0m\n",
      "\u001b[0;32m/usr/local/anaconda3/lib/python3.6/subprocess.py\u001b[0m in \u001b[0;36m_execute_child\u001b[0;34m(self, args, executable, preexec_fn, close_fds, pass_fds, cwd, env, startupinfo, creationflags, shell, p2cread, p2cwrite, c2pread, c2pwrite, errread, errwrite, restore_signals, start_new_session)\u001b[0m\n\u001b[1;32m   1343\u001b[0m                             \u001b[0merr_msg\u001b[0m \u001b[0;34m+=\u001b[0m \u001b[0;34m': '\u001b[0m \u001b[0;34m+\u001b[0m \u001b[0mrepr\u001b[0m\u001b[0;34m(\u001b[0m\u001b[0merr_filename\u001b[0m\u001b[0;34m)\u001b[0m\u001b[0;34m\u001b[0m\u001b[0;34m\u001b[0m\u001b[0m\n\u001b[0;32m-> 1344\u001b[0;31m                     \u001b[0;32mraise\u001b[0m \u001b[0mchild_exception_type\u001b[0m\u001b[0;34m(\u001b[0m\u001b[0merrno_num\u001b[0m\u001b[0;34m,\u001b[0m \u001b[0merr_msg\u001b[0m\u001b[0;34m,\u001b[0m \u001b[0merr_filename\u001b[0m\u001b[0;34m)\u001b[0m\u001b[0;34m\u001b[0m\u001b[0;34m\u001b[0m\u001b[0m\n\u001b[0m\u001b[1;32m   1345\u001b[0m                 \u001b[0;32mraise\u001b[0m \u001b[0mchild_exception_type\u001b[0m\u001b[0;34m(\u001b[0m\u001b[0merr_msg\u001b[0m\u001b[0;34m)\u001b[0m\u001b[0;34m\u001b[0m\u001b[0;34m\u001b[0m\u001b[0m\n",
      "\u001b[0;31mFileNotFoundError\u001b[0m: [Errno 2] No such file or directory: PosixPath('dot'): PosixPath('dot')",
      "\nThe above exception was the direct cause of the following exception:\n",
      "\u001b[0;31mExecutableNotFound\u001b[0m                        Traceback (most recent call last)",
      "\u001b[0;32m<ipython-input-149-ae91fa8ebe9e>\u001b[0m in \u001b[0;36m<module>\u001b[0;34m\u001b[0m\n\u001b[1;32m      1\u001b[0m \u001b[0mfig2\u001b[0m \u001b[0;34m=\u001b[0m \u001b[0mplt\u001b[0m\u001b[0;34m.\u001b[0m\u001b[0mfigure\u001b[0m\u001b[0;34m(\u001b[0m\u001b[0mfigsize\u001b[0m\u001b[0;34m=\u001b[0m\u001b[0;34m(\u001b[0m\u001b[0;36m20\u001b[0m\u001b[0;34m,\u001b[0m \u001b[0;36m20\u001b[0m\u001b[0;34m)\u001b[0m\u001b[0;34m)\u001b[0m\u001b[0;34m\u001b[0m\u001b[0;34m\u001b[0m\u001b[0m\n\u001b[1;32m      2\u001b[0m \u001b[0max\u001b[0m \u001b[0;34m=\u001b[0m \u001b[0mfig2\u001b[0m\u001b[0;34m.\u001b[0m\u001b[0msubplots\u001b[0m\u001b[0;34m(\u001b[0m\u001b[0;34m)\u001b[0m\u001b[0;34m\u001b[0m\u001b[0;34m\u001b[0m\u001b[0m\n\u001b[0;32m----> 3\u001b[0;31m \u001b[0mlgb\u001b[0m\u001b[0;34m.\u001b[0m\u001b[0mplot_tree\u001b[0m\u001b[0;34m(\u001b[0m\u001b[0mbst\u001b[0m\u001b[0;34m,\u001b[0m \u001b[0mtree_index\u001b[0m\u001b[0;34m=\u001b[0m\u001b[0;36m1\u001b[0m\u001b[0;34m,\u001b[0m \u001b[0max\u001b[0m\u001b[0;34m=\u001b[0m\u001b[0max\u001b[0m\u001b[0;34m)\u001b[0m\u001b[0;34m\u001b[0m\u001b[0;34m\u001b[0m\u001b[0m\n\u001b[0m\u001b[1;32m      4\u001b[0m \u001b[0mplt\u001b[0m\u001b[0;34m.\u001b[0m\u001b[0mshow\u001b[0m\u001b[0;34m(\u001b[0m\u001b[0;34m)\u001b[0m\u001b[0;34m\u001b[0m\u001b[0;34m\u001b[0m\u001b[0m\n",
      "\u001b[0;32m/media/cfs/zhangjun386/.pylib/lib/python3.6/site-packages/lightgbm/plotting.py\u001b[0m in \u001b[0;36mplot_tree\u001b[0;34m(booster, ax, tree_index, figsize, old_graph_attr, old_node_attr, old_edge_attr, show_info, precision, **kwargs)\u001b[0m\n\u001b[1;32m    448\u001b[0m \u001b[0;34m\u001b[0m\u001b[0m\n\u001b[1;32m    449\u001b[0m     \u001b[0ms\u001b[0m \u001b[0;34m=\u001b[0m \u001b[0mBytesIO\u001b[0m\u001b[0;34m(\u001b[0m\u001b[0;34m)\u001b[0m\u001b[0;34m\u001b[0m\u001b[0;34m\u001b[0m\u001b[0m\n\u001b[0;32m--> 450\u001b[0;31m     \u001b[0ms\u001b[0m\u001b[0;34m.\u001b[0m\u001b[0mwrite\u001b[0m\u001b[0;34m(\u001b[0m\u001b[0mgraph\u001b[0m\u001b[0;34m.\u001b[0m\u001b[0mpipe\u001b[0m\u001b[0;34m(\u001b[0m\u001b[0mformat\u001b[0m\u001b[0;34m=\u001b[0m\u001b[0;34m'png'\u001b[0m\u001b[0;34m)\u001b[0m\u001b[0;34m)\u001b[0m\u001b[0;34m\u001b[0m\u001b[0;34m\u001b[0m\u001b[0m\n\u001b[0m\u001b[1;32m    451\u001b[0m     \u001b[0ms\u001b[0m\u001b[0;34m.\u001b[0m\u001b[0mseek\u001b[0m\u001b[0;34m(\u001b[0m\u001b[0;36m0\u001b[0m\u001b[0;34m)\u001b[0m\u001b[0;34m\u001b[0m\u001b[0;34m\u001b[0m\u001b[0m\n\u001b[1;32m    452\u001b[0m     \u001b[0mimg\u001b[0m \u001b[0;34m=\u001b[0m \u001b[0mimage\u001b[0m\u001b[0;34m.\u001b[0m\u001b[0mimread\u001b[0m\u001b[0;34m(\u001b[0m\u001b[0ms\u001b[0m\u001b[0;34m)\u001b[0m\u001b[0;34m\u001b[0m\u001b[0;34m\u001b[0m\u001b[0m\n",
      "\u001b[0;32m/media/cfs/zhangjun386/.pylib/lib/python3.6/site-packages/graphviz/piping.py\u001b[0m in \u001b[0;36mpipe\u001b[0;34m(self, format, renderer, formatter, quiet, engine, encoding)\u001b[0m\n\u001b[1;32m    101\u001b[0m                                  \u001b[0mquiet\u001b[0m\u001b[0;34m=\u001b[0m\u001b[0mquiet\u001b[0m\u001b[0;34m,\u001b[0m\u001b[0;34m\u001b[0m\u001b[0;34m\u001b[0m\u001b[0m\n\u001b[1;32m    102\u001b[0m                                  \u001b[0mengine\u001b[0m\u001b[0;34m=\u001b[0m\u001b[0mengine\u001b[0m\u001b[0;34m,\u001b[0m\u001b[0;34m\u001b[0m\u001b[0;34m\u001b[0m\u001b[0m\n\u001b[0;32m--> 103\u001b[0;31m                                  encoding=encoding)\n\u001b[0m\u001b[1;32m    104\u001b[0m \u001b[0;34m\u001b[0m\u001b[0m\n\u001b[1;32m    105\u001b[0m     \u001b[0;34m@\u001b[0m\u001b[0m_tools\u001b[0m\u001b[0;34m.\u001b[0m\u001b[0mdeprecate_positional_args\u001b[0m\u001b[0;34m(\u001b[0m\u001b[0msupported_number\u001b[0m\u001b[0;34m=\u001b[0m\u001b[0;36m2\u001b[0m\u001b[0;34m)\u001b[0m\u001b[0;34m\u001b[0m\u001b[0;34m\u001b[0m\u001b[0m\n",
      "\u001b[0;32m/media/cfs/zhangjun386/.pylib/lib/python3.6/site-packages/graphviz/_tools.py\u001b[0m in \u001b[0;36mwrapper\u001b[0;34m(*args, **kwargs)\u001b[0m\n\u001b[1;32m    159\u001b[0m                               category=category)\n\u001b[1;32m    160\u001b[0m \u001b[0;34m\u001b[0m\u001b[0m\n\u001b[0;32m--> 161\u001b[0;31m             \u001b[0;32mreturn\u001b[0m \u001b[0mfunc\u001b[0m\u001b[0;34m(\u001b[0m\u001b[0;34m*\u001b[0m\u001b[0margs\u001b[0m\u001b[0;34m,\u001b[0m \u001b[0;34m**\u001b[0m\u001b[0mkwargs\u001b[0m\u001b[0;34m)\u001b[0m\u001b[0;34m\u001b[0m\u001b[0;34m\u001b[0m\u001b[0m\n\u001b[0m\u001b[1;32m    162\u001b[0m \u001b[0;34m\u001b[0m\u001b[0m\n\u001b[1;32m    163\u001b[0m         \u001b[0;32mreturn\u001b[0m \u001b[0mwrapper\u001b[0m\u001b[0;34m\u001b[0m\u001b[0;34m\u001b[0m\u001b[0m\n",
      "\u001b[0;32m/media/cfs/zhangjun386/.pylib/lib/python3.6/site-packages/graphviz/piping.py\u001b[0m in \u001b[0;36m_pipe_legacy\u001b[0;34m(self, format, renderer, formatter, quiet, engine, encoding)\u001b[0m\n\u001b[1;32m    116\u001b[0m                                  \u001b[0mquiet\u001b[0m\u001b[0;34m=\u001b[0m\u001b[0mquiet\u001b[0m\u001b[0;34m,\u001b[0m\u001b[0;34m\u001b[0m\u001b[0;34m\u001b[0m\u001b[0m\n\u001b[1;32m    117\u001b[0m                                  \u001b[0mengine\u001b[0m\u001b[0;34m=\u001b[0m\u001b[0mengine\u001b[0m\u001b[0;34m,\u001b[0m\u001b[0;34m\u001b[0m\u001b[0;34m\u001b[0m\u001b[0m\n\u001b[0;32m--> 118\u001b[0;31m                                  encoding=encoding)\n\u001b[0m\u001b[1;32m    119\u001b[0m \u001b[0;34m\u001b[0m\u001b[0m\n\u001b[1;32m    120\u001b[0m     def _pipe_future(self, format: typing.Optional[str] = None, *,\n",
      "\u001b[0;32m/media/cfs/zhangjun386/.pylib/lib/python3.6/site-packages/graphviz/piping.py\u001b[0m in \u001b[0;36m_pipe_future\u001b[0;34m(self, format, renderer, formatter, quiet, engine, encoding)\u001b[0m\n\u001b[1;32m    139\u001b[0m             \u001b[0mraw\u001b[0m \u001b[0;34m=\u001b[0m \u001b[0mself\u001b[0m\u001b[0;34m.\u001b[0m\u001b[0m_pipe_lines\u001b[0m\u001b[0;34m(\u001b[0m\u001b[0;34m*\u001b[0m\u001b[0margs\u001b[0m\u001b[0;34m,\u001b[0m \u001b[0minput_encoding\u001b[0m\u001b[0;34m=\u001b[0m\u001b[0mself\u001b[0m\u001b[0;34m.\u001b[0m\u001b[0mencoding\u001b[0m\u001b[0;34m,\u001b[0m \u001b[0;34m**\u001b[0m\u001b[0mkwargs\u001b[0m\u001b[0;34m)\u001b[0m\u001b[0;34m\u001b[0m\u001b[0;34m\u001b[0m\u001b[0m\n\u001b[1;32m    140\u001b[0m             \u001b[0;32mreturn\u001b[0m \u001b[0mraw\u001b[0m\u001b[0;34m.\u001b[0m\u001b[0mdecode\u001b[0m\u001b[0;34m(\u001b[0m\u001b[0mencoding\u001b[0m\u001b[0;34m)\u001b[0m\u001b[0;34m\u001b[0m\u001b[0;34m\u001b[0m\u001b[0m\n\u001b[0;32m--> 141\u001b[0;31m         \u001b[0;32mreturn\u001b[0m \u001b[0mself\u001b[0m\u001b[0;34m.\u001b[0m\u001b[0m_pipe_lines\u001b[0m\u001b[0;34m(\u001b[0m\u001b[0;34m*\u001b[0m\u001b[0margs\u001b[0m\u001b[0;34m,\u001b[0m \u001b[0minput_encoding\u001b[0m\u001b[0;34m=\u001b[0m\u001b[0mself\u001b[0m\u001b[0;34m.\u001b[0m\u001b[0mencoding\u001b[0m\u001b[0;34m,\u001b[0m \u001b[0;34m**\u001b[0m\u001b[0mkwargs\u001b[0m\u001b[0;34m)\u001b[0m\u001b[0;34m\u001b[0m\u001b[0;34m\u001b[0m\u001b[0m\n\u001b[0m",
      "\u001b[0;32m/media/cfs/zhangjun386/.pylib/lib/python3.6/site-packages/graphviz/backend/piping.py\u001b[0m in \u001b[0;36mpipe_lines\u001b[0;34m(engine, format, input_lines, input_encoding, renderer, formatter, quiet)\u001b[0m\n\u001b[1;32m    147\u001b[0m     \u001b[0mkwargs\u001b[0m \u001b[0;34m=\u001b[0m \u001b[0;34m{\u001b[0m\u001b[0;34m'input_lines'\u001b[0m\u001b[0;34m:\u001b[0m \u001b[0;34m(\u001b[0m\u001b[0mline\u001b[0m\u001b[0;34m.\u001b[0m\u001b[0mencode\u001b[0m\u001b[0;34m(\u001b[0m\u001b[0minput_encoding\u001b[0m\u001b[0;34m)\u001b[0m \u001b[0;32mfor\u001b[0m \u001b[0mline\u001b[0m \u001b[0;32min\u001b[0m \u001b[0minput_lines\u001b[0m\u001b[0;34m)\u001b[0m\u001b[0;34m}\u001b[0m\u001b[0;34m\u001b[0m\u001b[0;34m\u001b[0m\u001b[0m\n\u001b[1;32m    148\u001b[0m \u001b[0;34m\u001b[0m\u001b[0m\n\u001b[0;32m--> 149\u001b[0;31m     \u001b[0mproc\u001b[0m \u001b[0;34m=\u001b[0m \u001b[0mexecute\u001b[0m\u001b[0;34m.\u001b[0m\u001b[0mrun_check\u001b[0m\u001b[0;34m(\u001b[0m\u001b[0mcmd\u001b[0m\u001b[0;34m,\u001b[0m \u001b[0mcapture_output\u001b[0m\u001b[0;34m=\u001b[0m\u001b[0;32mTrue\u001b[0m\u001b[0;34m,\u001b[0m \u001b[0mquiet\u001b[0m\u001b[0;34m=\u001b[0m\u001b[0mquiet\u001b[0m\u001b[0;34m,\u001b[0m \u001b[0;34m**\u001b[0m\u001b[0mkwargs\u001b[0m\u001b[0;34m)\u001b[0m\u001b[0;34m\u001b[0m\u001b[0;34m\u001b[0m\u001b[0m\n\u001b[0m\u001b[1;32m    150\u001b[0m     \u001b[0;32mreturn\u001b[0m \u001b[0mproc\u001b[0m\u001b[0;34m.\u001b[0m\u001b[0mstdout\u001b[0m\u001b[0;34m\u001b[0m\u001b[0;34m\u001b[0m\u001b[0m\n\u001b[1;32m    151\u001b[0m \u001b[0;34m\u001b[0m\u001b[0m\n",
      "\u001b[0;32m/media/cfs/zhangjun386/.pylib/lib/python3.6/site-packages/graphviz/backend/execute.py\u001b[0m in \u001b[0;36mrun_check\u001b[0;34m(cmd, input_lines, encoding, capture_output, quiet, **kwargs)\u001b[0m\n\u001b[1;32m     86\u001b[0m     \u001b[0;32mexcept\u001b[0m \u001b[0mOSError\u001b[0m \u001b[0;32mas\u001b[0m \u001b[0me\u001b[0m\u001b[0;34m:\u001b[0m\u001b[0;34m\u001b[0m\u001b[0;34m\u001b[0m\u001b[0m\n\u001b[1;32m     87\u001b[0m         \u001b[0;32mif\u001b[0m \u001b[0me\u001b[0m\u001b[0;34m.\u001b[0m\u001b[0merrno\u001b[0m \u001b[0;34m==\u001b[0m \u001b[0merrno\u001b[0m\u001b[0;34m.\u001b[0m\u001b[0mENOENT\u001b[0m\u001b[0;34m:\u001b[0m\u001b[0;34m\u001b[0m\u001b[0;34m\u001b[0m\u001b[0m\n\u001b[0;32m---> 88\u001b[0;31m             \u001b[0;32mraise\u001b[0m \u001b[0mExecutableNotFound\u001b[0m\u001b[0;34m(\u001b[0m\u001b[0mcmd\u001b[0m\u001b[0;34m)\u001b[0m \u001b[0;32mfrom\u001b[0m \u001b[0me\u001b[0m\u001b[0;34m\u001b[0m\u001b[0;34m\u001b[0m\u001b[0m\n\u001b[0m\u001b[1;32m     89\u001b[0m         \u001b[0;32mraise\u001b[0m\u001b[0;34m\u001b[0m\u001b[0;34m\u001b[0m\u001b[0m\n\u001b[1;32m     90\u001b[0m \u001b[0;34m\u001b[0m\u001b[0m\n",
      "\u001b[0;31mExecutableNotFound\u001b[0m: failed to execute PosixPath('dot'), make sure the Graphviz executables are on your systems' PATH"
     ]
    },
    {
     "data": {
      "image/png": "[encoded data removed]",
      "text/plain": [
       "<Figure size 1440x1440 with 1 Axes>"
      ]
     },
     "metadata": {
      "needs_background": "light"
     },
     "output_type": "display_data"
    }
   ],
   "source": [
    "fig2 = plt.figure(figsize=(20, 20))\n",
    "ax = fig2.subplots()\n",
    "lgb.plot_tree(bst, tree_index=1, ax=ax)\n",
    "plt.show()"
   ]
  },
  {
   "cell_type": "code",
   "execution_count": null,
   "metadata": {},
   "outputs": [],
   "source": []
  }
 ],
 "metadata": {
  "kernelspec": {
   "display_name": "Python3 (PySpark)",
   "language": "python",
   "name": "python3"
  },
  "language_info": {
   "codemirror_mode": {
    "name": "ipython",
    "version": 3
   },
   "file_extension": ".py",
   "mimetype": "text/x-python",
   "name": "python",
   "nbconvert_exporter": "python",
   "pygments_lexer": "ipython3",
   "version": "3.6.7"
  }
 },
 "nbformat": 4,
 "nbformat_minor": 4
}
