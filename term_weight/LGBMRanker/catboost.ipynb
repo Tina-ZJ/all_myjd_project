{
 "cells": [
  {
   "cell_type": "code",
   "execution_count": 1,
   "metadata": {},
   "outputs": [],
   "source": [
    "import numpy as np \n",
    "import pandas as pd\n",
    "import os\n",
    "from sklearn.metrics import mean_squared_error\n",
    "from sklearn import feature_selection\n",
    "from catboost import CatBoostClassifier\n",
    "from sklearn.model_selection import train_test_split\n",
    "from sklearn import preprocessing\n",
    "import seaborn as sns\n",
    "import matplotlib.pyplot as plt"
   ]
  },
  {
   "cell_type": "code",
   "execution_count": 2,
   "metadata": {},
   "outputs": [
    {
     "data": {
      "text/html": [
       "<div>\n",
       "<style scoped>\n",
       "    .dataframe tbody tr th:only-of-type {\n",
       "        vertical-align: middle;\n",
       "    }\n",
       "\n",
       "    .dataframe tbody tr th {\n",
       "        vertical-align: top;\n",
       "    }\n",
       "\n",
       "    .dataframe thead th {\n",
       "        text-align: right;\n",
       "    }\n",
       "</style>\n",
       "<table border=\"1\" class=\"dataframe\">\n",
       "  <thead>\n",
       "    <tr style=\"text-align: right;\">\n",
       "      <th></th>\n",
       "      <th>query</th>\n",
       "      <th>pair</th>\n",
       "      <th>f_cid3</th>\n",
       "      <th>f_brand</th>\n",
       "      <th>f_ctf</th>\n",
       "      <th>f_ctf_cofidence</th>\n",
       "      <th>f_rf</th>\n",
       "      <th>f_icf</th>\n",
       "      <th>f_icf_confidence</th>\n",
       "      <th>f_icf_max</th>\n",
       "      <th>...</th>\n",
       "      <th>b_brand</th>\n",
       "      <th>b_ctf</th>\n",
       "      <th>b_ctf_cofidence</th>\n",
       "      <th>b_rf</th>\n",
       "      <th>b_icf</th>\n",
       "      <th>b_icf_confidence</th>\n",
       "      <th>b_icf_max</th>\n",
       "      <th>b_igm</th>\n",
       "      <th>b_entropy</th>\n",
       "      <th>label</th>\n",
       "    </tr>\n",
       "  </thead>\n",
       "  <tbody>\n",
       "    <tr>\n",
       "      <th>0</th>\n",
       "      <td>工控一体机电脑</td>\n",
       "      <td>[\"工控\",\"一体机\"]</td>\n",
       "      <td>12798</td>\n",
       "      <td>0</td>\n",
       "      <td>0.089458</td>\n",
       "      <td>0.633673</td>\n",
       "      <td>3.379758</td>\n",
       "      <td>2.883063</td>\n",
       "      <td>2.825473</td>\n",
       "      <td>2.542133</td>\n",
       "      <td>...</td>\n",
       "      <td>0</td>\n",
       "      <td>1.461409</td>\n",
       "      <td>0.945565</td>\n",
       "      <td>4.503264</td>\n",
       "      <td>1.755967</td>\n",
       "      <td>1.566330</td>\n",
       "      <td>1.416464</td>\n",
       "      <td>0.000693</td>\n",
       "      <td>48.610466</td>\n",
       "      <td>0</td>\n",
       "    </tr>\n",
       "    <tr>\n",
       "      <th>1</th>\n",
       "      <td>工控一体机电脑</td>\n",
       "      <td>[\"工控\",\"电脑\"]</td>\n",
       "      <td>12798</td>\n",
       "      <td>0</td>\n",
       "      <td>0.089458</td>\n",
       "      <td>0.633673</td>\n",
       "      <td>3.379758</td>\n",
       "      <td>2.883063</td>\n",
       "      <td>2.825473</td>\n",
       "      <td>2.542133</td>\n",
       "      <td>...</td>\n",
       "      <td>0</td>\n",
       "      <td>1.413284</td>\n",
       "      <td>0.688966</td>\n",
       "      <td>4.009263</td>\n",
       "      <td>1.242405</td>\n",
       "      <td>0.901759</td>\n",
       "      <td>0.903178</td>\n",
       "      <td>0.000363</td>\n",
       "      <td>78.061700</td>\n",
       "      <td>0</td>\n",
       "    </tr>\n",
       "    <tr>\n",
       "      <th>2</th>\n",
       "      <td>工控一体机电脑</td>\n",
       "      <td>[\"一体机\",\"电脑\"]</td>\n",
       "      <td>12798</td>\n",
       "      <td>0</td>\n",
       "      <td>1.461409</td>\n",
       "      <td>0.945565</td>\n",
       "      <td>4.503264</td>\n",
       "      <td>1.755967</td>\n",
       "      <td>1.566330</td>\n",
       "      <td>1.416464</td>\n",
       "      <td>...</td>\n",
       "      <td>0</td>\n",
       "      <td>1.413284</td>\n",
       "      <td>0.688966</td>\n",
       "      <td>4.009263</td>\n",
       "      <td>1.242405</td>\n",
       "      <td>0.901759</td>\n",
       "      <td>0.903178</td>\n",
       "      <td>0.000363</td>\n",
       "      <td>78.061700</td>\n",
       "      <td>1</td>\n",
       "    </tr>\n",
       "    <tr>\n",
       "      <th>3</th>\n",
       "      <td>巧束卫生巾</td>\n",
       "      <td>[\"巧束\",\"卫生巾\"]</td>\n",
       "      <td>16800</td>\n",
       "      <td>0</td>\n",
       "      <td>0.006568</td>\n",
       "      <td>0.726057</td>\n",
       "      <td>2.908800</td>\n",
       "      <td>6.269570</td>\n",
       "      <td>6.267675</td>\n",
       "      <td>5.870127</td>\n",
       "      <td>...</td>\n",
       "      <td>0</td>\n",
       "      <td>1.265068</td>\n",
       "      <td>0.981131</td>\n",
       "      <td>6.495395</td>\n",
       "      <td>3.243066</td>\n",
       "      <td>3.203239</td>\n",
       "      <td>2.901222</td>\n",
       "      <td>0.019641</td>\n",
       "      <td>3.472029</td>\n",
       "      <td>1</td>\n",
       "    </tr>\n",
       "    <tr>\n",
       "      <th>4</th>\n",
       "      <td>巴拿马100纪念酒</td>\n",
       "      <td>[\"巴拿马\",\"100\"]</td>\n",
       "      <td>9435</td>\n",
       "      <td>0</td>\n",
       "      <td>0.001675</td>\n",
       "      <td>0.063293</td>\n",
       "      <td>2.983968</td>\n",
       "      <td>3.286416</td>\n",
       "      <td>3.248312</td>\n",
       "      <td>2.944439</td>\n",
       "      <td>...</td>\n",
       "      <td>0</td>\n",
       "      <td>0.002721</td>\n",
       "      <td>0.002883</td>\n",
       "      <td>1.095731</td>\n",
       "      <td>0.406649</td>\n",
       "      <td>-0.689600</td>\n",
       "      <td>0.067654</td>\n",
       "      <td>0.000007</td>\n",
       "      <td>414.643300</td>\n",
       "      <td>1</td>\n",
       "    </tr>\n",
       "  </tbody>\n",
       "</table>\n",
       "<p>5 rows × 23 columns</p>\n",
       "</div>"
      ],
      "text/plain": [
       "       query           pair  f_cid3  f_brand     f_ctf  f_ctf_cofidence  \\\n",
       "0    工控一体机电脑   [\"工控\",\"一体机\"]   12798        0  0.089458         0.633673   \n",
       "1    工控一体机电脑    [\"工控\",\"电脑\"]   12798        0  0.089458         0.633673   \n",
       "2    工控一体机电脑   [\"一体机\",\"电脑\"]   12798        0  1.461409         0.945565   \n",
       "3      巧束卫生巾   [\"巧束\",\"卫生巾\"]   16800        0  0.006568         0.726057   \n",
       "4  巴拿马100纪念酒  [\"巴拿马\",\"100\"]    9435        0  0.001675         0.063293   \n",
       "\n",
       "       f_rf     f_icf  f_icf_confidence  f_icf_max  ...  b_brand     b_ctf  \\\n",
       "0  3.379758  2.883063          2.825473   2.542133  ...        0  1.461409   \n",
       "1  3.379758  2.883063          2.825473   2.542133  ...        0  1.413284   \n",
       "2  4.503264  1.755967          1.566330   1.416464  ...        0  1.413284   \n",
       "3  2.908800  6.269570          6.267675   5.870127  ...        0  1.265068   \n",
       "4  2.983968  3.286416          3.248312   2.944439  ...        0  0.002721   \n",
       "\n",
       "   b_ctf_cofidence      b_rf     b_icf  b_icf_confidence  b_icf_max     b_igm  \\\n",
       "0         0.945565  4.503264  1.755967          1.566330   1.416464  0.000693   \n",
       "1         0.688966  4.009263  1.242405          0.901759   0.903178  0.000363   \n",
       "2         0.688966  4.009263  1.242405          0.901759   0.903178  0.000363   \n",
       "3         0.981131  6.495395  3.243066          3.203239   2.901222  0.019641   \n",
       "4         0.002883  1.095731  0.406649         -0.689600   0.067654  0.000007   \n",
       "\n",
       "    b_entropy  label  \n",
       "0   48.610466      0  \n",
       "1   78.061700      0  \n",
       "2   78.061700      1  \n",
       "3    3.472029      1  \n",
       "4  414.643300      1  \n",
       "\n",
       "[5 rows x 23 columns]"
      ]
     },
     "execution_count": 2,
     "metadata": {},
     "output_type": "execute_result"
    }
   ],
   "source": [
    "df = pd.read_csv('data.csv')\n",
    "df.head()"
   ]
  },
  {
   "cell_type": "code",
   "execution_count": 3,
   "metadata": {},
   "outputs": [
    {
     "data": {
      "text/plain": [
       "Index(['query', 'pair', 'f_cid3', 'f_brand', 'f_ctf', 'f_ctf_cofidence',\n",
       "       'f_rf', 'f_icf', 'f_icf_confidence', 'f_icf_max', 'f_igm', 'f_entropy',\n",
       "       'b_cid3', 'b_brand', 'b_ctf', 'b_ctf_cofidence', 'b_rf', 'b_icf',\n",
       "       'b_icf_confidence', 'b_icf_max', 'b_igm', 'b_entropy', 'label'],\n",
       "      dtype='object')"
      ]
     },
     "execution_count": 3,
     "metadata": {},
     "output_type": "execute_result"
    }
   ],
   "source": [
    "df.columns"
   ]
  },
  {
   "cell_type": "code",
   "execution_count": 4,
   "metadata": {},
   "outputs": [
    {
     "data": {
      "text/plain": [
       "count   93302.00\n",
       "mean        0.27\n",
       "std         0.42\n",
       "min         0.00\n",
       "25%         0.01\n",
       "50%         0.05\n",
       "75%         0.36\n",
       "max         3.43\n",
       "Name: f_ctf, dtype: float64"
      ]
     },
     "execution_count": 4,
     "metadata": {},
     "output_type": "execute_result"
    }
   ],
   "source": [
    "pd.set_option('display.float_format', '{:.2f}'.format)\n",
    "df.f_ctf.describe()"
   ]
  },
  {
   "cell_type": "code",
   "execution_count": 5,
   "metadata": {},
   "outputs": [
    {
     "data": {
      "image/png": "[encoded data removed]",
      "text/plain": [
       "<Figure size 720x288 with 1 Axes>"
      ]
     },
     "metadata": {
      "needs_background": "light"
     },
     "output_type": "display_data"
    }
   ],
   "source": [
    "pd.set_option('display.float_format', '{:.2f}'.format)\n",
    "plt.figure(figsize = (10, 4))\n",
    "n, bins, patches = plt.hist(df['f_ctf'], 100, facecolor='blue', alpha=0.75)\n",
    "plt.xlabel('f_ctf')\n",
    "plt.xlim(0, 1)\n",
    "plt.title('Histogram of f_ctf')\n",
    "plt.show();"
   ]
  },
  {
   "cell_type": "code",
   "execution_count": 6,
   "metadata": {},
   "outputs": [
    {
     "data": {
      "image/png": "[encoded data removed]",
      "text/plain": [
       "<Figure size 720x288 with 1 Axes>"
      ]
     },
     "metadata": {
      "needs_background": "light"
     },
     "output_type": "display_data"
    }
   ],
   "source": [
    "plt.figure(figsize = (10, 4))\n",
    "plt.scatter(range(df.shape[0]), np.sort(df['f_ctf'].values))\n",
    "plt.xlabel('index')\n",
    "plt.ylabel('f_ctf')\n",
    "plt.title(\"f_ctf Distribution\")\n",
    "plt.show();"
   ]
  },
  {
   "cell_type": "code",
   "execution_count": 7,
   "metadata": {},
   "outputs": [
    {
     "data": {
      "text/plain": [
       "Index(['f_cid3', 'f_brand', 'f_ctf', 'f_ctf_cofidence', 'f_rf', 'f_icf',\n",
       "       'f_icf_confidence', 'f_icf_max', 'f_igm', 'f_entropy', 'b_cid3',\n",
       "       'b_brand', 'b_ctf', 'b_ctf_cofidence', 'b_rf', 'b_icf',\n",
       "       'b_icf_confidence', 'b_icf_max', 'b_igm', 'b_entropy', 'label'],\n",
       "      dtype='object')"
      ]
     },
     "execution_count": 7,
     "metadata": {},
     "output_type": "execute_result"
    }
   ],
   "source": [
    "df.drop(['query', 'pair'],axis=1, inplace=True)\n",
    "df.columns"
   ]
  },
  {
   "cell_type": "code",
   "execution_count": 8,
   "metadata": {},
   "outputs": [],
   "source": [
    "categorical=['f_cid3','f_brand','b_cid3','b_brand']"
   ]
  },
  {
   "cell_type": "code",
   "execution_count": 9,
   "metadata": {},
   "outputs": [],
   "source": [
    "X = df.drop('label', axis=1)\n",
    "y = df.label"
   ]
  },
  {
   "cell_type": "code",
   "execution_count": 10,
   "metadata": {},
   "outputs": [],
   "source": [
    "# Prepare Categorical features indices\n",
    "def column_index(df, query_cols):\n",
    "    cols = df.columns.values\n",
    "    sidx = np.argsort(cols)\n",
    "    return sidx[np.searchsorted(cols, query_cols, sorter=sidx)]\n",
    "\n",
    "\n",
    "categorical_features_indices = column_index(X, categorical)"
   ]
  },
  {
   "cell_type": "code",
   "execution_count": 11,
   "metadata": {},
   "outputs": [
    {
     "data": {
      "text/plain": [
       "array([ 0,  1, 10, 11])"
      ]
     },
     "execution_count": 11,
     "metadata": {},
     "output_type": "execute_result"
    }
   ],
   "source": [
    "categorical_features_indices"
   ]
  },
  {
   "cell_type": "code",
   "execution_count": 13,
   "metadata": {},
   "outputs": [],
   "source": [
    "X_train, X_valid, y_train, y_valid = train_test_split(\n",
    "    X, y, test_size=0.20, random_state=42)"
   ]
  },
  {
   "cell_type": "code",
   "execution_count": 14,
   "metadata": {},
   "outputs": [
    {
     "data": {
      "application/vnd.jupyter.widget-view+json": {
       "model_id": "ae3c4e82dd774bd3a52dd5019847d256",
       "version_major": 2,
       "version_minor": 0
      },
      "text/plain": [
       "MetricVisualizer(layout=Layout(align_self='stretch', height='500px'))"
      ]
     },
     "metadata": {},
     "output_type": "display_data"
    },
    {
     "name": "stderr",
     "output_type": "stream",
     "text": [
      "Warning: Overfitting detector is active, thus evaluation metric is calculated on every iteration. 'metric_period' is ignored for evaluation metric.\n"
     ]
    },
    {
     "name": "stdout",
     "output_type": "stream",
     "text": [
      "0:\ttest: 0.9314067\tbest: 0.9314067 (0)\ttotal: 2.81s\tremaining: 32m 48s\n",
      "75:\ttest: 0.9542982\tbest: 0.9543035 (74)\ttotal: 3m 18s\tremaining: 27m 10s\n",
      "150:\ttest: 0.9570179\tbest: 0.9570179 (150)\ttotal: 6m 38s\tremaining: 24m 9s\n",
      "225:\ttest: 0.9583704\tbest: 0.9583717 (224)\ttotal: 9m 58s\tremaining: 20m 56s\n",
      "300:\ttest: 0.9592288\tbest: 0.9592288 (300)\ttotal: 13m 10s\tremaining: 17m 27s\n",
      "375:\ttest: 0.9598606\tbest: 0.9598606 (375)\ttotal: 16m 21s\tremaining: 14m 5s\n",
      "450:\ttest: 0.9604364\tbest: 0.9604364 (450)\ttotal: 19m 39s\tremaining: 10m 50s\n",
      "525:\ttest: 0.9608340\tbest: 0.9608346 (523)\ttotal: 22m 52s\tremaining: 7m 34s\n",
      "600:\ttest: 0.9611737\tbest: 0.9611737 (600)\ttotal: 25m 53s\tremaining: 4m 15s\n",
      "675:\ttest: 0.9614665\tbest: 0.9614665 (675)\ttotal: 29m 3s\tremaining: 1m 1s\n",
      "699:\ttest: 0.9615581\tbest: 0.9615621 (698)\ttotal: 30m 8s\tremaining: 0us\n",
      "\n",
      "bestTest = 0.9615621288\n",
      "bestIteration = 698\n",
      "\n",
      "Shrink model to first 699 iterations.\n"
     ]
    },
    {
     "data": {
      "text/plain": [
       "<catboost.core.CatBoostClassifier at 0x7fb72aac7f98>"
      ]
     },
     "execution_count": 14,
     "metadata": {},
     "output_type": "execute_result"
    }
   ],
   "source": [
    "model =  CatBoostClassifier(iterations=700,\n",
    "                             learning_rate=0.01,\n",
    "                             depth=15,\n",
    "                             eval_metric='AUC',\n",
    "                             random_seed = 42,\n",
    "                             bagging_temperature = 0.2,\n",
    "                             od_type='Iter',\n",
    "                             metric_period = 75,\n",
    "                             loss_function='Logloss',\n",
    "                             od_wait=100)\n",
    "model.fit(X_train, y_train,\n",
    "                 eval_set=(X_valid, y_valid),\n",
    "                 cat_features=categorical_features_indices,\n",
    "                 use_best_model=True,\n",
    "                 plot=True)"
   ]
  },
  {
   "cell_type": "code",
   "execution_count": 15,
   "metadata": {},
   "outputs": [
    {
     "data": {
      "image/png": "[encoded data removed]",
      "text/plain": [
       "<Figure size 720x504 with 1 Axes>"
      ]
     },
     "metadata": {
      "needs_background": "light"
     },
     "output_type": "display_data"
    }
   ],
   "source": [
    "fea_imp = pd.DataFrame({'imp': model.feature_importances_, 'col': X.columns})\n",
    "fea_imp = fea_imp.sort_values(['imp', 'col'], ascending=[True, False]).iloc[-30:]\n",
    "fea_imp.plot(kind='barh', x='col', y='imp', figsize=(10, 7), legend=None)\n",
    "plt.title('CatBoost - Feature Importance')\n",
    "plt.ylabel('Features')\n",
    "plt.xlabel('Importance');"
   ]
  },
  {
   "cell_type": "code",
   "execution_count": 16,
   "metadata": {},
   "outputs": [
    {
     "data": {
      "text/html": [
       "<div>\n",
       "<style scoped>\n",
       "    .dataframe tbody tr th:only-of-type {\n",
       "        vertical-align: middle;\n",
       "    }\n",
       "\n",
       "    .dataframe tbody tr th {\n",
       "        vertical-align: top;\n",
       "    }\n",
       "\n",
       "    .dataframe thead th {\n",
       "        text-align: right;\n",
       "    }\n",
       "</style>\n",
       "<table border=\"1\" class=\"dataframe\">\n",
       "  <thead>\n",
       "    <tr style=\"text-align: right;\">\n",
       "      <th></th>\n",
       "      <th>imp</th>\n",
       "      <th>col</th>\n",
       "    </tr>\n",
       "  </thead>\n",
       "  <tbody>\n",
       "    <tr>\n",
       "      <th>11</th>\n",
       "      <td>0.87</td>\n",
       "      <td>b_brand</td>\n",
       "    </tr>\n",
       "    <tr>\n",
       "      <th>19</th>\n",
       "      <td>1.54</td>\n",
       "      <td>b_entropy</td>\n",
       "    </tr>\n",
       "    <tr>\n",
       "      <th>7</th>\n",
       "      <td>1.74</td>\n",
       "      <td>f_icf_max</td>\n",
       "    </tr>\n",
       "    <tr>\n",
       "      <th>9</th>\n",
       "      <td>2.03</td>\n",
       "      <td>f_entropy</td>\n",
       "    </tr>\n",
       "    <tr>\n",
       "      <th>17</th>\n",
       "      <td>2.19</td>\n",
       "      <td>b_icf_max</td>\n",
       "    </tr>\n",
       "    <tr>\n",
       "      <th>15</th>\n",
       "      <td>2.24</td>\n",
       "      <td>b_icf</td>\n",
       "    </tr>\n",
       "    <tr>\n",
       "      <th>6</th>\n",
       "      <td>2.38</td>\n",
       "      <td>f_icf_confidence</td>\n",
       "    </tr>\n",
       "    <tr>\n",
       "      <th>16</th>\n",
       "      <td>2.43</td>\n",
       "      <td>b_icf_confidence</td>\n",
       "    </tr>\n",
       "    <tr>\n",
       "      <th>5</th>\n",
       "      <td>2.47</td>\n",
       "      <td>f_icf</td>\n",
       "    </tr>\n",
       "    <tr>\n",
       "      <th>13</th>\n",
       "      <td>4.09</td>\n",
       "      <td>b_ctf_cofidence</td>\n",
       "    </tr>\n",
       "    <tr>\n",
       "      <th>10</th>\n",
       "      <td>5.12</td>\n",
       "      <td>b_cid3</td>\n",
       "    </tr>\n",
       "    <tr>\n",
       "      <th>14</th>\n",
       "      <td>5.12</td>\n",
       "      <td>b_rf</td>\n",
       "    </tr>\n",
       "    <tr>\n",
       "      <th>4</th>\n",
       "      <td>5.13</td>\n",
       "      <td>f_rf</td>\n",
       "    </tr>\n",
       "    <tr>\n",
       "      <th>1</th>\n",
       "      <td>5.29</td>\n",
       "      <td>f_brand</td>\n",
       "    </tr>\n",
       "    <tr>\n",
       "      <th>8</th>\n",
       "      <td>5.77</td>\n",
       "      <td>f_igm</td>\n",
       "    </tr>\n",
       "    <tr>\n",
       "      <th>3</th>\n",
       "      <td>5.85</td>\n",
       "      <td>f_ctf_cofidence</td>\n",
       "    </tr>\n",
       "    <tr>\n",
       "      <th>18</th>\n",
       "      <td>6.88</td>\n",
       "      <td>b_igm</td>\n",
       "    </tr>\n",
       "    <tr>\n",
       "      <th>0</th>\n",
       "      <td>7.37</td>\n",
       "      <td>f_cid3</td>\n",
       "    </tr>\n",
       "    <tr>\n",
       "      <th>2</th>\n",
       "      <td>14.59</td>\n",
       "      <td>f_ctf</td>\n",
       "    </tr>\n",
       "    <tr>\n",
       "      <th>12</th>\n",
       "      <td>16.89</td>\n",
       "      <td>b_ctf</td>\n",
       "    </tr>\n",
       "  </tbody>\n",
       "</table>\n",
       "</div>"
      ],
      "text/plain": [
       "     imp               col\n",
       "11  0.87           b_brand\n",
       "19  1.54         b_entropy\n",
       "7   1.74         f_icf_max\n",
       "9   2.03         f_entropy\n",
       "17  2.19         b_icf_max\n",
       "15  2.24             b_icf\n",
       "6   2.38  f_icf_confidence\n",
       "16  2.43  b_icf_confidence\n",
       "5   2.47             f_icf\n",
       "13  4.09   b_ctf_cofidence\n",
       "10  5.12            b_cid3\n",
       "14  5.12              b_rf\n",
       "4   5.13              f_rf\n",
       "1   5.29           f_brand\n",
       "8   5.77             f_igm\n",
       "3   5.85   f_ctf_cofidence\n",
       "18  6.88             b_igm\n",
       "0   7.37            f_cid3\n",
       "2  14.59             f_ctf\n",
       "12 16.89             b_ctf"
      ]
     },
     "execution_count": 16,
     "metadata": {},
     "output_type": "execute_result"
    }
   ],
   "source": [
    "fea_imp"
   ]
  },
  {
   "cell_type": "code",
   "execution_count": 17,
   "metadata": {},
   "outputs": [],
   "source": [
    "from catboost import CatBoostRanker, Pool, MetricVisualizer"
   ]
  },
  {
   "cell_type": "code",
   "execution_count": null,
   "metadata": {},
   "outputs": [],
   "source": []
  }
 ],
 "metadata": {
  "kernelspec": {
   "display_name": "Python3 (PySpark)",
   "language": "python",
   "name": "python3"
  },
  "language_info": {
   "codemirror_mode": {
    "name": "ipython",
    "version": 3
   },
   "file_extension": ".py",
   "mimetype": "text/x-python",
   "name": "python",
   "nbconvert_exporter": "python",
   "pygments_lexer": "ipython3",
   "version": "3.6.7"
  }
 },
 "nbformat": 4,
 "nbformat_minor": 4
}
